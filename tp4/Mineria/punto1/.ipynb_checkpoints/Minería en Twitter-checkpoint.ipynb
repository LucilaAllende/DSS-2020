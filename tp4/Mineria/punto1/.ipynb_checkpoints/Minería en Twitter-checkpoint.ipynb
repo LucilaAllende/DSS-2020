{
 "cells": [
  {
   "cell_type": "code",
   "execution_count": null,
   "metadata": {},
   "outputs": [],
   "source": []
  },
  {
   "cell_type": "code",
   "execution_count": 2,
   "metadata": {},
   "outputs": [],
   "source": [
    "import tweepy\n",
    "import json"
   ]
  },
  {
   "cell_type": "code",
   "execution_count": 3,
   "metadata": {},
   "outputs": [],
   "source": [
    "# 4 cadenas para la autenticacion\n",
    "consumer_key = \"bTxpub0RLikH5NwPSr9gmc7xM\"\n",
    "consumer_secret = \"Ed6Uhq5wcaicGoqeUUcbCxfJax03UqjBSK43HkfsIvyMoCFdqe\"\n",
    "access_token = \"435824758-ZsMsjUJk8sfvu6LZmBLQOEqyz7C1vpbi389RAep3\"\n",
    "access_token_secret = \"8hz9VPgBZKuQxPe99AIs4wP1SL9YtVAc4quTz4h8GOR8G\""
   ]
  },
  {
   "cell_type": "code",
   "execution_count": 4,
   "metadata": {},
   "outputs": [],
   "source": [
    "auth = tweepy.OAuthHandler(consumer_key, consumer_secret)\n",
    "auth.set_access_token(access_token, access_token_secret)\n",
    "\n",
    "# con este objeto realizaremos todas las llamadas al API\n",
    "api = tweepy.API(auth,\n",
    "                 wait_on_rate_limit=True,\n",
    "                 wait_on_rate_limit_notify=True)"
   ]
  },
  {
   "cell_type": "code",
   "execution_count": 5,
   "metadata": {},
   "outputs": [
    {
     "name": "stdout",
     "output_type": "stream",
     "text": [
      "BETTER IS COMING\n",
      "Luzu\n",
      "DVICIO FEAT LALI IS COMING\n"
     ]
    }
   ],
   "source": [
    "argentina_id = 23424747\n",
    "\n",
    "# obtengo los primeros diez TT\n",
    "argentina_trends = api.trends_place(argentina_id)\n",
    "trends = []\n",
    "tweets_limpios = []\n",
    "\n",
    "# Selecionno solo 3 TT\n",
    "for i in range(3):\n",
    "    print(argentina_trends[0]['trends'][i][u'name'])\n",
    "    trends.append(argentina_trends[0]['trends'][i][u'name'])"
   ]
  },
  {
   "cell_type": "code",
   "execution_count": 8,
   "metadata": {},
   "outputs": [
    {
     "name": "stdout",
     "output_type": "stream",
     "text": [
      "Escribiendo ... \n",
      "Escribiendo ... \n",
      "Escribiendo ... \n",
      "Escribiendo ... \n",
      "Escribiendo ... \n",
      "Escribiendo ... \n"
     ]
    }
   ],
   "source": [
    "tweets = []\n",
    "\n",
    "with open('data_nueva_3.json', 'w') as f:\n",
    "    json.dump([], f)\n",
    "\n",
    "with open('data_nueva_3.json', 'w') as outfile:\n",
    "    for trend in range(3):\n",
    "        for tweet in tweepy.Cursor(api.search, q=trends[trend], tweet_mode=\"extended\").items(2):\n",
    "            print(\"Escribiendo ... \")\n",
    "            tweets.append(tweet._json)\n",
    "    outfile.write(json.dumps(\n",
    "        tweets, ensure_ascii=False, indent=4))"
   ]
  },
  {
   "cell_type": "code",
   "execution_count": 9,
   "metadata": {},
   "outputs": [
    {
     "name": "stdout",
     "output_type": "stream",
     "text": [
      "Contenido de tweets\n",
      "[{'created_at': 'Wed Sep 23 19:41:47 +0000 2020', 'id': 1308854092299673603, 'id_str': '1308854092299673603', 'full_text': 'RT @iHeartRadio: ZAYN IS COMING. I REPEAT @zaynmalik IS COMING!!! 💥 #Better https://t.co/7wNgiMkp2d', 'truncated': False, 'display_text_range': [0, 99], 'entities': {'hashtags': [{'text': 'Better', 'indices': [68, 75]}], 'symbols': [], 'user_mentions': [{'screen_name': 'iHeartRadio', 'name': 'iHeartRadio', 'id': 46116615, 'id_str': '46116615', 'indices': [3, 15]}, {'screen_name': 'zaynmalik', 'name': 'zayn', 'id': 176566242, 'id_str': '176566242', 'indices': [42, 52]}], 'urls': [{'url': 'https://t.co/7wNgiMkp2d', 'expanded_url': 'https://ihr.fm/368Evqi', 'display_url': 'ihr.fm/368Evqi', 'indices': [76, 99]}]}, 'metadata': {'iso_language_code': 'en', 'result_type': 'recent'}, 'source': '<a href=\"http://twitter.com/download/android\" rel=\"nofollow\">Twitter for Android</a>', 'in_reply_to_status_id': None, 'in_reply_to_status_id_str': None, 'in_reply_to_user_id': None, 'in_reply_to_user_id_str': None, 'in_reply_to_screen_name': None, 'user': {'id': 800731893167636480, 'id_str': '800731893167636480', 'name': 'LICE', 'screen_name': 'ZMmemories', 'location': '', 'description': 'Estou aqui para enaltecer @zaynmalik e @onedirection', 'url': None, 'entities': {'description': {'urls': []}}, 'protected': False, 'followers_count': 2519, 'friends_count': 448, 'listed_count': 4, 'created_at': 'Mon Nov 21 16:05:35 +0000 2016', 'favourites_count': 25113, 'utc_offset': None, 'time_zone': None, 'geo_enabled': False, 'verified': False, 'statuses_count': 53536, 'lang': None, 'contributors_enabled': False, 'is_translator': False, 'is_translation_enabled': False, 'profile_background_color': 'C0DEED', 'profile_background_image_url': 'http://abs.twimg.com/images/themes/theme1/bg.png', 'profile_background_image_url_https': 'https://abs.twimg.com/images/themes/theme1/bg.png', 'profile_background_tile': False, 'profile_image_url': 'http://pbs.twimg.com/profile_images/1216560676208107520/mOlwCRuX_normal.jpg', 'profile_image_url_https': 'https://pbs.twimg.com/profile_images/1216560676208107520/mOlwCRuX_normal.jpg', 'profile_banner_url': 'https://pbs.twimg.com/profile_banners/800731893167636480/1580491763', 'profile_link_color': '1DA1F2', 'profile_sidebar_border_color': 'C0DEED', 'profile_sidebar_fill_color': 'DDEEF6', 'profile_text_color': '333333', 'profile_use_background_image': True, 'has_extended_profile': True, 'default_profile': True, 'default_profile_image': False, 'following': False, 'follow_request_sent': False, 'notifications': False, 'translator_type': 'none'}, 'geo': None, 'coordinates': None, 'place': None, 'contributors': None, 'retweeted_status': {'created_at': 'Wed Sep 23 18:30:00 +0000 2020', 'id': 1308836026547273729, 'id_str': '1308836026547273729', 'full_text': 'ZAYN IS COMING. I REPEAT @zaynmalik IS COMING!!! 💥 #Better https://t.co/7wNgiMkp2d', 'truncated': False, 'display_text_range': [0, 82], 'entities': {'hashtags': [{'text': 'Better', 'indices': [51, 58]}], 'symbols': [], 'user_mentions': [{'screen_name': 'zaynmalik', 'name': 'zayn', 'id': 176566242, 'id_str': '176566242', 'indices': [25, 35]}], 'urls': [{'url': 'https://t.co/7wNgiMkp2d', 'expanded_url': 'https://ihr.fm/368Evqi', 'display_url': 'ihr.fm/368Evqi', 'indices': [59, 82]}]}, 'metadata': {'iso_language_code': 'en', 'result_type': 'recent'}, 'source': '<a href=\"https://about.twitter.com/products/tweetdeck\" rel=\"nofollow\">TweetDeck</a>', 'in_reply_to_status_id': None, 'in_reply_to_status_id_str': None, 'in_reply_to_user_id': None, 'in_reply_to_user_id_str': None, 'in_reply_to_screen_name': None, 'user': {'id': 46116615, 'id_str': '46116615', 'name': 'iHeartRadio', 'screen_name': 'iHeartRadio', 'location': 'United States', 'description': 'Your Music, Your Stations and Podcasts too. All Free.', 'url': 'https://t.co/id6i82tLiU', 'entities': {'url': {'urls': [{'url': 'https://t.co/id6i82tLiU', 'expanded_url': 'http://iheartradio.com', 'display_url': 'iheartradio.com', 'indices': [0, 23]}]}, 'description': {'urls': []}}, 'protected': False, 'followers_count': 1709498, 'friends_count': 71862, 'listed_count': 4640, 'created_at': 'Wed Jun 10 13:56:14 +0000 2009', 'favourites_count': 26878, 'utc_offset': None, 'time_zone': None, 'geo_enabled': True, 'verified': True, 'statuses_count': 136324, 'lang': None, 'contributors_enabled': False, 'is_translator': False, 'is_translation_enabled': False, 'profile_background_color': '000000', 'profile_background_image_url': 'http://abs.twimg.com/images/themes/theme1/bg.png', 'profile_background_image_url_https': 'https://abs.twimg.com/images/themes/theme1/bg.png', 'profile_background_tile': True, 'profile_image_url': 'http://pbs.twimg.com/profile_images/1280136029303947265/cg0zzCzf_normal.jpg', 'profile_image_url_https': 'https://pbs.twimg.com/profile_images/1280136029303947265/cg0zzCzf_normal.jpg', 'profile_banner_url': 'https://pbs.twimg.com/profile_banners/46116615/1600576444', 'profile_link_color': '000000', 'profile_sidebar_border_color': '000000', 'profile_sidebar_fill_color': '2E2E2E', 'profile_text_color': '787878', 'profile_use_background_image': True, 'has_extended_profile': False, 'default_profile': False, 'default_profile_image': False, 'following': False, 'follow_request_sent': False, 'notifications': False, 'translator_type': 'regular'}, 'geo': None, 'coordinates': None, 'place': None, 'contributors': None, 'is_quote_status': False, 'retweet_count': 549, 'favorite_count': 1868, 'favorited': False, 'retweeted': False, 'possibly_sensitive': False, 'lang': 'en'}, 'is_quote_status': False, 'retweet_count': 549, 'favorite_count': 0, 'favorited': False, 'retweeted': False, 'possibly_sensitive': False, 'lang': 'en'}, {'created_at': 'Wed Sep 23 19:41:47 +0000 2020', 'id': 1308854090823327744, 'id_str': '1308854090823327744', 'full_text': '@Zayn_PromoPy Pillowtalk BETTER IS COMING', 'truncated': False, 'display_text_range': [14, 41], 'entities': {'hashtags': [], 'symbols': [], 'user_mentions': [{'screen_name': 'Zayn_PromoPy', 'name': 'ZAYN PROMO', 'id': 1271891623836876802, 'id_str': '1271891623836876802', 'indices': [0, 13]}], 'urls': []}, 'metadata': {'iso_language_code': 'en', 'result_type': 'recent'}, 'source': '<a href=\"http://twitter.com/download/android\" rel=\"nofollow\">Twitter for Android</a>', 'in_reply_to_status_id': 1308847601547202561, 'in_reply_to_status_id_str': '1308847601547202561', 'in_reply_to_user_id': 1271891623836876802, 'in_reply_to_user_id_str': '1271891623836876802', 'in_reply_to_screen_name': 'Zayn_PromoPy', 'user': {'id': 1303148163050672129, 'id_str': '1303148163050672129', 'name': 'Pau²⁸', 'screen_name': 'stan_ljp', 'location': 'LP1', 'description': 'Like a sour diesel.', 'url': 'https://t.co/n3sa5aE9gk', 'entities': {'url': {'urls': [{'url': 'https://t.co/n3sa5aE9gk', 'expanded_url': 'http://Icarus.falls.xn--rei', 'display_url': 'Icarus.falls.❥', 'indices': [0, 23]}]}, 'description': {'urls': []}}, 'protected': False, 'followers_count': 20, 'friends_count': 38, 'listed_count': 0, 'created_at': 'Tue Sep 08 01:49:29 +0000 2020', 'favourites_count': 7, 'utc_offset': None, 'time_zone': None, 'geo_enabled': False, 'verified': False, 'statuses_count': 102, 'lang': None, 'contributors_enabled': False, 'is_translator': False, 'is_translation_enabled': False, 'profile_background_color': 'F5F8FA', 'profile_background_image_url': None, 'profile_background_image_url_https': None, 'profile_background_tile': False, 'profile_image_url': 'http://pbs.twimg.com/profile_images/1308575934119907334/ECQcZ5Xk_normal.jpg', 'profile_image_url_https': 'https://pbs.twimg.com/profile_images/1308575934119907334/ECQcZ5Xk_normal.jpg', 'profile_banner_url': 'https://pbs.twimg.com/profile_banners/1303148163050672129/1600823816', 'profile_link_color': '1DA1F2', 'profile_sidebar_border_color': 'C0DEED', 'profile_sidebar_fill_color': 'DDEEF6', 'profile_text_color': '333333', 'profile_use_background_image': True, 'has_extended_profile': True, 'default_profile': True, 'default_profile_image': False, 'following': False, 'follow_request_sent': False, 'notifications': False, 'translator_type': 'none'}, 'geo': None, 'coordinates': None, 'place': None, 'contributors': None, 'is_quote_status': False, 'retweet_count': 0, 'favorite_count': 0, 'favorited': False, 'retweeted': False, 'lang': 'en'}, {'created_at': 'Wed Sep 23 19:41:47 +0000 2020', 'id': 1308854091792162816, 'id_str': '1308854091792162816', 'full_text': 'RT @expectsamuel: \"willy padre, luzu padre, vegetta espíritu santo\" JAJAJAJA https://t.co/GqxYW2kfGo', 'truncated': False, 'display_text_range': [0, 100], 'entities': {'hashtags': [], 'symbols': [], 'user_mentions': [{'screen_name': 'expectsamuel', 'name': 'daniella', 'id': 625311960, 'id_str': '625311960', 'indices': [3, 16]}], 'urls': [], 'media': [{'id': 1308852399994535942, 'id_str': '1308852399994535942', 'indices': [77, 100], 'media_url': 'http://pbs.twimg.com/ext_tw_video_thumb/1308852399994535942/pu/img/W0vtinGE0k5lpFkj.jpg', 'media_url_https': 'https://pbs.twimg.com/ext_tw_video_thumb/1308852399994535942/pu/img/W0vtinGE0k5lpFkj.jpg', 'url': 'https://t.co/GqxYW2kfGo', 'display_url': 'pic.twitter.com/GqxYW2kfGo', 'expanded_url': 'https://twitter.com/expectsamuel/status/1308852435407056896/video/1', 'type': 'photo', 'sizes': {'thumb': {'w': 150, 'h': 150, 'resize': 'crop'}, 'medium': {'w': 1200, 'h': 675, 'resize': 'fit'}, 'small': {'w': 680, 'h': 383, 'resize': 'fit'}, 'large': {'w': 1280, 'h': 720, 'resize': 'fit'}}, 'source_status_id': 1308852435407056896, 'source_status_id_str': '1308852435407056896', 'source_user_id': 625311960, 'source_user_id_str': '625311960'}]}, 'extended_entities': {'media': [{'id': 1308852399994535942, 'id_str': '1308852399994535942', 'indices': [77, 100], 'media_url': 'http://pbs.twimg.com/ext_tw_video_thumb/1308852399994535942/pu/img/W0vtinGE0k5lpFkj.jpg', 'media_url_https': 'https://pbs.twimg.com/ext_tw_video_thumb/1308852399994535942/pu/img/W0vtinGE0k5lpFkj.jpg', 'url': 'https://t.co/GqxYW2kfGo', 'display_url': 'pic.twitter.com/GqxYW2kfGo', 'expanded_url': 'https://twitter.com/expectsamuel/status/1308852435407056896/video/1', 'type': 'video', 'sizes': {'thumb': {'w': 150, 'h': 150, 'resize': 'crop'}, 'medium': {'w': 1200, 'h': 675, 'resize': 'fit'}, 'small': {'w': 680, 'h': 383, 'resize': 'fit'}, 'large': {'w': 1280, 'h': 720, 'resize': 'fit'}}, 'source_status_id': 1308852435407056896, 'source_status_id_str': '1308852435407056896', 'source_user_id': 625311960, 'source_user_id_str': '625311960', 'video_info': {'aspect_ratio': [16, 9], 'duration_millis': 7168, 'variants': [{'bitrate': 256000, 'content_type': 'video/mp4', 'url': 'https://video.twimg.com/ext_tw_video/1308852399994535942/pu/vid/480x270/mYcskDEgGdVxIX9L.mp4?tag=10'}, {'bitrate': 2176000, 'content_type': 'video/mp4', 'url': 'https://video.twimg.com/ext_tw_video/1308852399994535942/pu/vid/1280x720/4g9d82sz2FWCONPs.mp4?tag=10'}, {'bitrate': 832000, 'content_type': 'video/mp4', 'url': 'https://video.twimg.com/ext_tw_video/1308852399994535942/pu/vid/640x360/_g7YrjPsnShbadjU.mp4?tag=10'}, {'content_type': 'application/x-mpegURL', 'url': 'https://video.twimg.com/ext_tw_video/1308852399994535942/pu/pl/DlwwzaPY_QHC2FBE.m3u8?tag=10'}]}, 'additional_media_info': {'monetizable': False, 'source_user': {'id': 625311960, 'id_str': '625311960', 'name': 'daniella', 'screen_name': 'expectsamuel', 'location': '', 'description': \"𝐢'𝐥𝐥 𝐛𝐞 𝐥𝐢𝐯𝐢𝐧𝐠 𝐨𝐧𝐞 𝐥𝐢𝐟𝐞 𝐟𝐨𝐫 𝐭𝐡𝐞 𝐭𝐰𝐨 𝐨𝐟 𝐮𝐬 #SAMUEL: tu madre no te dio inteligencia cuando naciste? ains, pobre\", 'url': None, 'entities': {'description': {'urls': []}}, 'protected': False, 'followers_count': 3227, 'friends_count': 952, 'listed_count': 33, 'created_at': 'Tue Jul 03 03:50:40 +0000 2012', 'favourites_count': 89069, 'utc_offset': None, 'time_zone': None, 'geo_enabled': False, 'verified': False, 'statuses_count': 71059, 'lang': None, 'contributors_enabled': False, 'is_translator': False, 'is_translation_enabled': False, 'profile_background_color': 'FFFFFF', 'profile_background_image_url': 'http://abs.twimg.com/images/themes/theme9/bg.gif', 'profile_background_image_url_https': 'https://abs.twimg.com/images/themes/theme9/bg.gif', 'profile_background_tile': False, 'profile_image_url': 'http://pbs.twimg.com/profile_images/1305322128011677697/ndnIhjB__normal.jpg', 'profile_image_url_https': 'https://pbs.twimg.com/profile_images/1305322128011677697/ndnIhjB__normal.jpg', 'profile_banner_url': 'https://pbs.twimg.com/profile_banners/625311960/1600057110', 'profile_link_color': '000000', 'profile_sidebar_border_color': 'FFFFFF', 'profile_sidebar_fill_color': '252429', 'profile_text_color': '666666', 'profile_use_background_image': True, 'has_extended_profile': False, 'default_profile': False, 'default_profile_image': False, 'following': False, 'follow_request_sent': False, 'notifications': False, 'translator_type': 'none'}}}]}, 'metadata': {'iso_language_code': 'es', 'result_type': 'recent'}, 'source': '<a href=\"http://twitter.com/download/android\" rel=\"nofollow\">Twitter for Android</a>', 'in_reply_to_status_id': None, 'in_reply_to_status_id_str': None, 'in_reply_to_user_id': None, 'in_reply_to_user_id_str': None, 'in_reply_to_screen_name': None, 'user': {'id': 127227611, 'id_str': '127227611', 'name': 'Ally💜', 'screen_name': 'OlresR', 'location': '', 'description': 'Me obsesiono muy fácil por cualquier cosa y a la semana lo dejo.\\nJoacoS, Carat, Shawol, me gusta el BL & muchas cosas más 🎶\\nCritico todo.', 'url': None, 'entities': {'description': {'urls': []}}, 'protected': False, 'followers_count': 159, 'friends_count': 235, 'listed_count': 0, 'created_at': 'Sun Mar 28 14:12:55 +0000 2010', 'favourites_count': 7067, 'utc_offset': None, 'time_zone': None, 'geo_enabled': False, 'verified': False, 'statuses_count': 12254, 'lang': None, 'contributors_enabled': False, 'is_translator': False, 'is_translation_enabled': False, 'profile_background_color': '000000', 'profile_background_image_url': 'http://abs.twimg.com/images/themes/theme1/bg.png', 'profile_background_image_url_https': 'https://abs.twimg.com/images/themes/theme1/bg.png', 'profile_background_tile': False, 'profile_image_url': 'http://pbs.twimg.com/profile_images/1292314412141993984/il7W_57v_normal.jpg', 'profile_image_url_https': 'https://pbs.twimg.com/profile_images/1292314412141993984/il7W_57v_normal.jpg', 'profile_banner_url': 'https://pbs.twimg.com/profile_banners/127227611/1590988312', 'profile_link_color': 'ABB8C2', 'profile_sidebar_border_color': '000000', 'profile_sidebar_fill_color': '000000', 'profile_text_color': '000000', 'profile_use_background_image': False, 'has_extended_profile': False, 'default_profile': False, 'default_profile_image': False, 'following': False, 'follow_request_sent': False, 'notifications': False, 'translator_type': 'none'}, 'geo': None, 'coordinates': None, 'place': None, 'contributors': None, 'retweeted_status': {'created_at': 'Wed Sep 23 19:35:12 +0000 2020', 'id': 1308852435407056896, 'id_str': '1308852435407056896', 'full_text': '\"willy padre, luzu padre, vegetta espíritu santo\" JAJAJAJA https://t.co/GqxYW2kfGo', 'truncated': False, 'display_text_range': [0, 58], 'entities': {'hashtags': [], 'symbols': [], 'user_mentions': [], 'urls': [], 'media': [{'id': 1308852399994535942, 'id_str': '1308852399994535942', 'indices': [59, 82], 'media_url': 'http://pbs.twimg.com/ext_tw_video_thumb/1308852399994535942/pu/img/W0vtinGE0k5lpFkj.jpg', 'media_url_https': 'https://pbs.twimg.com/ext_tw_video_thumb/1308852399994535942/pu/img/W0vtinGE0k5lpFkj.jpg', 'url': 'https://t.co/GqxYW2kfGo', 'display_url': 'pic.twitter.com/GqxYW2kfGo', 'expanded_url': 'https://twitter.com/expectsamuel/status/1308852435407056896/video/1', 'type': 'photo', 'sizes': {'thumb': {'w': 150, 'h': 150, 'resize': 'crop'}, 'medium': {'w': 1200, 'h': 675, 'resize': 'fit'}, 'small': {'w': 680, 'h': 383, 'resize': 'fit'}, 'large': {'w': 1280, 'h': 720, 'resize': 'fit'}}}]}, 'extended_entities': {'media': [{'id': 1308852399994535942, 'id_str': '1308852399994535942', 'indices': [59, 82], 'media_url': 'http://pbs.twimg.com/ext_tw_video_thumb/1308852399994535942/pu/img/W0vtinGE0k5lpFkj.jpg', 'media_url_https': 'https://pbs.twimg.com/ext_tw_video_thumb/1308852399994535942/pu/img/W0vtinGE0k5lpFkj.jpg', 'url': 'https://t.co/GqxYW2kfGo', 'display_url': 'pic.twitter.com/GqxYW2kfGo', 'expanded_url': 'https://twitter.com/expectsamuel/status/1308852435407056896/video/1', 'type': 'video', 'sizes': {'thumb': {'w': 150, 'h': 150, 'resize': 'crop'}, 'medium': {'w': 1200, 'h': 675, 'resize': 'fit'}, 'small': {'w': 680, 'h': 383, 'resize': 'fit'}, 'large': {'w': 1280, 'h': 720, 'resize': 'fit'}}, 'video_info': {'aspect_ratio': [16, 9], 'duration_millis': 7168, 'variants': [{'bitrate': 256000, 'content_type': 'video/mp4', 'url': 'https://video.twimg.com/ext_tw_video/1308852399994535942/pu/vid/480x270/mYcskDEgGdVxIX9L.mp4?tag=10'}, {'bitrate': 2176000, 'content_type': 'video/mp4', 'url': 'https://video.twimg.com/ext_tw_video/1308852399994535942/pu/vid/1280x720/4g9d82sz2FWCONPs.mp4?tag=10'}, {'bitrate': 832000, 'content_type': 'video/mp4', 'url': 'https://video.twimg.com/ext_tw_video/1308852399994535942/pu/vid/640x360/_g7YrjPsnShbadjU.mp4?tag=10'}, {'content_type': 'application/x-mpegURL', 'url': 'https://video.twimg.com/ext_tw_video/1308852399994535942/pu/pl/DlwwzaPY_QHC2FBE.m3u8?tag=10'}]}, 'additional_media_info': {'monetizable': False}}]}, 'metadata': {'iso_language_code': 'es', 'result_type': 'recent'}, 'source': '<a href=\"http://twitter.com/download/iphone\" rel=\"nofollow\">Twitter for iPhone</a>', 'in_reply_to_status_id': None, 'in_reply_to_status_id_str': None, 'in_reply_to_user_id': None, 'in_reply_to_user_id_str': None, 'in_reply_to_screen_name': None, 'user': {'id': 625311960, 'id_str': '625311960', 'name': 'daniella', 'screen_name': 'expectsamuel', 'location': '', 'description': \"𝐢'𝐥𝐥 𝐛𝐞 𝐥𝐢𝐯𝐢𝐧𝐠 𝐨𝐧𝐞 𝐥𝐢𝐟𝐞 𝐟𝐨𝐫 𝐭𝐡𝐞 𝐭𝐰𝐨 𝐨𝐟 𝐮𝐬 #SAMUEL: tu madre no te dio inteligencia cuando naciste? ains, pobre\", 'url': None, 'entities': {'description': {'urls': []}}, 'protected': False, 'followers_count': 3227, 'friends_count': 952, 'listed_count': 33, 'created_at': 'Tue Jul 03 03:50:40 +0000 2012', 'favourites_count': 89069, 'utc_offset': None, 'time_zone': None, 'geo_enabled': False, 'verified': False, 'statuses_count': 71059, 'lang': None, 'contributors_enabled': False, 'is_translator': False, 'is_translation_enabled': False, 'profile_background_color': 'FFFFFF', 'profile_background_image_url': 'http://abs.twimg.com/images/themes/theme9/bg.gif', 'profile_background_image_url_https': 'https://abs.twimg.com/images/themes/theme9/bg.gif', 'profile_background_tile': False, 'profile_image_url': 'http://pbs.twimg.com/profile_images/1305322128011677697/ndnIhjB__normal.jpg', 'profile_image_url_https': 'https://pbs.twimg.com/profile_images/1305322128011677697/ndnIhjB__normal.jpg', 'profile_banner_url': 'https://pbs.twimg.com/profile_banners/625311960/1600057110', 'profile_link_color': '000000', 'profile_sidebar_border_color': 'FFFFFF', 'profile_sidebar_fill_color': '252429', 'profile_text_color': '666666', 'profile_use_background_image': True, 'has_extended_profile': False, 'default_profile': False, 'default_profile_image': False, 'following': False, 'follow_request_sent': False, 'notifications': False, 'translator_type': 'none'}, 'geo': None, 'coordinates': None, 'place': None, 'contributors': None, 'is_quote_status': False, 'retweet_count': 4, 'favorite_count': 5, 'favorited': False, 'retweeted': False, 'possibly_sensitive': False, 'lang': 'es'}, 'is_quote_status': False, 'retweet_count': 4, 'favorite_count': 0, 'favorited': False, 'retweeted': False, 'possibly_sensitive': False, 'lang': 'es'}, {'created_at': 'Wed Sep 23 19:41:47 +0000 2020', 'id': 1308854091179843587, 'id_str': '1308854091179843587', 'full_text': 'RT @FapParaMoar: LANA ESTA EMBARAZADA\\n\\nLANA Y LUZU VAN A SER PAPÁS..      ........ https://t.co/Y6TGXDH6XQ', 'truncated': False, 'display_text_range': [0, 106], 'entities': {'hashtags': [], 'symbols': [], 'user_mentions': [{'screen_name': 'FapParaMoar', 'name': 'alعxى', 'id': 261509733, 'id_str': '261509733', 'indices': [3, 15]}], 'urls': [], 'media': [{'id': 1308801565306822659, 'id_str': '1308801565306822659', 'indices': [83, 106], 'media_url': 'http://pbs.twimg.com/media/EinMFt2WoAMTOD4.jpg', 'media_url_https': 'https://pbs.twimg.com/media/EinMFt2WoAMTOD4.jpg', 'url': 'https://t.co/Y6TGXDH6XQ', 'display_url': 'pic.twitter.com/Y6TGXDH6XQ', 'expanded_url': 'https://twitter.com/FapParaMoar/status/1308801567626272768/photo/1', 'type': 'photo', 'sizes': {'small': {'w': 546, 'h': 680, 'resize': 'fit'}, 'thumb': {'w': 150, 'h': 150, 'resize': 'crop'}, 'medium': {'w': 964, 'h': 1200, 'resize': 'fit'}, 'large': {'w': 1028, 'h': 1280, 'resize': 'fit'}}, 'source_status_id': 1308801567626272768, 'source_status_id_str': '1308801567626272768', 'source_user_id': 261509733, 'source_user_id_str': '261509733'}]}, 'extended_entities': {'media': [{'id': 1308801565306822659, 'id_str': '1308801565306822659', 'indices': [83, 106], 'media_url': 'http://pbs.twimg.com/media/EinMFt2WoAMTOD4.jpg', 'media_url_https': 'https://pbs.twimg.com/media/EinMFt2WoAMTOD4.jpg', 'url': 'https://t.co/Y6TGXDH6XQ', 'display_url': 'pic.twitter.com/Y6TGXDH6XQ', 'expanded_url': 'https://twitter.com/FapParaMoar/status/1308801567626272768/photo/1', 'type': 'photo', 'sizes': {'small': {'w': 546, 'h': 680, 'resize': 'fit'}, 'thumb': {'w': 150, 'h': 150, 'resize': 'crop'}, 'medium': {'w': 964, 'h': 1200, 'resize': 'fit'}, 'large': {'w': 1028, 'h': 1280, 'resize': 'fit'}}, 'source_status_id': 1308801567626272768, 'source_status_id_str': '1308801567626272768', 'source_user_id': 261509733, 'source_user_id_str': '261509733'}]}, 'metadata': {'iso_language_code': 'es', 'result_type': 'recent'}, 'source': '<a href=\"https://mobile.twitter.com\" rel=\"nofollow\">Twitter Web App</a>', 'in_reply_to_status_id': None, 'in_reply_to_status_id_str': None, 'in_reply_to_user_id': None, 'in_reply_to_user_id_str': None, 'in_reply_to_screen_name': None, 'user': {'id': 1266616753980932096, 'id_str': '1266616753980932096', 'name': '•♫ℰ𝓂𝓂𝒶♫•', 'screen_name': '_hi_it_is_me_', 'location': 'Argentina', 'description': '', 'url': None, 'entities': {'description': {'urls': []}}, 'protected': False, 'followers_count': 2, 'friends_count': 27, 'listed_count': 0, 'created_at': 'Sat May 30 06:25:56 +0000 2020', 'favourites_count': 148, 'utc_offset': None, 'time_zone': None, 'geo_enabled': False, 'verified': False, 'statuses_count': 22, 'lang': None, 'contributors_enabled': False, 'is_translator': False, 'is_translation_enabled': False, 'profile_background_color': 'F5F8FA', 'profile_background_image_url': None, 'profile_background_image_url_https': None, 'profile_background_tile': False, 'profile_image_url': 'http://pbs.twimg.com/profile_images/1294879569334489091/ja64HlpH_normal.jpg', 'profile_image_url_https': 'https://pbs.twimg.com/profile_images/1294879569334489091/ja64HlpH_normal.jpg', 'profile_banner_url': 'https://pbs.twimg.com/profile_banners/1266616753980932096/1597558142', 'profile_link_color': '1DA1F2', 'profile_sidebar_border_color': 'C0DEED', 'profile_sidebar_fill_color': 'DDEEF6', 'profile_text_color': '333333', 'profile_use_background_image': True, 'has_extended_profile': True, 'default_profile': True, 'default_profile_image': False, 'following': False, 'follow_request_sent': False, 'notifications': False, 'translator_type': 'none'}, 'geo': None, 'coordinates': None, 'place': None, 'contributors': None, 'retweeted_status': {'created_at': 'Wed Sep 23 16:13:04 +0000 2020', 'id': 1308801567626272768, 'id_str': '1308801567626272768', 'full_text': 'LANA ESTA EMBARAZADA\\n\\nLANA Y LUZU VAN A SER PAPÁS..      ........ https://t.co/Y6TGXDH6XQ', 'truncated': False, 'display_text_range': [0, 65], 'entities': {'hashtags': [], 'symbols': [], 'user_mentions': [], 'urls': [], 'media': [{'id': 1308801565306822659, 'id_str': '1308801565306822659', 'indices': [66, 89], 'media_url': 'http://pbs.twimg.com/media/EinMFt2WoAMTOD4.jpg', 'media_url_https': 'https://pbs.twimg.com/media/EinMFt2WoAMTOD4.jpg', 'url': 'https://t.co/Y6TGXDH6XQ', 'display_url': 'pic.twitter.com/Y6TGXDH6XQ', 'expanded_url': 'https://twitter.com/FapParaMoar/status/1308801567626272768/photo/1', 'type': 'photo', 'sizes': {'small': {'w': 546, 'h': 680, 'resize': 'fit'}, 'thumb': {'w': 150, 'h': 150, 'resize': 'crop'}, 'medium': {'w': 964, 'h': 1200, 'resize': 'fit'}, 'large': {'w': 1028, 'h': 1280, 'resize': 'fit'}}}]}, 'extended_entities': {'media': [{'id': 1308801565306822659, 'id_str': '1308801565306822659', 'indices': [66, 89], 'media_url': 'http://pbs.twimg.com/media/EinMFt2WoAMTOD4.jpg', 'media_url_https': 'https://pbs.twimg.com/media/EinMFt2WoAMTOD4.jpg', 'url': 'https://t.co/Y6TGXDH6XQ', 'display_url': 'pic.twitter.com/Y6TGXDH6XQ', 'expanded_url': 'https://twitter.com/FapParaMoar/status/1308801567626272768/photo/1', 'type': 'photo', 'sizes': {'small': {'w': 546, 'h': 680, 'resize': 'fit'}, 'thumb': {'w': 150, 'h': 150, 'resize': 'crop'}, 'medium': {'w': 964, 'h': 1200, 'resize': 'fit'}, 'large': {'w': 1028, 'h': 1280, 'resize': 'fit'}}}]}, 'metadata': {'iso_language_code': 'es', 'result_type': 'recent'}, 'source': '<a href=\"http://twitter.com/download/android\" rel=\"nofollow\">Twitter for Android</a>', 'in_reply_to_status_id': None, 'in_reply_to_status_id_str': None, 'in_reply_to_user_id': None, 'in_reply_to_user_id_str': None, 'in_reply_to_screen_name': None, 'user': {'id': 261509733, 'id_str': '261509733', 'name': 'alعxى', 'screen_name': 'FapParaMoar', 'location': 'México 🇲🇽', 'description': 'rata fan de un profesional rata streamer y copion『@Rubiu5』', 'url': 'https://t.co/9O07wh7nxw', 'entities': {'url': {'urls': [{'url': 'https://t.co/9O07wh7nxw', 'expanded_url': 'http://twitch.tv/FapParaMoarr', 'display_url': 'twitch.tv/FapParaMoarr', 'indices': [0, 23]}]}, 'description': {'urls': []}}, 'protected': False, 'followers_count': 39097, 'friends_count': 922, 'listed_count': 231, 'created_at': 'Sun Mar 06 03:12:46 +0000 2011', 'favourites_count': 281421, 'utc_offset': None, 'time_zone': None, 'geo_enabled': True, 'verified': False, 'statuses_count': 170825, 'lang': None, 'contributors_enabled': False, 'is_translator': False, 'is_translation_enabled': False, 'profile_background_color': '131516', 'profile_background_image_url': 'http://abs.twimg.com/images/themes/theme14/bg.gif', 'profile_background_image_url_https': 'https://abs.twimg.com/images/themes/theme14/bg.gif', 'profile_background_tile': True, 'profile_image_url': 'http://pbs.twimg.com/profile_images/1265318644449492992/BtlNPzSO_normal.jpg', 'profile_image_url_https': 'https://pbs.twimg.com/profile_images/1265318644449492992/BtlNPzSO_normal.jpg', 'profile_banner_url': 'https://pbs.twimg.com/profile_banners/261509733/1596608089', 'profile_link_color': '000000', 'profile_sidebar_border_color': '000000', 'profile_sidebar_fill_color': 'EFEFEF', 'profile_text_color': '333333', 'profile_use_background_image': True, 'has_extended_profile': False, 'default_profile': False, 'default_profile_image': False, 'following': False, 'follow_request_sent': False, 'notifications': False, 'translator_type': 'regular'}, 'geo': None, 'coordinates': None, 'place': None, 'contributors': None, 'is_quote_status': False, 'retweet_count': 416, 'favorite_count': 3322, 'favorited': False, 'retweeted': False, 'possibly_sensitive': False, 'lang': 'es'}, 'is_quote_status': False, 'retweet_count': 416, 'favorite_count': 0, 'favorited': False, 'retweeted': False, 'possibly_sensitive': True, 'lang': 'es'}, {'created_at': 'Wed Sep 23 19:41:38 +0000 2020', 'id': 1308854054328717313, 'id_str': '1308854054328717313', 'full_text': 'RT @porquetendenc14: \"DVICIO FEAT LALI IS COMING\":\\nPorque el viernes lanzan una canción juntos.  https://t.co/dhiEVNEYdj', 'truncated': False, 'display_text_range': [0, 120], 'entities': {'hashtags': [], 'symbols': [], 'user_mentions': [{'screen_name': 'porquetendenc14', 'name': '¿Por qué tendencia?', 'id': 1158425116654673920, 'id_str': '1158425116654673920', 'indices': [3, 19]}], 'urls': [], 'media': [{'id': 1308838678945583104, 'id_str': '1308838678945583104', 'indices': [97, 120], 'media_url': 'http://pbs.twimg.com/ext_tw_video_thumb/1308838678945583104/pu/img/JI9TRVFvlT4s3eQN.jpg', 'media_url_https': 'https://pbs.twimg.com/ext_tw_video_thumb/1308838678945583104/pu/img/JI9TRVFvlT4s3eQN.jpg', 'url': 'https://t.co/dhiEVNEYdj', 'display_url': 'pic.twitter.com/dhiEVNEYdj', 'expanded_url': 'https://twitter.com/lalixpyp/status/1308838722507546624/video/1', 'type': 'photo', 'sizes': {'thumb': {'w': 150, 'h': 150, 'resize': 'crop'}, 'small': {'w': 680, 'h': 361, 'resize': 'fit'}, 'large': {'w': 886, 'h': 470, 'resize': 'fit'}, 'medium': {'w': 886, 'h': 470, 'resize': 'fit'}}, 'source_status_id': 1308838722507546624, 'source_status_id_str': '1308838722507546624', 'source_user_id': 3046972918, 'source_user_id_str': '3046972918'}]}, 'extended_entities': {'media': [{'id': 1308838678945583104, 'id_str': '1308838678945583104', 'indices': [97, 120], 'media_url': 'http://pbs.twimg.com/ext_tw_video_thumb/1308838678945583104/pu/img/JI9TRVFvlT4s3eQN.jpg', 'media_url_https': 'https://pbs.twimg.com/ext_tw_video_thumb/1308838678945583104/pu/img/JI9TRVFvlT4s3eQN.jpg', 'url': 'https://t.co/dhiEVNEYdj', 'display_url': 'pic.twitter.com/dhiEVNEYdj', 'expanded_url': 'https://twitter.com/lalixpyp/status/1308838722507546624/video/1', 'type': 'video', 'sizes': {'thumb': {'w': 150, 'h': 150, 'resize': 'crop'}, 'small': {'w': 680, 'h': 361, 'resize': 'fit'}, 'large': {'w': 886, 'h': 470, 'resize': 'fit'}, 'medium': {'w': 886, 'h': 470, 'resize': 'fit'}}, 'source_status_id': 1308838722507546624, 'source_status_id_str': '1308838722507546624', 'source_user_id': 3046972918, 'source_user_id_str': '3046972918', 'video_info': {'aspect_ratio': [443, 235], 'duration_millis': 7607, 'variants': [{'bitrate': 256000, 'content_type': 'video/mp4', 'url': 'https://video.twimg.com/ext_tw_video/1308838678945583104/pu/vid/508x270/Gy2uBG5gBNUAs0pE.mp4?tag=10'}, {'bitrate': 832000, 'content_type': 'video/mp4', 'url': 'https://video.twimg.com/ext_tw_video/1308838678945583104/pu/vid/886x470/p6CIDYphrx1toO85.mp4?tag=10'}, {'content_type': 'application/x-mpegURL', 'url': 'https://video.twimg.com/ext_tw_video/1308838678945583104/pu/pl/owXcKDYVyKp3I2Lw.m3u8?tag=10'}]}, 'additional_media_info': {'monetizable': False}}]}, 'metadata': {'iso_language_code': 'es', 'result_type': 'recent'}, 'source': '<a href=\"http://twitter.com/download/android\" rel=\"nofollow\">Twitter for Android</a>', 'in_reply_to_status_id': None, 'in_reply_to_status_id_str': None, 'in_reply_to_user_id': None, 'in_reply_to_user_id_str': None, 'in_reply_to_screen_name': None, 'user': {'id': 987469168160190464, 'id_str': '987469168160190464', 'name': '𝑺𝒐𝒇𝒊', 'screen_name': 'glowesposit0', 'location': '', 'description': 'y en un rio de emociones,otra vez me puse a llorar', 'url': None, 'entities': {'description': {'urls': []}}, 'protected': False, 'followers_count': 40, 'friends_count': 72, 'listed_count': 0, 'created_at': 'Fri Apr 20 23:12:50 +0000 2018', 'favourites_count': 653, 'utc_offset': None, 'time_zone': None, 'geo_enabled': False, 'verified': False, 'statuses_count': 94, 'lang': None, 'contributors_enabled': False, 'is_translator': False, 'is_translation_enabled': False, 'profile_background_color': 'F5F8FA', 'profile_background_image_url': None, 'profile_background_image_url_https': None, 'profile_background_tile': False, 'profile_image_url': 'http://pbs.twimg.com/profile_images/1307534527770906624/l6Z4Q3MK_normal.jpg', 'profile_image_url_https': 'https://pbs.twimg.com/profile_images/1307534527770906624/l6Z4Q3MK_normal.jpg', 'profile_banner_url': 'https://pbs.twimg.com/profile_banners/987469168160190464/1600575406', 'profile_link_color': '1DA1F2', 'profile_sidebar_border_color': 'C0DEED', 'profile_sidebar_fill_color': 'DDEEF6', 'profile_text_color': '333333', 'profile_use_background_image': True, 'has_extended_profile': False, 'default_profile': True, 'default_profile_image': False, 'following': False, 'follow_request_sent': False, 'notifications': False, 'translator_type': 'none'}, 'geo': None, 'coordinates': None, 'place': None, 'contributors': None, 'retweeted_status': {'created_at': 'Wed Sep 23 19:10:26 +0000 2020', 'id': 1308846203967283202, 'id_str': '1308846203967283202', 'full_text': '\"DVICIO FEAT LALI IS COMING\":\\nPorque el viernes lanzan una canción juntos.  https://t.co/dhiEVNEYdj', 'truncated': False, 'display_text_range': [0, 99], 'entities': {'hashtags': [], 'symbols': [], 'user_mentions': [], 'urls': [], 'media': [{'id': 1308838678945583104, 'id_str': '1308838678945583104', 'indices': [76, 99], 'media_url': 'http://pbs.twimg.com/ext_tw_video_thumb/1308838678945583104/pu/img/JI9TRVFvlT4s3eQN.jpg', 'media_url_https': 'https://pbs.twimg.com/ext_tw_video_thumb/1308838678945583104/pu/img/JI9TRVFvlT4s3eQN.jpg', 'url': 'https://t.co/dhiEVNEYdj', 'display_url': 'pic.twitter.com/dhiEVNEYdj', 'expanded_url': 'https://twitter.com/lalixpyp/status/1308838722507546624/video/1', 'type': 'photo', 'sizes': {'thumb': {'w': 150, 'h': 150, 'resize': 'crop'}, 'small': {'w': 680, 'h': 361, 'resize': 'fit'}, 'large': {'w': 886, 'h': 470, 'resize': 'fit'}, 'medium': {'w': 886, 'h': 470, 'resize': 'fit'}}, 'source_status_id': 1308838722507546624, 'source_status_id_str': '1308838722507546624', 'source_user_id': 3046972918, 'source_user_id_str': '3046972918'}]}, 'extended_entities': {'media': [{'id': 1308838678945583104, 'id_str': '1308838678945583104', 'indices': [76, 99], 'media_url': 'http://pbs.twimg.com/ext_tw_video_thumb/1308838678945583104/pu/img/JI9TRVFvlT4s3eQN.jpg', 'media_url_https': 'https://pbs.twimg.com/ext_tw_video_thumb/1308838678945583104/pu/img/JI9TRVFvlT4s3eQN.jpg', 'url': 'https://t.co/dhiEVNEYdj', 'display_url': 'pic.twitter.com/dhiEVNEYdj', 'expanded_url': 'https://twitter.com/lalixpyp/status/1308838722507546624/video/1', 'type': 'video', 'sizes': {'thumb': {'w': 150, 'h': 150, 'resize': 'crop'}, 'small': {'w': 680, 'h': 361, 'resize': 'fit'}, 'large': {'w': 886, 'h': 470, 'resize': 'fit'}, 'medium': {'w': 886, 'h': 470, 'resize': 'fit'}}, 'source_status_id': 1308838722507546624, 'source_status_id_str': '1308838722507546624', 'source_user_id': 3046972918, 'source_user_id_str': '3046972918', 'video_info': {'aspect_ratio': [443, 235], 'duration_millis': 7607, 'variants': [{'bitrate': 256000, 'content_type': 'video/mp4', 'url': 'https://video.twimg.com/ext_tw_video/1308838678945583104/pu/vid/508x270/Gy2uBG5gBNUAs0pE.mp4?tag=10'}, {'bitrate': 832000, 'content_type': 'video/mp4', 'url': 'https://video.twimg.com/ext_tw_video/1308838678945583104/pu/vid/886x470/p6CIDYphrx1toO85.mp4?tag=10'}, {'content_type': 'application/x-mpegURL', 'url': 'https://video.twimg.com/ext_tw_video/1308838678945583104/pu/pl/owXcKDYVyKp3I2Lw.m3u8?tag=10'}]}, 'additional_media_info': {'monetizable': False}}]}, 'metadata': {'iso_language_code': 'es', 'result_type': 'recent'}, 'source': '<a href=\"http://twitter.com/download/android\" rel=\"nofollow\">Twitter for Android</a>', 'in_reply_to_status_id': None, 'in_reply_to_status_id_str': None, 'in_reply_to_user_id': None, 'in_reply_to_user_id_str': None, 'in_reply_to_screen_name': None, 'user': {'id': 1158425116654673920, 'id_str': '1158425116654673920', 'name': '¿Por qué tendencia?', 'screen_name': 'porquetendenc14', 'location': '', 'description': 'Publicamos las Tendencias Argentinas.', 'url': None, 'entities': {'description': {'urls': []}}, 'protected': False, 'followers_count': 418, 'friends_count': 1, 'listed_count': 0, 'created_at': 'Mon Aug 05 17:10:45 +0000 2019', 'favourites_count': 326, 'utc_offset': None, 'time_zone': None, 'geo_enabled': False, 'verified': False, 'statuses_count': 655, 'lang': None, 'contributors_enabled': False, 'is_translator': False, 'is_translation_enabled': False, 'profile_background_color': 'F5F8FA', 'profile_background_image_url': None, 'profile_background_image_url_https': None, 'profile_background_tile': False, 'profile_image_url': 'http://pbs.twimg.com/profile_images/1263547521940553730/shELclxb_normal.jpg', 'profile_image_url_https': 'https://pbs.twimg.com/profile_images/1263547521940553730/shELclxb_normal.jpg', 'profile_banner_url': 'https://pbs.twimg.com/profile_banners/1158425116654673920/1597333800', 'profile_link_color': '1DA1F2', 'profile_sidebar_border_color': 'C0DEED', 'profile_sidebar_fill_color': 'DDEEF6', 'profile_text_color': '333333', 'profile_use_background_image': True, 'has_extended_profile': False, 'default_profile': True, 'default_profile_image': False, 'following': False, 'follow_request_sent': False, 'notifications': False, 'translator_type': 'none'}, 'geo': None, 'coordinates': None, 'place': None, 'contributors': None, 'is_quote_status': False, 'retweet_count': 35, 'favorite_count': 45, 'favorited': False, 'retweeted': False, 'possibly_sensitive': False, 'lang': 'es'}, 'is_quote_status': False, 'retweet_count': 35, 'favorite_count': 0, 'favorited': False, 'retweeted': False, 'possibly_sensitive': False, 'lang': 'es'}, {'created_at': 'Wed Sep 23 19:41:36 +0000 2020', 'id': 1308854044715356165, 'id_str': '1308854044715356165', 'full_text': 'RT @conagiuli: AHhhh NOOOOO PÁRAME TODOOOOOO mira como le sonríe \\nDVICIO FEAT LALI IS COMING https://t.co/YHg27VEmBN', 'truncated': False, 'display_text_range': [0, 116], 'entities': {'hashtags': [], 'symbols': [], 'user_mentions': [{'screen_name': 'conagiuli', 'name': 'Giuli', 'id': 3653053395, 'id_str': '3653053395', 'indices': [3, 13]}], 'urls': [], 'media': [{'id': 1308841819426492423, 'id_str': '1308841819426492423', 'indices': [93, 116], 'media_url': 'http://pbs.twimg.com/media/Einws0IXkAcK58F.jpg', 'media_url_https': 'https://pbs.twimg.com/media/Einws0IXkAcK58F.jpg', 'url': 'https://t.co/YHg27VEmBN', 'display_url': 'pic.twitter.com/YHg27VEmBN', 'expanded_url': 'https://twitter.com/conagiuli/status/1308841824602263554/photo/1', 'type': 'photo', 'sizes': {'thumb': {'w': 150, 'h': 150, 'resize': 'crop'}, 'small': {'w': 383, 'h': 680, 'resize': 'fit'}, 'large': {'w': 1152, 'h': 2048, 'resize': 'fit'}, 'medium': {'w': 675, 'h': 1200, 'resize': 'fit'}}, 'source_status_id': 1308841824602263554, 'source_status_id_str': '1308841824602263554', 'source_user_id': 3653053395, 'source_user_id_str': '3653053395'}]}, 'extended_entities': {'media': [{'id': 1308841819426492423, 'id_str': '1308841819426492423', 'indices': [93, 116], 'media_url': 'http://pbs.twimg.com/media/Einws0IXkAcK58F.jpg', 'media_url_https': 'https://pbs.twimg.com/media/Einws0IXkAcK58F.jpg', 'url': 'https://t.co/YHg27VEmBN', 'display_url': 'pic.twitter.com/YHg27VEmBN', 'expanded_url': 'https://twitter.com/conagiuli/status/1308841824602263554/photo/1', 'type': 'photo', 'sizes': {'thumb': {'w': 150, 'h': 150, 'resize': 'crop'}, 'small': {'w': 383, 'h': 680, 'resize': 'fit'}, 'large': {'w': 1152, 'h': 2048, 'resize': 'fit'}, 'medium': {'w': 675, 'h': 1200, 'resize': 'fit'}}, 'source_status_id': 1308841824602263554, 'source_status_id_str': '1308841824602263554', 'source_user_id': 3653053395, 'source_user_id_str': '3653053395'}]}, 'metadata': {'iso_language_code': 'es', 'result_type': 'recent'}, 'source': '<a href=\"https://mobile.twitter.com\" rel=\"nofollow\">Twitter Web App</a>', 'in_reply_to_status_id': None, 'in_reply_to_status_id_str': None, 'in_reply_to_user_id': None, 'in_reply_to_user_id_str': None, 'in_reply_to_screen_name': None, 'user': {'id': 949361543384326145, 'id_str': '949361543384326145', 'name': 'Lali', 'screen_name': 'lalita_unknown', 'location': 'Argentina', 'description': '❤5/12/14 INOLVIDABLE #ABTour 2/5/15😍 ❤🙏 La Musica sana, salva, nos hace SONREIR 🦋 ❤9-12-18😍', 'url': None, 'entities': {'description': {'urls': []}}, 'protected': False, 'followers_count': 353, 'friends_count': 298, 'listed_count': 0, 'created_at': 'Fri Jan 05 19:26:45 +0000 2018', 'favourites_count': 13036, 'utc_offset': None, 'time_zone': None, 'geo_enabled': False, 'verified': False, 'statuses_count': 101829, 'lang': None, 'contributors_enabled': False, 'is_translator': False, 'is_translation_enabled': False, 'profile_background_color': '000000', 'profile_background_image_url': 'http://abs.twimg.com/images/themes/theme1/bg.png', 'profile_background_image_url_https': 'https://abs.twimg.com/images/themes/theme1/bg.png', 'profile_background_tile': False, 'profile_image_url': 'http://pbs.twimg.com/profile_images/1305536292546019329/sNCDoneO_normal.jpg', 'profile_image_url_https': 'https://pbs.twimg.com/profile_images/1305536292546019329/sNCDoneO_normal.jpg', 'profile_banner_url': 'https://pbs.twimg.com/profile_banners/949361543384326145/1567187078', 'profile_link_color': 'E81C4F', 'profile_sidebar_border_color': '000000', 'profile_sidebar_fill_color': '000000', 'profile_text_color': '000000', 'profile_use_background_image': False, 'has_extended_profile': True, 'default_profile': False, 'default_profile_image': False, 'following': False, 'follow_request_sent': False, 'notifications': False, 'translator_type': 'none'}, 'geo': None, 'coordinates': None, 'place': None, 'contributors': None, 'retweeted_status': {'created_at': 'Wed Sep 23 18:53:02 +0000 2020', 'id': 1308841824602263554, 'id_str': '1308841824602263554', 'full_text': 'AHhhh NOOOOO PÁRAME TODOOOOOO mira como le sonríe \\nDVICIO FEAT LALI IS COMING https://t.co/YHg27VEmBN', 'truncated': False, 'display_text_range': [0, 77], 'entities': {'hashtags': [], 'symbols': [], 'user_mentions': [], 'urls': [], 'media': [{'id': 1308841819426492423, 'id_str': '1308841819426492423', 'indices': [78, 101], 'media_url': 'http://pbs.twimg.com/media/Einws0IXkAcK58F.jpg', 'media_url_https': 'https://pbs.twimg.com/media/Einws0IXkAcK58F.jpg', 'url': 'https://t.co/YHg27VEmBN', 'display_url': 'pic.twitter.com/YHg27VEmBN', 'expanded_url': 'https://twitter.com/conagiuli/status/1308841824602263554/photo/1', 'type': 'photo', 'sizes': {'thumb': {'w': 150, 'h': 150, 'resize': 'crop'}, 'small': {'w': 383, 'h': 680, 'resize': 'fit'}, 'large': {'w': 1152, 'h': 2048, 'resize': 'fit'}, 'medium': {'w': 675, 'h': 1200, 'resize': 'fit'}}}]}, 'extended_entities': {'media': [{'id': 1308841819426492423, 'id_str': '1308841819426492423', 'indices': [78, 101], 'media_url': 'http://pbs.twimg.com/media/Einws0IXkAcK58F.jpg', 'media_url_https': 'https://pbs.twimg.com/media/Einws0IXkAcK58F.jpg', 'url': 'https://t.co/YHg27VEmBN', 'display_url': 'pic.twitter.com/YHg27VEmBN', 'expanded_url': 'https://twitter.com/conagiuli/status/1308841824602263554/photo/1', 'type': 'photo', 'sizes': {'thumb': {'w': 150, 'h': 150, 'resize': 'crop'}, 'small': {'w': 383, 'h': 680, 'resize': 'fit'}, 'large': {'w': 1152, 'h': 2048, 'resize': 'fit'}, 'medium': {'w': 675, 'h': 1200, 'resize': 'fit'}}}]}, 'metadata': {'iso_language_code': 'es', 'result_type': 'recent'}, 'source': '<a href=\"http://twitter.com/download/iphone\" rel=\"nofollow\">Twitter for iPhone</a>', 'in_reply_to_status_id': None, 'in_reply_to_status_id_str': None, 'in_reply_to_user_id': None, 'in_reply_to_user_id_str': None, 'in_reply_to_screen_name': None, 'user': {'id': 3653053395, 'id_str': '3653053395', 'name': 'Giuli', 'screen_name': 'conagiuli', 'location': '', 'description': 'Since 1991', 'url': None, 'entities': {'description': {'urls': []}}, 'protected': False, 'followers_count': 773, 'friends_count': 839, 'listed_count': 6, 'created_at': 'Mon Sep 14 12:50:37 +0000 2015', 'favourites_count': 83081, 'utc_offset': None, 'time_zone': None, 'geo_enabled': True, 'verified': False, 'statuses_count': 64159, 'lang': None, 'contributors_enabled': False, 'is_translator': False, 'is_translation_enabled': False, 'profile_background_color': 'FF6699', 'profile_background_image_url': 'http://abs.twimg.com/images/themes/theme18/bg.gif', 'profile_background_image_url_https': 'https://abs.twimg.com/images/themes/theme18/bg.gif', 'profile_background_tile': False, 'profile_image_url': 'http://pbs.twimg.com/profile_images/1292555891670159361/ETCwIQqs_normal.jpg', 'profile_image_url_https': 'https://pbs.twimg.com/profile_images/1292555891670159361/ETCwIQqs_normal.jpg', 'profile_banner_url': 'https://pbs.twimg.com/profile_banners/3653053395/1589668827', 'profile_link_color': 'B40B43', 'profile_sidebar_border_color': '000000', 'profile_sidebar_fill_color': '000000', 'profile_text_color': '000000', 'profile_use_background_image': True, 'has_extended_profile': True, 'default_profile': False, 'default_profile_image': False, 'following': False, 'follow_request_sent': False, 'notifications': False, 'translator_type': 'none'}, 'geo': None, 'coordinates': None, 'place': None, 'contributors': None, 'is_quote_status': False, 'retweet_count': 9, 'favorite_count': 9, 'favorited': False, 'retweeted': False, 'possibly_sensitive': False, 'lang': 'es'}, 'is_quote_status': False, 'retweet_count': 9, 'favorite_count': 0, 'favorited': False, 'retweeted': False, 'possibly_sensitive': False, 'lang': 'es'}]\n"
     ]
    }
   ],
   "source": [
    "print(\"Contenido de tweets\")\n",
    "with open('data_nueva_3.json') as file:\n",
    "    data = json.load(file)\n",
    "    print(data)"
   ]
  },
  {
   "cell_type": "code",
   "execution_count": 11,
   "metadata": {},
   "outputs": [
    {
     "name": "stdout",
     "output_type": "stream",
     "text": [
      "Contenido primer tweet\n",
      "{'created_at': 'Wed Sep 23 19:41:47 +0000 2020', 'id': 1308854092299673603, 'id_str': '1308854092299673603', 'full_text': 'RT @iHeartRadio: ZAYN IS COMING. I REPEAT @zaynmalik IS COMING!!! 💥 #Better https://t.co/7wNgiMkp2d', 'truncated': False, 'display_text_range': [0, 99], 'entities': {'hashtags': [{'text': 'Better', 'indices': [68, 75]}], 'symbols': [], 'user_mentions': [{'screen_name': 'iHeartRadio', 'name': 'iHeartRadio', 'id': 46116615, 'id_str': '46116615', 'indices': [3, 15]}, {'screen_name': 'zaynmalik', 'name': 'zayn', 'id': 176566242, 'id_str': '176566242', 'indices': [42, 52]}], 'urls': [{'url': 'https://t.co/7wNgiMkp2d', 'expanded_url': 'https://ihr.fm/368Evqi', 'display_url': 'ihr.fm/368Evqi', 'indices': [76, 99]}]}, 'metadata': {'iso_language_code': 'en', 'result_type': 'recent'}, 'source': '<a href=\"http://twitter.com/download/android\" rel=\"nofollow\">Twitter for Android</a>', 'in_reply_to_status_id': None, 'in_reply_to_status_id_str': None, 'in_reply_to_user_id': None, 'in_reply_to_user_id_str': None, 'in_reply_to_screen_name': None, 'user': {'id': 800731893167636480, 'id_str': '800731893167636480', 'name': 'LICE', 'screen_name': 'ZMmemories', 'location': '', 'description': 'Estou aqui para enaltecer @zaynmalik e @onedirection', 'url': None, 'entities': {'description': {'urls': []}}, 'protected': False, 'followers_count': 2519, 'friends_count': 448, 'listed_count': 4, 'created_at': 'Mon Nov 21 16:05:35 +0000 2016', 'favourites_count': 25113, 'utc_offset': None, 'time_zone': None, 'geo_enabled': False, 'verified': False, 'statuses_count': 53536, 'lang': None, 'contributors_enabled': False, 'is_translator': False, 'is_translation_enabled': False, 'profile_background_color': 'C0DEED', 'profile_background_image_url': 'http://abs.twimg.com/images/themes/theme1/bg.png', 'profile_background_image_url_https': 'https://abs.twimg.com/images/themes/theme1/bg.png', 'profile_background_tile': False, 'profile_image_url': 'http://pbs.twimg.com/profile_images/1216560676208107520/mOlwCRuX_normal.jpg', 'profile_image_url_https': 'https://pbs.twimg.com/profile_images/1216560676208107520/mOlwCRuX_normal.jpg', 'profile_banner_url': 'https://pbs.twimg.com/profile_banners/800731893167636480/1580491763', 'profile_link_color': '1DA1F2', 'profile_sidebar_border_color': 'C0DEED', 'profile_sidebar_fill_color': 'DDEEF6', 'profile_text_color': '333333', 'profile_use_background_image': True, 'has_extended_profile': True, 'default_profile': True, 'default_profile_image': False, 'following': False, 'follow_request_sent': False, 'notifications': False, 'translator_type': 'none'}, 'geo': None, 'coordinates': None, 'place': None, 'contributors': None, 'retweeted_status': {'created_at': 'Wed Sep 23 18:30:00 +0000 2020', 'id': 1308836026547273729, 'id_str': '1308836026547273729', 'full_text': 'ZAYN IS COMING. I REPEAT @zaynmalik IS COMING!!! 💥 #Better https://t.co/7wNgiMkp2d', 'truncated': False, 'display_text_range': [0, 82], 'entities': {'hashtags': [{'text': 'Better', 'indices': [51, 58]}], 'symbols': [], 'user_mentions': [{'screen_name': 'zaynmalik', 'name': 'zayn', 'id': 176566242, 'id_str': '176566242', 'indices': [25, 35]}], 'urls': [{'url': 'https://t.co/7wNgiMkp2d', 'expanded_url': 'https://ihr.fm/368Evqi', 'display_url': 'ihr.fm/368Evqi', 'indices': [59, 82]}]}, 'metadata': {'iso_language_code': 'en', 'result_type': 'recent'}, 'source': '<a href=\"https://about.twitter.com/products/tweetdeck\" rel=\"nofollow\">TweetDeck</a>', 'in_reply_to_status_id': None, 'in_reply_to_status_id_str': None, 'in_reply_to_user_id': None, 'in_reply_to_user_id_str': None, 'in_reply_to_screen_name': None, 'user': {'id': 46116615, 'id_str': '46116615', 'name': 'iHeartRadio', 'screen_name': 'iHeartRadio', 'location': 'United States', 'description': 'Your Music, Your Stations and Podcasts too. All Free.', 'url': 'https://t.co/id6i82tLiU', 'entities': {'url': {'urls': [{'url': 'https://t.co/id6i82tLiU', 'expanded_url': 'http://iheartradio.com', 'display_url': 'iheartradio.com', 'indices': [0, 23]}]}, 'description': {'urls': []}}, 'protected': False, 'followers_count': 1709498, 'friends_count': 71862, 'listed_count': 4640, 'created_at': 'Wed Jun 10 13:56:14 +0000 2009', 'favourites_count': 26878, 'utc_offset': None, 'time_zone': None, 'geo_enabled': True, 'verified': True, 'statuses_count': 136324, 'lang': None, 'contributors_enabled': False, 'is_translator': False, 'is_translation_enabled': False, 'profile_background_color': '000000', 'profile_background_image_url': 'http://abs.twimg.com/images/themes/theme1/bg.png', 'profile_background_image_url_https': 'https://abs.twimg.com/images/themes/theme1/bg.png', 'profile_background_tile': True, 'profile_image_url': 'http://pbs.twimg.com/profile_images/1280136029303947265/cg0zzCzf_normal.jpg', 'profile_image_url_https': 'https://pbs.twimg.com/profile_images/1280136029303947265/cg0zzCzf_normal.jpg', 'profile_banner_url': 'https://pbs.twimg.com/profile_banners/46116615/1600576444', 'profile_link_color': '000000', 'profile_sidebar_border_color': '000000', 'profile_sidebar_fill_color': '2E2E2E', 'profile_text_color': '787878', 'profile_use_background_image': True, 'has_extended_profile': False, 'default_profile': False, 'default_profile_image': False, 'following': False, 'follow_request_sent': False, 'notifications': False, 'translator_type': 'regular'}, 'geo': None, 'coordinates': None, 'place': None, 'contributors': None, 'is_quote_status': False, 'retweet_count': 549, 'favorite_count': 1868, 'favorited': False, 'retweeted': False, 'possibly_sensitive': False, 'lang': 'en'}, 'is_quote_status': False, 'retweet_count': 549, 'favorite_count': 0, 'favorited': False, 'retweeted': False, 'possibly_sensitive': False, 'lang': 'en'}\n"
     ]
    }
   ],
   "source": [
    "print(\"Contenido primer tweet\")\n",
    "with open('data_nueva_3.json') as file:\n",
    "    data = json.load(file)\n",
    "    print(data[0])"
   ]
  },
  {
   "cell_type": "code",
   "execution_count": 31,
   "metadata": {},
   "outputs": [
    {
     "name": "stdout",
     "output_type": "stream",
     "text": [
      "Tweet: 0\n",
      "screen name: ZMmemories\n",
      "name: LICE\n",
      "Tweet: 1\n",
      "screen name: stan_ljp\n",
      "name: Pau²⁸\n",
      "Tweet: 2\n",
      "screen name: OlresR\n",
      "name: Ally💜\n",
      "Tweet: 3\n",
      "screen name: _hi_it_is_me_\n",
      "name: •♫ℰ𝓂𝓂𝒶♫•\n",
      "Tweet: 4\n",
      "screen name: glowesposit0\n",
      "name: 𝑺𝒐𝒇𝒊\n",
      "Tweet: 5\n",
      "screen name: lalita_unknown\n",
      "name: Lali\n"
     ]
    }
   ],
   "source": [
    "#Mostrar los usuarios de los tweets que son TT\n",
    "with open('data_nueva_3.json') as file:\n",
    "    data = json.load(file)\n",
    "\n",
    "i=0\n",
    "for tweet in data:\n",
    "    \n",
    "    print(\"Tweet: {0}\".format(i))\n",
    "    print(\"screen name:\",tweet['user']['screen_name'])\n",
    "    print(\"name:\",tweet['user']['name'])\n",
    "    i += 1"
   ]
  },
  {
   "cell_type": "code",
   "execution_count": 37,
   "metadata": {},
   "outputs": [
    {
     "name": "stdout",
     "output_type": "stream",
     "text": [
      "Tweet: 0 --------- \n",
      "RT @iHeartRadio: ZAYN IS COMING. I REPEAT @zaynmalik IS COMING!!! 💥 #Better https://t.co/7wNgiMkp2d\n",
      "\n",
      "\n",
      "Tweet: 1 --------- \n",
      "@Zayn_PromoPy Pillowtalk BETTER IS COMING\n",
      "\n",
      "\n",
      "Tweet: 2 --------- \n",
      "RT @expectsamuel: \"willy padre, luzu padre, vegetta espíritu santo\" JAJAJAJA https://t.co/GqxYW2kfGo\n",
      "\n",
      "\n",
      "Tweet: 3 --------- \n",
      "RT @FapParaMoar: LANA ESTA EMBARAZADA\n",
      "\n",
      "LANA Y LUZU VAN A SER PAPÁS..      ........ https://t.co/Y6TGXDH6XQ\n",
      "\n",
      "\n",
      "Tweet: 4 --------- \n",
      "RT @porquetendenc14: \"DVICIO FEAT LALI IS COMING\":\n",
      "Porque el viernes lanzan una canción juntos.  https://t.co/dhiEVNEYdj\n",
      "\n",
      "\n",
      "Tweet: 5 --------- \n",
      "RT @conagiuli: AHhhh NOOOOO PÁRAME TODOOOOOO mira como le sonríe \n",
      "DVICIO FEAT LALI IS COMING https://t.co/YHg27VEmBN\n",
      "\n",
      "\n",
      "['RT @iHeartRadio: ZAYN IS COMING. I REPEAT @zaynmalik IS COMING!!! 💥 #Better https://t.co/7wNgiMkp2d', '@Zayn_PromoPy Pillowtalk BETTER IS COMING', 'RT @expectsamuel: \"willy padre, luzu padre, vegetta espíritu santo\" JAJAJAJA https://t.co/GqxYW2kfGo', 'RT @FapParaMoar: LANA ESTA EMBARAZADA\\n\\nLANA Y LUZU VAN A SER PAPÁS..      ........ https://t.co/Y6TGXDH6XQ', 'RT @porquetendenc14: \"DVICIO FEAT LALI IS COMING\":\\nPorque el viernes lanzan una canción juntos.  https://t.co/dhiEVNEYdj', 'RT @conagiuli: AHhhh NOOOOO PÁRAME TODOOOOOO mira como le sonríe \\nDVICIO FEAT LALI IS COMING https://t.co/YHg27VEmBN']\n"
     ]
    }
   ],
   "source": [
    "#Obtengo el texto de los tweets\n",
    "with open('data_nueva_3.json') as file:\n",
    "    data = json.load(file)\n",
    "\n",
    "i=0\n",
    "texto_tweets = []\n",
    "for tweet in data:\n",
    "    print(\"Tweet: {0} --------- \".format(i))\n",
    "    print(tweet['full_text'])\n",
    "    print(\"\\n\")\n",
    "    texto_tweets.append(tweet['full_text'])\n",
    "    i += 1\n",
    "    \n",
    "print(texto_tweets)"
   ]
  },
  {
   "cell_type": "code",
   "execution_count": 51,
   "metadata": {},
   "outputs": [
    {
     "name": "stdout",
     "output_type": "stream",
     "text": [
      "rt\n",
      "@iheartradio\n",
      "zayn\n",
      "is\n",
      "coming\n",
      "i\n",
      "repeat\n",
      "@zaynmalik\n",
      "is\n",
      "coming!!!\n",
      "💥\n",
      "#better\n",
      "https://t.co/7wngimkp2d@zayn_promopy\n",
      "pillowtalk\n",
      "better\n",
      "is\n",
      "comingrt\n",
      "@expectsamuel\n",
      "\"willy\n",
      "padre\n",
      "luzu\n",
      "padre\n",
      "vegetta\n",
      "espíritu\n",
      "santo\"\n",
      "jajajaja\n",
      "https://t.co/gqxyw2kfgort\n",
      "@fapparamoar\n",
      "lana\n",
      "esta\n",
      "embarazada\n",
      "lana\n",
      "y\n",
      "luzu\n",
      "van\n",
      "a\n",
      "ser\n",
      "papás\n",
      "\n",
      "https://t.co/y6tgxdh6xqrt\n",
      "@porquetendenc14\n",
      "\"dvicio\n",
      "feat\n",
      "lali\n",
      "is\n",
      "coming\"\n",
      "porque\n",
      "el\n",
      "viernes\n",
      "lanzan\n",
      "una\n",
      "canción\n",
      "juntos\n",
      "https://t.co/dhievneydjrt\n",
      "@conagiuli\n",
      "ahhhh\n",
      "nooooo\n",
      "párame\n",
      "todoooooo\n",
      "mira\n",
      "como\n",
      "le\n",
      "sonríe\n",
      "dvicio\n",
      "feat\n",
      "lali\n",
      "is\n",
      "coming\n",
      "https://t.co/yhg27vembn\n"
     ]
    }
   ],
   "source": [
    "#Obtener las cinco palabras mas usadas en los tweets anteriores\n",
    "\n",
    "texto = \"\"\n",
    "for tweet in texto_tweets:\n",
    "    texto += tweet\n",
    "\n",
    "palabras = texto.split()\n",
    "lista_palabras = []\n",
    "for palabra in palabras:\n",
    "    print(palabra.strip('‘’:;,.').lower())\n",
    "    lista_palabras.append(palabra.strip('‘’:;,.').lower())"
   ]
  },
  {
   "cell_type": "code",
   "execution_count": 55,
   "metadata": {},
   "outputs": [
    {
     "name": "stdout",
     "output_type": "stream",
     "text": [
      "Frecuencias\n",
      "[1, 1, 1, 5, 2, 1, 1, 1, 5, 1, 1, 1, 1, 1, 1, 5, 1, 1, 1, 2, 2, 2, 1, 1, 1, 1, 1, 1, 2, 1, 1, 2, 1, 2, 1, 1, 1, 1, 1, 1, 1, 1, 2, 2, 5, 1, 1, 1, 1, 1, 1, 1, 1, 1, 1, 1, 1, 1, 1, 1, 1, 1, 1, 1, 2, 2, 5, 2, 1]\n",
      "\n",
      "Pares\n",
      "[('rt', 1), ('@iheartradio', 1), ('zayn', 1), ('is', 5), ('coming', 2), ('i', 1), ('repeat', 1), ('@zaynmalik', 1), ('is', 5), ('coming!!!', 1), ('💥', 1), ('#better', 1), ('https://t.co/7wngimkp2d@zayn_promopy', 1), ('pillowtalk', 1), ('better', 1), ('is', 5), ('comingrt', 1), ('@expectsamuel', 1), ('\"willy', 1), ('padre', 2), ('luzu', 2), ('padre', 2), ('vegetta', 1), ('espíritu', 1), ('santo\"', 1), ('jajajaja', 1), ('https://t.co/gqxyw2kfgort', 1), ('@fapparamoar', 1), ('lana', 2), ('esta', 1), ('embarazada', 1), ('lana', 2), ('y', 1), ('luzu', 2), ('van', 1), ('a', 1), ('ser', 1), ('papás', 1), ('', 1), ('https://t.co/y6tgxdh6xqrt', 1), ('@porquetendenc14', 1), ('\"dvicio', 1), ('feat', 2), ('lali', 2), ('is', 5), ('coming\"', 1), ('porque', 1), ('el', 1), ('viernes', 1), ('lanzan', 1), ('una', 1), ('canción', 1), ('juntos', 1), ('https://t.co/dhievneydjrt', 1), ('@conagiuli', 1), ('ahhhh', 1), ('nooooo', 1), ('párame', 1), ('todoooooo', 1), ('mira', 1), ('como', 1), ('le', 1), ('sonríe', 1), ('dvicio', 1), ('feat', 2), ('lali', 2), ('is', 5), ('coming', 2), ('https://t.co/yhg27vembn', 1)]\n"
     ]
    }
   ],
   "source": [
    "frecuenciaPalab = []\n",
    "for w in lista_palabras:\n",
    "    frecuenciaPalab.append(lista_palabras.count(w))\n",
    "\n",
    "print(\"Frecuencias\\n\" + str(frecuenciaPalab) + \"\\n\")\n",
    "print(\"Pares\\n\" + str(list(zip(lista_palabras, frecuenciaPalab))))"
   ]
  },
  {
   "cell_type": "code",
   "execution_count": null,
   "metadata": {},
   "outputs": [],
   "source": []
  },
  {
   "cell_type": "code",
   "execution_count": 1,
   "metadata": {},
   "outputs": [
    {
     "name": "stdout",
     "output_type": "stream",
     "text": [
      "Cadena\n",
      "it was the best of times it was the worst of times it was the age of wisdom it was the age of foolishness\n",
      "\n",
      "Lista\n",
      "['it', 'was', 'the', 'best', 'of', 'times', 'it', 'was', 'the', 'worst', 'of', 'times', 'it', 'was', 'the', 'age', 'of', 'wisdom', 'it', 'was', 'the', 'age', 'of', 'foolishness']\n",
      "\n",
      "Frecuencias\n",
      "[4, 4, 4, 1, 4, 2, 4, 4, 4, 1, 4, 2, 4, 4, 4, 2, 4, 1, 4, 4, 4, 2, 4, 1]\n",
      "\n",
      "Pares\n",
      "[('it', 4), ('was', 4), ('the', 4), ('best', 1), ('of', 4), ('times', 2), ('it', 4), ('was', 4), ('the', 4), ('worst', 1), ('of', 4), ('times', 2), ('it', 4), ('was', 4), ('the', 4), ('age', 2), ('of', 4), ('wisdom', 1), ('it', 4), ('was', 4), ('the', 4), ('age', 2), ('of', 4), ('foolishness', 1)]\n"
     ]
    }
   ],
   "source": [
    "cadenaPalabras = 'it was the best of times it was the worst of times '\n",
    "cadenaPalabras += 'it was the age of wisdom it was the age of foolishness'\n",
    "\n",
    "listaPalabras = cadenaPalabras.split()\n",
    "\n",
    "frecuenciaPalab = []\n",
    "for w in listaPalabras:\n",
    "    frecuenciaPalab.append(listaPalabras.count(w))\n",
    "\n",
    "print(\"Cadena\\n\" + cadenaPalabras +\"\\n\")\n",
    "print(\"Lista\\n\" + str(listaPalabras) + \"\\n\")\n",
    "print(\"Frecuencias\\n\" + str(frecuenciaPalab) + \"\\n\")\n",
    "print(\"Pares\\n\" + str(list(zip(listaPalabras, frecuenciaPalab))))"
   ]
  },
  {
   "cell_type": "code",
   "execution_count": 2,
   "metadata": {},
   "outputs": [
    {
     "name": "stdout",
     "output_type": "stream",
     "text": [
      "Cadena\n",
      "it was the best of times it was the worst of times it was the age of wisdom it was the age of foolishness\n",
      "\n",
      "Lista\n",
      "['it', 'was', 'the', 'best', 'of', 'times', 'it', 'was', 'the', 'worst', 'of', 'times', 'it', 'was', 'the', 'age', 'of', 'wisdom', 'it', 'was', 'the', 'age', 'of', 'foolishness']\n",
      "\n",
      "Frecuencias\n",
      "[4, 4, 4, 1, 4, 2, 4, 4, 4, 1, 4, 2, 4, 4, 4, 2, 4, 1, 4, 4, 4, 2, 4, 1]\n",
      "\n",
      "Pares\n",
      "[('it', 4), ('was', 4), ('the', 4), ('best', 1), ('of', 4), ('times', 2), ('it', 4), ('was', 4), ('the', 4), ('worst', 1), ('of', 4), ('times', 2), ('it', 4), ('was', 4), ('the', 4), ('age', 2), ('of', 4), ('wisdom', 1), ('it', 4), ('was', 4), ('the', 4), ('age', 2), ('of', 4), ('foolishness', 1)]\n"
     ]
    }
   ],
   "source": [
    "cadenaPalabras = 'it was the best of times it was the worst of times '\n",
    "cadenaPalabras += 'it was the age of wisdom it was the age of foolishness'\n",
    "listaPalabras = cadenaPalabras.split()\n",
    "\n",
    "frecuenciaPalab = [listaPalabras.count(w) for w in listaPalabras] # a list comprehension\n",
    "\n",
    "print(\"Cadena\\n\" + cadenaPalabras +\"\\n\")\n",
    "print(\"Lista\\n\" + str(listaPalabras) + \"\\n\")\n",
    "print(\"Frecuencias\\n\" + str(frecuenciaPalab) + \"\\n\")\n",
    "print(\"Pares\\n\" + str(list(zip(listaPalabras, frecuenciaPalab))))"
   ]
  },
  {
   "cell_type": "code",
   "execution_count": 5,
   "metadata": {},
   "outputs": [],
   "source": [
    "# Dada una lista de palabras, devuelve un diccionario de\n",
    "# pares de palabra-frecuencia.\n",
    "def listaPalabrasDicFrec(listaPalabras):\n",
    "    frecuenciaPalab = [listaPalabras.count(p) for p in listaPalabras]\n",
    "    return dict(list(zip(listaPalabras,frecuenciaPalab)))"
   ]
  },
  {
   "cell_type": "code",
   "execution_count": 4,
   "metadata": {},
   "outputs": [],
   "source": [
    "# Ordena un diccionario de pares palabra-frecuencia en\n",
    "# orden de frecuencia descendente.\n",
    "\n",
    "def ordenaDicFrec(dicfrec):\n",
    "    aux = [(dicfrec[key], key) for key in dicfrec]\n",
    "    aux.sort()\n",
    "    aux.reverse()\n",
    "    return aux"
   ]
  },
  {
   "cell_type": "code",
   "execution_count": null,
   "metadata": {},
   "outputs": [],
   "source": [
    "texto = obo.quitarEtiquetas(listaPalabras).lower()\n",
    "listaPalabras = obo.quitaNoAlfaNum(texto)\n",
    "diccionario = obo.listaPalabrasDicFrec(listaPalabras)\n",
    "diccOrdenado = obo.ordenaDicFrec(diccionario)\n",
    "\n",
    "for s in diccOrdenado: print(str(s))"
   ]
  }
 ],
 "metadata": {
  "kernelspec": {
   "display_name": "Python 3",
   "language": "python",
   "name": "python3"
  },
  "language_info": {
   "codemirror_mode": {
    "name": "ipython",
    "version": 3
   },
   "file_extension": ".py",
   "mimetype": "text/x-python",
   "name": "python",
   "nbconvert_exporter": "python",
   "pygments_lexer": "ipython3",
   "version": "3.6.9"
  }
 },
 "nbformat": 4,
 "nbformat_minor": 4
}
