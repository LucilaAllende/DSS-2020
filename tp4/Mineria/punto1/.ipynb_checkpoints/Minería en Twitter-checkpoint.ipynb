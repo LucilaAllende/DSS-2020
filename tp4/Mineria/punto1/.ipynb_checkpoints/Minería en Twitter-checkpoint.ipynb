{
 "cells": [
  {
   "cell_type": "code",
   "execution_count": null,
   "metadata": {},
   "outputs": [],
   "source": []
  },
  {
   "cell_type": "code",
   "execution_count": 18,
   "metadata": {},
   "outputs": [],
   "source": [
    "import tweepy\n",
    "import json"
   ]
  },
  {
   "cell_type": "code",
   "execution_count": 19,
   "metadata": {},
   "outputs": [],
   "source": [
    "# 4 cadenas para la autenticacion\n",
    "consumer_key = \"bTxpub0RLikH5NwPSr9gmc7xM\"\n",
    "consumer_secret = \"Ed6Uhq5wcaicGoqeUUcbCxfJax03UqjBSK43HkfsIvyMoCFdqe\"\n",
    "access_token = \"435824758-ZsMsjUJk8sfvu6LZmBLQOEqyz7C1vpbi389RAep3\"\n",
    "access_token_secret = \"8hz9VPgBZKuQxPe99AIs4wP1SL9YtVAc4quTz4h8GOR8G\""
   ]
  },
  {
   "cell_type": "code",
   "execution_count": 20,
   "metadata": {},
   "outputs": [],
   "source": [
    "auth = tweepy.OAuthHandler(consumer_key, consumer_secret)\n",
    "auth.set_access_token(access_token, access_token_secret)\n",
    "\n",
    "# con este objeto realizaremos todas las llamadas al API\n",
    "api = tweepy.API(auth,\n",
    "                 wait_on_rate_limit=True,\n",
    "                 wait_on_rate_limit_notify=True)"
   ]
  },
  {
   "cell_type": "code",
   "execution_count": 21,
   "metadata": {},
   "outputs": [
    {
     "name": "stdout",
     "output_type": "stream",
     "text": [
      "#LaPosadaIsOut\n",
      "Di María\n",
      "TE DUELE\n"
     ]
    }
   ],
   "source": [
    "argentina_id = 23424747\n",
    "\n",
    "# obtengo los primeros diez TT\n",
    "argentina_trends = api.trends_place(argentina_id)\n",
    "trends = []\n",
    "tweets_limpios = []\n",
    "\n",
    "# Selecionno solo 3 TT\n",
    "for i in range(3):\n",
    "    print(argentina_trends[0]['trends'][i][u'name'])\n",
    "    trends.append(argentina_trends[0]['trends'][i][u'name'])"
   ]
  },
  {
   "cell_type": "code",
   "execution_count": 22,
   "metadata": {},
   "outputs": [
    {
     "name": "stdout",
     "output_type": "stream",
     "text": [
      "Escribiendo ... \n",
      "Escribiendo ... \n",
      "Escribiendo ... \n",
      "Escribiendo ... \n",
      "Escribiendo ... \n",
      "Escribiendo ... \n"
     ]
    }
   ],
   "source": [
    "tweets = []\n",
    "\n",
    "with open('data_nueva_3.json', 'w') as f:\n",
    "    json.dump([], f)\n",
    "\n",
    "with open('data_nueva_4.json', 'w') as outfile:\n",
    "    for trend in range(3):\n",
    "        for tweet in tweepy.Cursor(api.search, q=trends[trend], tweet_mode=\"extended\").items(2):\n",
    "            print(\"Escribiendo ... \")\n",
    "            tweets.append(tweet._json)\n",
    "    outfile.write(json.dumps(\n",
    "        tweets, ensure_ascii=False, indent=4))"
   ]
  },
  {
   "cell_type": "code",
   "execution_count": 23,
   "metadata": {},
   "outputs": [
    {
     "name": "stdout",
     "output_type": "stream",
     "text": [
      "Contenido de tweets\n",
      "[{'created_at': 'Wed Sep 23 22:09:42 +0000 2020', 'id': 1308891315506163713, 'id_str': '1308891315506163713', 'full_text': 'ESTAS FOTOS #LAPOSADAISOUT https://t.co/idSE4VXzSD', 'truncated': False, 'display_text_range': [0, 26], 'entities': {'hashtags': [{'text': 'LAPOSADAISOUT', 'indices': [12, 26]}], 'symbols': [], 'user_mentions': [], 'urls': [], 'media': [{'id': 1308891309449633792, 'id_str': '1308891309449633792', 'indices': [27, 50], 'media_url': 'http://pbs.twimg.com/media/Eiodtg1XYAAm4ST.jpg', 'media_url_https': 'https://pbs.twimg.com/media/Eiodtg1XYAAm4ST.jpg', 'url': 'https://t.co/idSE4VXzSD', 'display_url': 'pic.twitter.com/idSE4VXzSD', 'expanded_url': 'https://twitter.com/eilanrechx/status/1308891315506163713/photo/1', 'type': 'photo', 'sizes': {'thumb': {'w': 150, 'h': 150, 'resize': 'crop'}, 'small': {'w': 680, 'h': 511, 'resize': 'fit'}, 'large': {'w': 750, 'h': 564, 'resize': 'fit'}, 'medium': {'w': 750, 'h': 564, 'resize': 'fit'}}}]}, 'extended_entities': {'media': [{'id': 1308891309449633792, 'id_str': '1308891309449633792', 'indices': [27, 50], 'media_url': 'http://pbs.twimg.com/media/Eiodtg1XYAAm4ST.jpg', 'media_url_https': 'https://pbs.twimg.com/media/Eiodtg1XYAAm4ST.jpg', 'url': 'https://t.co/idSE4VXzSD', 'display_url': 'pic.twitter.com/idSE4VXzSD', 'expanded_url': 'https://twitter.com/eilanrechx/status/1308891315506163713/photo/1', 'type': 'photo', 'sizes': {'thumb': {'w': 150, 'h': 150, 'resize': 'crop'}, 'small': {'w': 680, 'h': 511, 'resize': 'fit'}, 'large': {'w': 750, 'h': 564, 'resize': 'fit'}, 'medium': {'w': 750, 'h': 564, 'resize': 'fit'}}}, {'id': 1308891309441155072, 'id_str': '1308891309441155072', 'indices': [27, 50], 'media_url': 'http://pbs.twimg.com/media/EiodtgzWAAAAqqy.jpg', 'media_url_https': 'https://pbs.twimg.com/media/EiodtgzWAAAAqqy.jpg', 'url': 'https://t.co/idSE4VXzSD', 'display_url': 'pic.twitter.com/idSE4VXzSD', 'expanded_url': 'https://twitter.com/eilanrechx/status/1308891315506163713/photo/1', 'type': 'photo', 'sizes': {'thumb': {'w': 150, 'h': 150, 'resize': 'crop'}, 'small': {'w': 680, 'h': 503, 'resize': 'fit'}, 'large': {'w': 750, 'h': 555, 'resize': 'fit'}, 'medium': {'w': 750, 'h': 555, 'resize': 'fit'}}}, {'id': 1308891309860675593, 'id_str': '1308891309860675593', 'indices': [27, 50], 'media_url': 'http://pbs.twimg.com/media/EiodtiXXYAkNDm9.jpg', 'media_url_https': 'https://pbs.twimg.com/media/EiodtiXXYAkNDm9.jpg', 'url': 'https://t.co/idSE4VXzSD', 'display_url': 'pic.twitter.com/idSE4VXzSD', 'expanded_url': 'https://twitter.com/eilanrechx/status/1308891315506163713/photo/1', 'type': 'photo', 'sizes': {'thumb': {'w': 150, 'h': 150, 'resize': 'crop'}, 'large': {'w': 750, 'h': 559, 'resize': 'fit'}, 'small': {'w': 680, 'h': 507, 'resize': 'fit'}, 'medium': {'w': 750, 'h': 559, 'resize': 'fit'}}}, {'id': 1308891310665986048, 'id_str': '1308891310665986048', 'indices': [27, 50], 'media_url': 'http://pbs.twimg.com/media/EiodtlXXcAAzz7s.jpg', 'media_url_https': 'https://pbs.twimg.com/media/EiodtlXXcAAzz7s.jpg', 'url': 'https://t.co/idSE4VXzSD', 'display_url': 'pic.twitter.com/idSE4VXzSD', 'expanded_url': 'https://twitter.com/eilanrechx/status/1308891315506163713/photo/1', 'type': 'photo', 'sizes': {'thumb': {'w': 150, 'h': 150, 'resize': 'crop'}, 'medium': {'w': 750, 'h': 564, 'resize': 'fit'}, 'small': {'w': 680, 'h': 511, 'resize': 'fit'}, 'large': {'w': 750, 'h': 564, 'resize': 'fit'}}}]}, 'metadata': {'iso_language_code': 'es', 'result_type': 'recent'}, 'source': '<a href=\"http://twitter.com/download/iphone\" rel=\"nofollow\">Twitter for iPhone</a>', 'in_reply_to_status_id': None, 'in_reply_to_status_id_str': None, 'in_reply_to_user_id': None, 'in_reply_to_user_id_str': None, 'in_reply_to_screen_name': None, 'user': {'id': 1169698304441143296, 'id_str': '1169698304441143296', 'name': 'eva🌹', 'screen_name': 'eilanrechx', 'location': '🥘🍊', 'description': 'natysolete supremacist || fan account', 'url': 'https://t.co/ijRXMIpeAI', 'entities': {'url': {'urls': [{'url': 'https://t.co/ijRXMIpeAI', 'expanded_url': 'https://curiouscat.qa/eilanrechx', 'display_url': 'curiouscat.qa/eilanrechx', 'indices': [0, 23]}]}, 'description': {'urls': []}}, 'protected': False, 'followers_count': 1295, 'friends_count': 573, 'listed_count': 27, 'created_at': 'Thu Sep 05 19:47:13 +0000 2019', 'favourites_count': 29811, 'utc_offset': None, 'time_zone': None, 'geo_enabled': False, 'verified': False, 'statuses_count': 22334, 'lang': None, 'contributors_enabled': False, 'is_translator': False, 'is_translation_enabled': False, 'profile_background_color': 'F5F8FA', 'profile_background_image_url': None, 'profile_background_image_url_https': None, 'profile_background_tile': False, 'profile_image_url': 'http://pbs.twimg.com/profile_images/1306232729709588480/sJ8sr-Up_normal.png', 'profile_image_url_https': 'https://pbs.twimg.com/profile_images/1306232729709588480/sJ8sr-Up_normal.png', 'profile_banner_url': 'https://pbs.twimg.com/profile_banners/1169698304441143296/1600431176', 'profile_link_color': '1DA1F2', 'profile_sidebar_border_color': 'C0DEED', 'profile_sidebar_fill_color': 'DDEEF6', 'profile_text_color': '333333', 'profile_use_background_image': True, 'has_extended_profile': True, 'default_profile': True, 'default_profile_image': False, 'following': False, 'follow_request_sent': False, 'notifications': False, 'translator_type': 'none'}, 'geo': None, 'coordinates': None, 'place': None, 'contributors': None, 'is_quote_status': False, 'retweet_count': 0, 'favorite_count': 0, 'favorited': False, 'retweeted': False, 'possibly_sensitive': False, 'lang': 'es'}, {'created_at': 'Wed Sep 23 22:09:42 +0000 2020', 'id': 1308891314755428352, 'id_str': '1308891314755428352', 'full_text': '#LaPosadaIsOut Bendiciones en la vida y esta canción de @sebascortesg y @_albxreche', 'truncated': False, 'display_text_range': [0, 83], 'entities': {'hashtags': [{'text': 'LaPosadaIsOut', 'indices': [0, 14]}], 'symbols': [], 'user_mentions': [{'screen_name': 'sebascortesg', 'name': 'Sebastián Cortés', 'id': 1106328572925562882, 'id_str': '1106328572925562882', 'indices': [56, 69]}, {'screen_name': '_albxreche', 'name': 'alba reche', 'id': 1041739380455624704, 'id_str': '1041739380455624704', 'indices': [72, 83]}], 'urls': []}, 'metadata': {'iso_language_code': 'es', 'result_type': 'recent'}, 'source': '<a href=\"https://mobile.twitter.com\" rel=\"nofollow\">Twitter Web App</a>', 'in_reply_to_status_id': None, 'in_reply_to_status_id_str': None, 'in_reply_to_user_id': None, 'in_reply_to_user_id_str': None, 'in_reply_to_screen_name': None, 'user': {'id': 545520805, 'id_str': '545520805', 'name': 'M.C (Marce Cortés)', 'screen_name': 'MCsnflwr7', 'location': '', 'description': '1/2 of @amidnight_pills\\nMitch Grassi  knows I Love his legs Instagram: marce_cortes_mc Songwritter/Musician', 'url': None, 'entities': {'description': {'urls': []}}, 'protected': False, 'followers_count': 304, 'friends_count': 807, 'listed_count': 4, 'created_at': 'Wed Apr 04 23:22:16 +0000 2012', 'favourites_count': 8968, 'utc_offset': None, 'time_zone': None, 'geo_enabled': False, 'verified': False, 'statuses_count': 27458, 'lang': None, 'contributors_enabled': False, 'is_translator': False, 'is_translation_enabled': False, 'profile_background_color': 'C0DEED', 'profile_background_image_url': 'http://abs.twimg.com/images/themes/theme1/bg.png', 'profile_background_image_url_https': 'https://abs.twimg.com/images/themes/theme1/bg.png', 'profile_background_tile': True, 'profile_image_url': 'http://pbs.twimg.com/profile_images/1166581824237318144/6rI3KiXp_normal.jpg', 'profile_image_url_https': 'https://pbs.twimg.com/profile_images/1166581824237318144/6rI3KiXp_normal.jpg', 'profile_banner_url': 'https://pbs.twimg.com/profile_banners/545520805/1552728677', 'profile_link_color': '0084B4', 'profile_sidebar_border_color': 'FFFFFF', 'profile_sidebar_fill_color': 'DDEEF6', 'profile_text_color': '333333', 'profile_use_background_image': True, 'has_extended_profile': True, 'default_profile': False, 'default_profile_image': False, 'following': False, 'follow_request_sent': False, 'notifications': False, 'translator_type': 'none'}, 'geo': None, 'coordinates': None, 'place': None, 'contributors': None, 'is_quote_status': False, 'retweet_count': 0, 'favorite_count': 0, 'favorited': False, 'retweeted': False, 'lang': 'es'}, {'created_at': 'Wed Sep 23 22:09:43 +0000 2020', 'id': 1308891319872491521, 'id_str': '1308891319872491521', 'full_text': \"RT @ActuFoot_: 🔴 Angel Di Maria écope de 4 matches de suspension pour avoir craché en direction d'Alvaro Gonzalez lors de #PSGOM.\\n\\n(@SaberD…\", 'truncated': False, 'display_text_range': [0, 140], 'entities': {'hashtags': [{'text': 'PSGOM', 'indices': [122, 128]}], 'symbols': [], 'user_mentions': [{'screen_name': 'ActuFoot_', 'name': 'Actu Foot', 'id': 771606164, 'id_str': '771606164', 'indices': [3, 13]}], 'urls': []}, 'metadata': {'iso_language_code': 'fr', 'result_type': 'recent'}, 'source': '<a href=\"http://twitter.com/download/iphone\" rel=\"nofollow\">Twitter for iPhone</a>', 'in_reply_to_status_id': None, 'in_reply_to_status_id_str': None, 'in_reply_to_user_id': None, 'in_reply_to_user_id_str': None, 'in_reply_to_screen_name': None, 'user': {'id': 1095894575066071040, 'id_str': '1095894575066071040', 'name': 'Jiji 🇨🇲', 'screen_name': 'JacquesBoumtje', 'location': '', 'description': '🙏🏾', 'url': None, 'entities': {'description': {'urls': []}}, 'protected': False, 'followers_count': 444, 'friends_count': 411, 'listed_count': 0, 'created_at': 'Thu Feb 14 03:56:42 +0000 2019', 'favourites_count': 26264, 'utc_offset': None, 'time_zone': None, 'geo_enabled': False, 'verified': False, 'statuses_count': 35411, 'lang': None, 'contributors_enabled': False, 'is_translator': False, 'is_translation_enabled': False, 'profile_background_color': 'F5F8FA', 'profile_background_image_url': None, 'profile_background_image_url_https': None, 'profile_background_tile': False, 'profile_image_url': 'http://pbs.twimg.com/profile_images/1308467105151549447/8lqCHdq5_normal.jpg', 'profile_image_url_https': 'https://pbs.twimg.com/profile_images/1308467105151549447/8lqCHdq5_normal.jpg', 'profile_banner_url': 'https://pbs.twimg.com/profile_banners/1095894575066071040/1599594665', 'profile_link_color': '1DA1F2', 'profile_sidebar_border_color': 'C0DEED', 'profile_sidebar_fill_color': 'DDEEF6', 'profile_text_color': '333333', 'profile_use_background_image': True, 'has_extended_profile': True, 'default_profile': True, 'default_profile_image': False, 'following': False, 'follow_request_sent': False, 'notifications': False, 'translator_type': 'none'}, 'geo': None, 'coordinates': None, 'place': None, 'contributors': None, 'retweeted_status': {'created_at': 'Wed Sep 23 19:03:23 +0000 2020', 'id': 1308844427432079360, 'id_str': '1308844427432079360', 'full_text': \"🔴 Angel Di Maria écope de 4 matches de suspension pour avoir craché en direction d'Alvaro Gonzalez lors de #PSGOM.\\n\\n(@SaberDesfa) https://t.co/0LTml0zXTS\", 'truncated': False, 'display_text_range': [0, 129], 'entities': {'hashtags': [{'text': 'PSGOM', 'indices': [107, 113]}], 'symbols': [], 'user_mentions': [{'screen_name': 'SaberDesfa', 'name': 'Saber Desfarges', 'id': 847440853, 'id_str': '847440853', 'indices': [117, 128]}], 'urls': [], 'media': [{'id': 1308844420280791040, 'id_str': '1308844420280791040', 'indices': [130, 153], 'media_url': 'http://pbs.twimg.com/media/EinzENEWsAA-CoE.jpg', 'media_url_https': 'https://pbs.twimg.com/media/EinzENEWsAA-CoE.jpg', 'url': 'https://t.co/0LTml0zXTS', 'display_url': 'pic.twitter.com/0LTml0zXTS', 'expanded_url': 'https://twitter.com/ActuFoot_/status/1308844427432079360/photo/1', 'type': 'photo', 'sizes': {'thumb': {'w': 150, 'h': 150, 'resize': 'crop'}, 'medium': {'w': 1024, 'h': 576, 'resize': 'fit'}, 'large': {'w': 1024, 'h': 576, 'resize': 'fit'}, 'small': {'w': 680, 'h': 383, 'resize': 'fit'}}}]}, 'extended_entities': {'media': [{'id': 1308844420280791040, 'id_str': '1308844420280791040', 'indices': [130, 153], 'media_url': 'http://pbs.twimg.com/media/EinzENEWsAA-CoE.jpg', 'media_url_https': 'https://pbs.twimg.com/media/EinzENEWsAA-CoE.jpg', 'url': 'https://t.co/0LTml0zXTS', 'display_url': 'pic.twitter.com/0LTml0zXTS', 'expanded_url': 'https://twitter.com/ActuFoot_/status/1308844427432079360/photo/1', 'type': 'photo', 'sizes': {'thumb': {'w': 150, 'h': 150, 'resize': 'crop'}, 'medium': {'w': 1024, 'h': 576, 'resize': 'fit'}, 'large': {'w': 1024, 'h': 576, 'resize': 'fit'}, 'small': {'w': 680, 'h': 383, 'resize': 'fit'}}}]}, 'metadata': {'iso_language_code': 'fr', 'result_type': 'recent'}, 'source': '<a href=\"http://twitter.com/download/android\" rel=\"nofollow\">Twitter for Android</a>', 'in_reply_to_status_id': None, 'in_reply_to_status_id_str': None, 'in_reply_to_user_id': None, 'in_reply_to_user_id_str': None, 'in_reply_to_screen_name': None, 'user': {'id': 771606164, 'id_str': '771606164', 'name': 'Actu Foot', 'screen_name': 'ActuFoot_', 'location': '', 'description': \"Suivez toute l'actu foot en temps réel sur @ActuFoot_ // 📸 RDV sur Instagram pour d'autres contenus : actufoot_ (accessible ici https://t.co/Mm70ncVErX)\", 'url': 'https://t.co/B8CoeeRfpx', 'entities': {'url': {'urls': [{'url': 'https://t.co/B8CoeeRfpx', 'expanded_url': 'http://instagram.com/actufoot_', 'display_url': 'instagram.com/actufoot_', 'indices': [0, 23]}]}, 'description': {'urls': [{'url': 'https://t.co/Mm70ncVErX', 'expanded_url': 'http://sofinder.me/i/actufoot', 'display_url': 'sofinder.me/i/actufoot', 'indices': [128, 151]}]}}, 'protected': False, 'followers_count': 2607587, 'friends_count': 83, 'listed_count': 1437, 'created_at': 'Tue Aug 21 14:25:25 +0000 2012', 'favourites_count': 320, 'utc_offset': None, 'time_zone': None, 'geo_enabled': True, 'verified': False, 'statuses_count': 108338, 'lang': None, 'contributors_enabled': False, 'is_translator': False, 'is_translation_enabled': False, 'profile_background_color': '0D58DB', 'profile_background_image_url': 'http://abs.twimg.com/images/themes/theme1/bg.png', 'profile_background_image_url_https': 'https://abs.twimg.com/images/themes/theme1/bg.png', 'profile_background_tile': True, 'profile_image_url': 'http://pbs.twimg.com/profile_images/1079542234465341442/uNUlKEw__normal.jpg', 'profile_image_url_https': 'https://pbs.twimg.com/profile_images/1079542234465341442/uNUlKEw__normal.jpg', 'profile_banner_url': 'https://pbs.twimg.com/profile_banners/771606164/1597879921', 'profile_link_color': '1900A8', 'profile_sidebar_border_color': 'FFFFFF', 'profile_sidebar_fill_color': 'DDEEF6', 'profile_text_color': '333333', 'profile_use_background_image': True, 'has_extended_profile': False, 'default_profile': False, 'default_profile_image': False, 'following': False, 'follow_request_sent': False, 'notifications': False, 'translator_type': 'regular'}, 'geo': None, 'coordinates': None, 'place': None, 'contributors': None, 'is_quote_status': False, 'retweet_count': 363, 'favorite_count': 1706, 'favorited': False, 'retweeted': False, 'possibly_sensitive': False, 'lang': 'fr'}, 'is_quote_status': False, 'retweet_count': 363, 'favorite_count': 0, 'favorited': False, 'retweeted': False, 'lang': 'fr'}, {'created_at': 'Wed Sep 23 22:09:39 +0000 2020', 'id': 1308891303812493314, 'id_str': '1308891303812493314', 'full_text': \"RT @hadrien_grenier: Angel Di Maria : «\\xa0La sanction est dure et difficile, car nous n'allons pas jouer pendant la semaine, donc cela devien…\", 'truncated': False, 'display_text_range': [0, 140], 'entities': {'hashtags': [], 'symbols': [], 'user_mentions': [{'screen_name': 'hadrien_grenier', 'name': 'Hadrien', 'id': 566504452, 'id_str': '566504452', 'indices': [3, 19]}], 'urls': []}, 'metadata': {'iso_language_code': 'fr', 'result_type': 'recent'}, 'source': '<a href=\"http://twitter.com/download/iphone\" rel=\"nofollow\">Twitter for iPhone</a>', 'in_reply_to_status_id': None, 'in_reply_to_status_id_str': None, 'in_reply_to_user_id': None, 'in_reply_to_user_id_str': None, 'in_reply_to_screen_name': None, 'user': {'id': 943274547398299650, 'id_str': '943274547398299650', 'name': 'sano', 'screen_name': 'San87Black', 'location': '', 'description': 'MomoLovesParis', 'url': None, 'entities': {'description': {'urls': []}}, 'protected': False, 'followers_count': 93, 'friends_count': 1412, 'listed_count': 0, 'created_at': 'Wed Dec 20 00:19:12 +0000 2017', 'favourites_count': 20858, 'utc_offset': None, 'time_zone': None, 'geo_enabled': False, 'verified': False, 'statuses_count': 5028, 'lang': None, 'contributors_enabled': False, 'is_translator': False, 'is_translation_enabled': False, 'profile_background_color': 'F5F8FA', 'profile_background_image_url': None, 'profile_background_image_url_https': None, 'profile_background_tile': False, 'profile_image_url': 'http://pbs.twimg.com/profile_images/1173603545356165120/TH-JZaxW_normal.jpg', 'profile_image_url_https': 'https://pbs.twimg.com/profile_images/1173603545356165120/TH-JZaxW_normal.jpg', 'profile_banner_url': 'https://pbs.twimg.com/profile_banners/943274547398299650/1582503291', 'profile_link_color': '1DA1F2', 'profile_sidebar_border_color': 'C0DEED', 'profile_sidebar_fill_color': 'DDEEF6', 'profile_text_color': '333333', 'profile_use_background_image': True, 'has_extended_profile': True, 'default_profile': True, 'default_profile_image': False, 'following': False, 'follow_request_sent': False, 'notifications': False, 'translator_type': 'none'}, 'geo': None, 'coordinates': None, 'place': None, 'contributors': None, 'retweeted_status': {'created_at': 'Wed Sep 23 21:41:27 +0000 2020', 'id': 1308884206081245184, 'id_str': '1308884206081245184', 'full_text': \"Angel Di Maria : «\\xa0La sanction est dure et difficile, car nous n'allons pas jouer pendant la semaine, donc cela devient encore plus long. Ce que j'ai fait, je l'ai fait par réaction et parce que de l'autre côté il y avait des mots que je n'ai pas aimé.\\xa0»\\n\\n(@Continental590) #PSG\", 'truncated': False, 'display_text_range': [0, 278], 'entities': {'hashtags': [{'text': 'PSG', 'indices': [274, 278]}], 'symbols': [], 'user_mentions': [{'screen_name': 'Continental590', 'name': 'Radio Continental AM 590 y FM 104.3', 'id': 20552192, 'id_str': '20552192', 'indices': [257, 272]}], 'urls': []}, 'metadata': {'iso_language_code': 'fr', 'result_type': 'recent'}, 'source': '<a href=\"http://twitter.com/download/iphone\" rel=\"nofollow\">Twitter for iPhone</a>', 'in_reply_to_status_id': None, 'in_reply_to_status_id_str': None, 'in_reply_to_user_id': None, 'in_reply_to_user_id_str': None, 'in_reply_to_screen_name': None, 'user': {'id': 566504452, 'id_str': '566504452', 'name': 'Hadrien', 'screen_name': 'hadrien_grenier', 'location': 'Paris, France', 'description': 'Journaliste @le10sport et chroniqueur @LeComptoirPSG | Formé à @IEJ_Paris & @UnivCathoParis | PSG, Liga, football et Formule 1', 'url': 'https://t.co/BLyfzFo8RN', 'entities': {'url': {'urls': [{'url': 'https://t.co/BLyfzFo8RN', 'expanded_url': 'https://le10sport.com', 'display_url': 'le10sport.com', 'indices': [0, 23]}]}, 'description': {'urls': []}}, 'protected': False, 'followers_count': 21065, 'friends_count': 712, 'listed_count': 124, 'created_at': 'Sun Apr 29 17:30:22 +0000 2012', 'favourites_count': 38213, 'utc_offset': None, 'time_zone': None, 'geo_enabled': True, 'verified': False, 'statuses_count': 45336, 'lang': None, 'contributors_enabled': False, 'is_translator': False, 'is_translation_enabled': False, 'profile_background_color': '000000', 'profile_background_image_url': 'http://abs.twimg.com/images/themes/theme1/bg.png', 'profile_background_image_url_https': 'https://abs.twimg.com/images/themes/theme1/bg.png', 'profile_background_tile': False, 'profile_image_url': 'http://pbs.twimg.com/profile_images/1297655922316247040/RSCCp7dy_normal.jpg', 'profile_image_url_https': 'https://pbs.twimg.com/profile_images/1297655922316247040/RSCCp7dy_normal.jpg', 'profile_banner_url': 'https://pbs.twimg.com/profile_banners/566504452/1597795666', 'profile_link_color': 'E81C4F', 'profile_sidebar_border_color': '000000', 'profile_sidebar_fill_color': '000000', 'profile_text_color': '000000', 'profile_use_background_image': False, 'has_extended_profile': True, 'default_profile': False, 'default_profile_image': False, 'following': False, 'follow_request_sent': False, 'notifications': False, 'translator_type': 'none'}, 'geo': None, 'coordinates': None, 'place': None, 'contributors': None, 'is_quote_status': False, 'retweet_count': 78, 'favorite_count': 198, 'favorited': False, 'retweeted': False, 'lang': 'fr'}, 'is_quote_status': False, 'retweet_count': 78, 'favorite_count': 0, 'favorited': False, 'retweeted': False, 'lang': 'fr'}, {'created_at': 'Wed Sep 23 22:09:43 +0000 2020', 'id': 1308891320832987138, 'id_str': '1308891320832987138', 'full_text': 'TE DUELE https://t.co/I6ux8ZjGdP', 'truncated': False, 'display_text_range': [0, 8], 'entities': {'hashtags': [], 'symbols': [], 'user_mentions': [], 'urls': [], 'media': [{'id': 1308891317594927110, 'id_str': '1308891317594927110', 'indices': [9, 32], 'media_url': 'http://pbs.twimg.com/media/Eiodt_LWsAYmWHe.jpg', 'media_url_https': 'https://pbs.twimg.com/media/Eiodt_LWsAYmWHe.jpg', 'url': 'https://t.co/I6ux8ZjGdP', 'display_url': 'pic.twitter.com/I6ux8ZjGdP', 'expanded_url': 'https://twitter.com/VickySB9/status/1308891320832987138/photo/1', 'type': 'photo', 'sizes': {'thumb': {'w': 150, 'h': 150, 'resize': 'crop'}, 'large': {'w': 720, 'h': 725, 'resize': 'fit'}, 'medium': {'w': 720, 'h': 725, 'resize': 'fit'}, 'small': {'w': 675, 'h': 680, 'resize': 'fit'}}}]}, 'extended_entities': {'media': [{'id': 1308891317594927110, 'id_str': '1308891317594927110', 'indices': [9, 32], 'media_url': 'http://pbs.twimg.com/media/Eiodt_LWsAYmWHe.jpg', 'media_url_https': 'https://pbs.twimg.com/media/Eiodt_LWsAYmWHe.jpg', 'url': 'https://t.co/I6ux8ZjGdP', 'display_url': 'pic.twitter.com/I6ux8ZjGdP', 'expanded_url': 'https://twitter.com/VickySB9/status/1308891320832987138/photo/1', 'type': 'photo', 'sizes': {'thumb': {'w': 150, 'h': 150, 'resize': 'crop'}, 'large': {'w': 720, 'h': 725, 'resize': 'fit'}, 'medium': {'w': 720, 'h': 725, 'resize': 'fit'}, 'small': {'w': 675, 'h': 680, 'resize': 'fit'}}}]}, 'metadata': {'iso_language_code': 'it', 'result_type': 'recent'}, 'source': '<a href=\"http://twitter.com/download/android\" rel=\"nofollow\">Twitter for Android</a>', 'in_reply_to_status_id': None, 'in_reply_to_status_id_str': None, 'in_reply_to_user_id': None, 'in_reply_to_user_id_str': None, 'in_reply_to_screen_name': None, 'user': {'id': 1260204453040439296, 'id_str': '1260204453040439296', 'name': 'Vicky/SB👰🏻💗', 'screen_name': 'VickySB9', 'location': '', 'description': 'Lo que sueñas se cumplirá 💗💗💗', 'url': None, 'entities': {'description': {'urls': []}}, 'protected': False, 'followers_count': 119, 'friends_count': 290, 'listed_count': 0, 'created_at': 'Tue May 12 13:47:14 +0000 2020', 'favourites_count': 702, 'utc_offset': None, 'time_zone': None, 'geo_enabled': False, 'verified': False, 'statuses_count': 3154, 'lang': None, 'contributors_enabled': False, 'is_translator': False, 'is_translation_enabled': False, 'profile_background_color': 'F5F8FA', 'profile_background_image_url': None, 'profile_background_image_url_https': None, 'profile_background_tile': False, 'profile_image_url': 'http://pbs.twimg.com/profile_images/1260205336889298946/ZTShl5i4_normal.jpg', 'profile_image_url_https': 'https://pbs.twimg.com/profile_images/1260205336889298946/ZTShl5i4_normal.jpg', 'profile_banner_url': 'https://pbs.twimg.com/profile_banners/1260204453040439296/1589946434', 'profile_link_color': '1DA1F2', 'profile_sidebar_border_color': 'C0DEED', 'profile_sidebar_fill_color': 'DDEEF6', 'profile_text_color': '333333', 'profile_use_background_image': True, 'has_extended_profile': False, 'default_profile': True, 'default_profile_image': False, 'following': False, 'follow_request_sent': False, 'notifications': False, 'translator_type': 'none'}, 'geo': None, 'coordinates': None, 'place': None, 'contributors': None, 'is_quote_status': False, 'retweet_count': 0, 'favorite_count': 0, 'favorited': False, 'retweeted': False, 'possibly_sensitive': False, 'lang': 'it'}, {'created_at': 'Wed Sep 23 22:09:43 +0000 2020', 'id': 1308891320665206785, 'id_str': '1308891320665206785', 'full_text': '@stillaitana viste como se TE DUELE', 'truncated': False, 'display_text_range': [13, 35], 'entities': {'hashtags': [], 'symbols': [], 'user_mentions': [{'screen_name': 'stillaitana', 'name': 'juli ᵖ', 'id': 1190084132908552193, 'id_str': '1190084132908552193', 'indices': [0, 12]}], 'urls': []}, 'metadata': {'iso_language_code': 'es', 'result_type': 'recent'}, 'source': '<a href=\"https://mobile.twitter.com\" rel=\"nofollow\">Twitter Web App</a>', 'in_reply_to_status_id': 1308889015396040705, 'in_reply_to_status_id_str': '1308889015396040705', 'in_reply_to_user_id': 1190084132908552193, 'in_reply_to_user_id_str': '1190084132908552193', 'in_reply_to_screen_name': 'stillaitana', 'user': {'id': 207123866, 'id_str': '207123866', 'name': 'sofia', 'screen_name': 'herebytini', 'location': '', 'description': \"'te amo 'y yo mi vida, gracias, gracias mi amor'\\n\\n30/06/17 - 14/10/17 - 14/06/19\", 'url': None, 'entities': {'description': {'urls': []}}, 'protected': False, 'followers_count': 2898, 'friends_count': 617, 'listed_count': 20, 'created_at': 'Sun Oct 24 15:35:54 +0000 2010', 'favourites_count': 107868, 'utc_offset': None, 'time_zone': None, 'geo_enabled': False, 'verified': False, 'statuses_count': 100454, 'lang': None, 'contributors_enabled': False, 'is_translator': False, 'is_translation_enabled': False, 'profile_background_color': 'DD2E44', 'profile_background_image_url': 'http://abs.twimg.com/images/themes/theme11/bg.gif', 'profile_background_image_url_https': 'https://abs.twimg.com/images/themes/theme11/bg.gif', 'profile_background_tile': True, 'profile_image_url': 'http://pbs.twimg.com/profile_images/1303927606329446400/S4UL0xjT_normal.jpg', 'profile_image_url_https': 'https://pbs.twimg.com/profile_images/1303927606329446400/S4UL0xjT_normal.jpg', 'profile_banner_url': 'https://pbs.twimg.com/profile_banners/207123866/1599715541', 'profile_link_color': '91D2FA', 'profile_sidebar_border_color': 'FFFFFF', 'profile_sidebar_fill_color': 'DDEEF6', 'profile_text_color': '333333', 'profile_use_background_image': True, 'has_extended_profile': True, 'default_profile': False, 'default_profile_image': False, 'following': False, 'follow_request_sent': False, 'notifications': False, 'translator_type': 'regular'}, 'geo': None, 'coordinates': None, 'place': None, 'contributors': None, 'is_quote_status': False, 'retweet_count': 0, 'favorite_count': 0, 'favorited': False, 'retweeted': False, 'lang': 'es'}]\n"
     ]
    }
   ],
   "source": [
    "print(\"Contenido de tweets\")\n",
    "with open('data_nueva_4.json') as file:\n",
    "    data = json.load(file)\n",
    "    print(data)"
   ]
  },
  {
   "cell_type": "code",
   "execution_count": 25,
   "metadata": {},
   "outputs": [
    {
     "name": "stdout",
     "output_type": "stream",
     "text": [
      "Contenido primer tweet\n",
      "{'created_at': 'Wed Sep 23 22:09:42 +0000 2020', 'id': 1308891315506163713, 'id_str': '1308891315506163713', 'full_text': 'ESTAS FOTOS #LAPOSADAISOUT https://t.co/idSE4VXzSD', 'truncated': False, 'display_text_range': [0, 26], 'entities': {'hashtags': [{'text': 'LAPOSADAISOUT', 'indices': [12, 26]}], 'symbols': [], 'user_mentions': [], 'urls': [], 'media': [{'id': 1308891309449633792, 'id_str': '1308891309449633792', 'indices': [27, 50], 'media_url': 'http://pbs.twimg.com/media/Eiodtg1XYAAm4ST.jpg', 'media_url_https': 'https://pbs.twimg.com/media/Eiodtg1XYAAm4ST.jpg', 'url': 'https://t.co/idSE4VXzSD', 'display_url': 'pic.twitter.com/idSE4VXzSD', 'expanded_url': 'https://twitter.com/eilanrechx/status/1308891315506163713/photo/1', 'type': 'photo', 'sizes': {'thumb': {'w': 150, 'h': 150, 'resize': 'crop'}, 'small': {'w': 680, 'h': 511, 'resize': 'fit'}, 'large': {'w': 750, 'h': 564, 'resize': 'fit'}, 'medium': {'w': 750, 'h': 564, 'resize': 'fit'}}}]}, 'extended_entities': {'media': [{'id': 1308891309449633792, 'id_str': '1308891309449633792', 'indices': [27, 50], 'media_url': 'http://pbs.twimg.com/media/Eiodtg1XYAAm4ST.jpg', 'media_url_https': 'https://pbs.twimg.com/media/Eiodtg1XYAAm4ST.jpg', 'url': 'https://t.co/idSE4VXzSD', 'display_url': 'pic.twitter.com/idSE4VXzSD', 'expanded_url': 'https://twitter.com/eilanrechx/status/1308891315506163713/photo/1', 'type': 'photo', 'sizes': {'thumb': {'w': 150, 'h': 150, 'resize': 'crop'}, 'small': {'w': 680, 'h': 511, 'resize': 'fit'}, 'large': {'w': 750, 'h': 564, 'resize': 'fit'}, 'medium': {'w': 750, 'h': 564, 'resize': 'fit'}}}, {'id': 1308891309441155072, 'id_str': '1308891309441155072', 'indices': [27, 50], 'media_url': 'http://pbs.twimg.com/media/EiodtgzWAAAAqqy.jpg', 'media_url_https': 'https://pbs.twimg.com/media/EiodtgzWAAAAqqy.jpg', 'url': 'https://t.co/idSE4VXzSD', 'display_url': 'pic.twitter.com/idSE4VXzSD', 'expanded_url': 'https://twitter.com/eilanrechx/status/1308891315506163713/photo/1', 'type': 'photo', 'sizes': {'thumb': {'w': 150, 'h': 150, 'resize': 'crop'}, 'small': {'w': 680, 'h': 503, 'resize': 'fit'}, 'large': {'w': 750, 'h': 555, 'resize': 'fit'}, 'medium': {'w': 750, 'h': 555, 'resize': 'fit'}}}, {'id': 1308891309860675593, 'id_str': '1308891309860675593', 'indices': [27, 50], 'media_url': 'http://pbs.twimg.com/media/EiodtiXXYAkNDm9.jpg', 'media_url_https': 'https://pbs.twimg.com/media/EiodtiXXYAkNDm9.jpg', 'url': 'https://t.co/idSE4VXzSD', 'display_url': 'pic.twitter.com/idSE4VXzSD', 'expanded_url': 'https://twitter.com/eilanrechx/status/1308891315506163713/photo/1', 'type': 'photo', 'sizes': {'thumb': {'w': 150, 'h': 150, 'resize': 'crop'}, 'large': {'w': 750, 'h': 559, 'resize': 'fit'}, 'small': {'w': 680, 'h': 507, 'resize': 'fit'}, 'medium': {'w': 750, 'h': 559, 'resize': 'fit'}}}, {'id': 1308891310665986048, 'id_str': '1308891310665986048', 'indices': [27, 50], 'media_url': 'http://pbs.twimg.com/media/EiodtlXXcAAzz7s.jpg', 'media_url_https': 'https://pbs.twimg.com/media/EiodtlXXcAAzz7s.jpg', 'url': 'https://t.co/idSE4VXzSD', 'display_url': 'pic.twitter.com/idSE4VXzSD', 'expanded_url': 'https://twitter.com/eilanrechx/status/1308891315506163713/photo/1', 'type': 'photo', 'sizes': {'thumb': {'w': 150, 'h': 150, 'resize': 'crop'}, 'medium': {'w': 750, 'h': 564, 'resize': 'fit'}, 'small': {'w': 680, 'h': 511, 'resize': 'fit'}, 'large': {'w': 750, 'h': 564, 'resize': 'fit'}}}]}, 'metadata': {'iso_language_code': 'es', 'result_type': 'recent'}, 'source': '<a href=\"http://twitter.com/download/iphone\" rel=\"nofollow\">Twitter for iPhone</a>', 'in_reply_to_status_id': None, 'in_reply_to_status_id_str': None, 'in_reply_to_user_id': None, 'in_reply_to_user_id_str': None, 'in_reply_to_screen_name': None, 'user': {'id': 1169698304441143296, 'id_str': '1169698304441143296', 'name': 'eva🌹', 'screen_name': 'eilanrechx', 'location': '🥘🍊', 'description': 'natysolete supremacist || fan account', 'url': 'https://t.co/ijRXMIpeAI', 'entities': {'url': {'urls': [{'url': 'https://t.co/ijRXMIpeAI', 'expanded_url': 'https://curiouscat.qa/eilanrechx', 'display_url': 'curiouscat.qa/eilanrechx', 'indices': [0, 23]}]}, 'description': {'urls': []}}, 'protected': False, 'followers_count': 1295, 'friends_count': 573, 'listed_count': 27, 'created_at': 'Thu Sep 05 19:47:13 +0000 2019', 'favourites_count': 29811, 'utc_offset': None, 'time_zone': None, 'geo_enabled': False, 'verified': False, 'statuses_count': 22334, 'lang': None, 'contributors_enabled': False, 'is_translator': False, 'is_translation_enabled': False, 'profile_background_color': 'F5F8FA', 'profile_background_image_url': None, 'profile_background_image_url_https': None, 'profile_background_tile': False, 'profile_image_url': 'http://pbs.twimg.com/profile_images/1306232729709588480/sJ8sr-Up_normal.png', 'profile_image_url_https': 'https://pbs.twimg.com/profile_images/1306232729709588480/sJ8sr-Up_normal.png', 'profile_banner_url': 'https://pbs.twimg.com/profile_banners/1169698304441143296/1600431176', 'profile_link_color': '1DA1F2', 'profile_sidebar_border_color': 'C0DEED', 'profile_sidebar_fill_color': 'DDEEF6', 'profile_text_color': '333333', 'profile_use_background_image': True, 'has_extended_profile': True, 'default_profile': True, 'default_profile_image': False, 'following': False, 'follow_request_sent': False, 'notifications': False, 'translator_type': 'none'}, 'geo': None, 'coordinates': None, 'place': None, 'contributors': None, 'is_quote_status': False, 'retweet_count': 0, 'favorite_count': 0, 'favorited': False, 'retweeted': False, 'possibly_sensitive': False, 'lang': 'es'}\n"
     ]
    }
   ],
   "source": [
    "print(\"Contenido primer tweet\")\n",
    "with open('data_nueva_4.json') as file:\n",
    "    data = json.load(file)\n",
    "    print(data[0])"
   ]
  },
  {
   "cell_type": "code",
   "execution_count": 28,
   "metadata": {},
   "outputs": [
    {
     "name": "stdout",
     "output_type": "stream",
     "text": [
      "Tweet: 0\n",
      "screen name: eilanrechx\n",
      "name: eva🌹\n",
      "Tweet: 1\n",
      "screen name: MCsnflwr7\n",
      "name: M.C (Marce Cortés)\n",
      "Tweet: 2\n",
      "screen name: JacquesBoumtje\n",
      "name: Jiji 🇨🇲\n",
      "Tweet: 3\n",
      "screen name: San87Black\n",
      "name: sano\n",
      "Tweet: 4\n",
      "screen name: VickySB9\n",
      "name: Vicky/SB👰🏻💗\n",
      "Tweet: 5\n",
      "screen name: herebytini\n",
      "name: sofia\n"
     ]
    }
   ],
   "source": [
    "#Mostrar los usuarios de los tweets que son TT\n",
    "with open('data_nueva_4.json') as file:\n",
    "    data = json.load(file)\n",
    "\n",
    "i=0\n",
    "for tweet in data:\n",
    "    \n",
    "    print(\"Tweet: {0}\".format(i))\n",
    "    print(\"screen name:\",tweet['user']['screen_name'])\n",
    "    print(\"name:\",tweet['user']['name'])\n",
    "    i += 1"
   ]
  },
  {
   "cell_type": "code",
   "execution_count": 30,
   "metadata": {},
   "outputs": [
    {
     "name": "stdout",
     "output_type": "stream",
     "text": [
      "Tweet: 0 --------- \n",
      "ESTAS FOTOS #LAPOSADAISOUT https://t.co/idSE4VXzSD\n",
      "\n",
      "\n",
      "Tweet: 1 --------- \n",
      "#LaPosadaIsOut Bendiciones en la vida y esta canción de @sebascortesg y @_albxreche\n",
      "\n",
      "\n",
      "Tweet: 2 --------- \n",
      "RT @ActuFoot_: 🔴 Angel Di Maria écope de 4 matches de suspension pour avoir craché en direction d'Alvaro Gonzalez lors de #PSGOM.\n",
      "\n",
      "(@SaberD…\n",
      "\n",
      "\n",
      "Tweet: 3 --------- \n",
      "RT @hadrien_grenier: Angel Di Maria : « La sanction est dure et difficile, car nous n'allons pas jouer pendant la semaine, donc cela devien…\n",
      "\n",
      "\n",
      "Tweet: 4 --------- \n",
      "TE DUELE https://t.co/I6ux8ZjGdP\n",
      "\n",
      "\n",
      "Tweet: 5 --------- \n",
      "@stillaitana viste como se TE DUELE\n",
      "\n",
      "\n",
      "['ESTAS FOTOS #LAPOSADAISOUT https://t.co/idSE4VXzSD', '#LaPosadaIsOut Bendiciones en la vida y esta canción de @sebascortesg y @_albxreche', \"RT @ActuFoot_: 🔴 Angel Di Maria écope de 4 matches de suspension pour avoir craché en direction d'Alvaro Gonzalez lors de #PSGOM.\\n\\n(@SaberD…\", \"RT @hadrien_grenier: Angel Di Maria : «\\xa0La sanction est dure et difficile, car nous n'allons pas jouer pendant la semaine, donc cela devien…\", 'TE DUELE https://t.co/I6ux8ZjGdP', '@stillaitana viste como se TE DUELE']\n"
     ]
    }
   ],
   "source": [
    "#Obtengo el texto de los tweets\n",
    "with open('data_nueva_4.json') as file:\n",
    "    data = json.load(file)\n",
    "\n",
    "i=0\n",
    "texto_tweets = []\n",
    "for tweet in data:\n",
    "    print(\"Tweet: {0} --------- \".format(i))\n",
    "    print(tweet['full_text'])\n",
    "    print(\"\\n\")\n",
    "    texto_tweets.append(tweet['full_text'])\n",
    "    i += 1\n",
    "    \n",
    "print(texto_tweets)"
   ]
  },
  {
   "cell_type": "code",
   "execution_count": 31,
   "metadata": {},
   "outputs": [
    {
     "name": "stdout",
     "output_type": "stream",
     "text": [
      "estas\n",
      "fotos\n",
      "#laposadaisout\n",
      "https://t.co/idse4vxzsd#laposadaisout\n",
      "bendiciones\n",
      "en\n",
      "la\n",
      "vida\n",
      "y\n",
      "esta\n",
      "canción\n",
      "de\n",
      "@sebascortesg\n",
      "y\n",
      "@_albxrechert\n",
      "@actufoot_\n",
      "🔴\n",
      "angel\n",
      "di\n",
      "maria\n",
      "écope\n",
      "de\n",
      "4\n",
      "matches\n",
      "de\n",
      "suspension\n",
      "pour\n",
      "avoir\n",
      "craché\n",
      "en\n",
      "direction\n",
      "d'alvaro\n",
      "gonzalez\n",
      "lors\n",
      "de\n",
      "#psgom\n",
      "(@saberd…rt\n",
      "@hadrien_grenier\n",
      "angel\n",
      "di\n",
      "maria\n",
      "\n",
      "«\n",
      "la\n",
      "sanction\n",
      "est\n",
      "dure\n",
      "et\n",
      "difficile\n",
      "car\n",
      "nous\n",
      "n'allons\n",
      "pas\n",
      "jouer\n",
      "pendant\n",
      "la\n",
      "semaine\n",
      "donc\n",
      "cela\n",
      "devien…te\n",
      "duele\n",
      "https://t.co/i6ux8zjgdp@stillaitana\n",
      "viste\n",
      "como\n",
      "se\n",
      "te\n",
      "duele\n"
     ]
    }
   ],
   "source": [
    "#Obtener las cinco palabras mas usadas en los tweets anteriores\n",
    "\n",
    "texto = \"\"\n",
    "for tweet in texto_tweets:\n",
    "    texto += tweet\n",
    "\n",
    "palabras = texto.split()\n",
    "lista_palabras = []\n",
    "for palabra in palabras:\n",
    "    print(palabra.strip('‘’:;,.').lower())\n",
    "    lista_palabras.append(palabra.strip('‘’:;,.').lower())"
   ]
  },
  {
   "cell_type": "code",
   "execution_count": 32,
   "metadata": {},
   "outputs": [],
   "source": [
    "frecuenciaPalab = []\n",
    "for w in lista_palabras:\n",
    "    frecuenciaPalab.append(lista_palabras.count(w))"
   ]
  },
  {
   "cell_type": "code",
   "execution_count": 33,
   "metadata": {},
   "outputs": [],
   "source": [
    "#Español\n",
    "palabrasvac = ['él', 'ésta', 'éstas', 'éste', 'éstos']\n",
    "palabrasvac += ['última', 'últimas', 'último', 'últimos']\n",
    "palabrasvac += ['a', 'añadió', 'aún', 'actualmente', 'adelante']\n",
    "palabrasvac += ['además', 'afirmó', 'agregó', 'ahí', 'ahora', 'al']\n",
    "palabrasvac += ['algún', 'algo', 'alguna', 'algunas', 'alguno', 'algunos']\n",
    "palabrasvac += ['alrededor', 'ambos', 'ante', 'anterior', 'antes',]\n",
    "palabrasvac += ['apenas', 'aproximadamente', 'aquí', 'así']\n",
    "palabrasvac += ['aseguró', 'aunque', 'ayer', 'bajo', 'bien', 'buen']\n",
    "palabrasvac += ['buena', 'buenas', 'bueno', 'buenos', 'cómo', 'cada']\n",
    "palabrasvac += ['casi', 'cerca', 'cierto', 'cinco', 'comentó', 'como']\n",
    "palabrasvac += ['con', 'conocer', 'consideró', 'considera', 'contra']\n",
    "palabrasvac += ['cosas', 'creo', 'cual', 'cuales', 'cualquier', 'cuando']\n",
    "palabrasvac += ['cuanto', 'cuatro', 'cuenta', 'da', 'dado', 'dan', 'dar']\n",
    "palabrasvac += ['de', 'debe', 'deben', 'debido', 'decir', 'dejó', 'del']\n",
    "palabrasvac += ['demás', 'dentro', 'desde', 'después', 'dice', 'dicen']\n",
    "palabrasvac += ['dicho', 'dieron', 'diferente', 'diferentes', 'dijeron']\n",
    "palabrasvac += ['dijo', 'dio', 'donde', 'dos', 'durante', 'e', 'ejemplo']\n",
    "palabrasvac += ['el', 'ella', 'ellas', 'ello', 'ellos', 'embargo', 'en']\n",
    "palabrasvac += ['encuentra', 'entonces', 'entre', 'era', 'eran', 'es']\n",
    "palabrasvac += ['esa', 'esas', 'ese', 'eso', 'esos', 'está', 'están', 'esta']\n",
    "palabrasvac += ['estaba', 'estaban', 'estamos', 'estar', 'estará', 'estas']\n",
    "palabrasvac += ['este', 'esto', 'estos', 'estoy', 'estuvo', 'ex', 'existe']\n",
    "palabrasvac += ['existen', 'explicó', 'expresó', 'fin', 'fue', 'fuera']\n",
    "palabrasvac += ['fueron', 'gran', 'grandes', 'ha', 'había', 'habían']\n",
    "palabrasvac += ['haber', 'habrá', 'hace', 'hacen', 'hacer', 'hacerlo']\n",
    "palabrasvac += ['hacia', 'haciendo', 'han', 'hasta', 'hay', 'haya']\n",
    "palabrasvac += ['he', 'hecho', 'hemos', 'hicieron', 'hizo', 'hoy']\n",
    "palabrasvac += ['hubo', 'igual', 'incluso', 'indicó', 'informó']\n",
    "palabrasvac += ['junto', 'la', 'lado', 'las', 'le', 'les', 'llegó']\n",
    "palabrasvac += ['lleva', 'llevar', 'lo', 'los', 'luego', 'lugar']\n",
    "palabrasvac += ['más', 'manera', 'manifestó', 'mayor', 'me', 'mediante']\n",
    "palabrasvac += ['mejor', 'mencionó', 'menos', 'mi', 'mientras', 'misma']\n",
    "palabrasvac += ['mismas', 'mismo', 'mismos', 'momento', 'mucha', 'muchas']\n",
    "palabrasvac += ['mucho', 'muchos', 'muy', 'nada', 'nadie', 'ni', 'ningún']\n",
    "palabrasvac += ['ninguna', 'ningunas', 'ninguno', 'ningunos', 'no', 'nos']\n",
    "palabrasvac += ['nosotras', 'nosotros', 'nuestra', 'nuestras', 'nuestro']\n",
    "palabrasvac += ['nuestros', 'nueva', 'nuevas', 'nuevo', 'nuevos', 'nunca']\n",
    "palabrasvac += ['o', 'ocho', 'otra', 'otras', 'otro', 'otros', 'para']\n",
    "palabrasvac += ['parece', 'parte', 'partir', 'pasada', 'pasado', 'pero']\n",
    "palabrasvac += ['pesar', 'poca', 'pocas', 'poco', 'pocos', 'podemos']\n",
    "palabrasvac += ['podrá', 'podrán', 'podría', 'podrían', 'poner', 'por']\n",
    "palabrasvac += ['porque', 'posible', 'próximo', 'próximos', 'primer']\n",
    "palabrasvac += ['primera', 'primero', 'primeros', 'principalmente', 'propia']\n",
    "palabrasvac += ['propias', 'propio', 'propios', 'pudo', 'pueda']\n",
    "palabrasvac += ['puede', 'pueden', 'pues', 'qué', 'que', 'quedó']\n",
    "palabrasvac += ['queremos', 'quién', 'quien', 'quienes', 'quiere']\n",
    "palabrasvac += ['realizó', 'realizado', 'realizar', 'respecto', 'sí']\n",
    "palabrasvac += ['sólo', 'se', 'señaló', 'sea', 'sean', 'según', 'segunda']\n",
    "palabrasvac += ['segundo', 'seis', 'ser', 'será', 'serán', 'sería', 'si']\n",
    "palabrasvac += ['sido', 'siempre', 'siendo', 'siete', 'sigue', 'siguiente']\n",
    "palabrasvac += ['sin', 'sino', 'sobre', 'sola', 'solamente', 'solas', 'solo']\n",
    "palabrasvac += ['solos', 'son', 'su', 'sus', 'tal', 'también', 'tampoco']\n",
    "palabrasvac += ['tan', 'tanto', 'tenía', 'tendrá', 'tendrán', 'tenemos']\n",
    "palabrasvac += ['tener', 'tenga', 'tengo', 'tenido', 'tercera', 'tiene']\n",
    "palabrasvac += ['tienen', 'toda', 'todas', 'todavía', 'todo', 'todos']\n",
    "palabrasvac += ['total', 'tras', 'trata', 'través', 'tres', 'tuvo']\n",
    "palabrasvac += ['un', 'una', 'unas', 'uno', 'unos', 'usted', 'va']\n",
    "palabrasvac += ['vamos', 'van', 'varias', 'varios', 'veces', 'ver']\n",
    "palabrasvac += ['vez', 'y', 'ya', 'yo']\n",
    "\n",
    "#Ingles\n",
    "palabrasvac += ['a', 'about', 'above', 'across', 'after', 'afterwards']\n",
    "palabrasvac += ['again', 'against', 'all', 'almost', 'alone', 'along']\n",
    "palabrasvac += ['already', 'also', 'although', 'always', 'am', 'among']\n",
    "palabrasvac += ['amongst', 'amoungst', 'amount', 'an', 'and', 'another']\n",
    "palabrasvac += ['any', 'anyhow', 'anyone', 'anything', 'anyway', 'anywhere']\n",
    "palabrasvac += ['are', 'around', 'as', 'at', 'back', 'be', 'became']\n",
    "palabrasvac += ['because', 'become', 'becomes', 'becoming', 'been']\n",
    "palabrasvac += ['before', 'beforehand', 'behind', 'being', 'below']\n",
    "palabrasvac += ['beside', 'besides', 'between', 'beyond', 'bill', 'both']\n",
    "palabrasvac += ['bottom', 'but', 'by', 'call', 'can', 'cannot', 'cant']\n",
    "palabrasvac += ['co', 'computer', 'con', 'could', 'couldnt', 'cry', 'de']\n",
    "palabrasvac += ['describe', 'detail', 'did', 'do', 'done', 'down', 'due']\n",
    "palabrasvac += ['during', 'each', 'eg', 'eight', 'either', 'eleven', 'else']\n",
    "palabrasvac += ['elsewhere', 'empty', 'enough', 'etc', 'even', 'ever']\n",
    "palabrasvac += ['every', 'everyone', 'everything', 'everywhere', 'except']\n",
    "palabrasvac += ['few', 'fifteen', 'fifty', 'fill', 'find', 'fire', 'first']\n",
    "palabrasvac += ['five', 'for', 'former', 'formerly', 'forty', 'found']\n",
    "palabrasvac += ['four', 'from', 'front', 'full', 'further', 'get', 'give']\n",
    "palabrasvac += ['go', 'had', 'has', 'hasnt', 'have', 'he', 'hence', 'her']\n",
    "palabrasvac += ['here', 'hereafter', 'hereby', 'herein', 'hereupon', 'hers']\n",
    "palabrasvac += ['herself', 'him', 'himself', 'his', 'how', 'however']\n",
    "palabrasvac += ['hundred', 'i', 'ie', 'if', 'in', 'inc', 'indeed']\n",
    "palabrasvac += ['interest', 'into', 'is', 'it', 'its', 'itself', 'keep']\n",
    "palabrasvac += ['last', 'latter', 'latterly', 'least', 'less', 'ltd', 'made']\n",
    "palabrasvac += ['many', 'may', 'me', 'meanwhile', 'might', 'mill', 'mine']\n",
    "palabrasvac += ['more', 'moreover', 'most', 'mostly', 'move', 'much']\n",
    "palabrasvac += ['must', 'my', 'myself', 'name', 'namely', 'neither', 'never']\n",
    "palabrasvac += ['nevertheless', 'next', 'nine', 'no', 'nobody', 'none']\n",
    "palabrasvac += ['noone', 'nor', 'not', 'nothing', 'now', 'nowhere', 'of']\n",
    "palabrasvac += ['off', 'often', 'on','once', 'one', 'only', 'onto', 'or']\n",
    "palabrasvac += ['other', 'others', 'otherwise', 'our', 'ours', 'ourselves']\n",
    "palabrasvac += ['out', 'over', 'own', 'part', 'per', 'perhaps', 'please']\n",
    "palabrasvac += ['put', 'rather', 're', 's', 'same', 'see', 'seem', 'seemed']\n",
    "palabrasvac += ['seeming', 'seems', 'serious', 'several', 'she', 'should']\n",
    "palabrasvac += ['show', 'side', 'since', 'sincere', 'six', 'sixty', 'so']\n",
    "palabrasvac += ['some', 'somehow', 'someone', 'something', 'sometime']\n",
    "palabrasvac += ['sometimes', 'somewhere', 'still', 'such', 'system', 'take']\n",
    "palabrasvac += ['ten', 'than', 'that', 'the', 'their', 'them', 'themselves']\n",
    "palabrasvac += ['then', 'thence', 'there', 'thereafter', 'thereby']\n",
    "palabrasvac += ['therefore', 'therein', 'thereupon', 'these', 'they']\n",
    "palabrasvac += ['thick', 'thin', 'third', 'this', 'those', 'though', 'three']\n",
    "palabrasvac += ['three', 'through', 'throughout', 'thru', 'thus', 'to']\n",
    "palabrasvac += ['together', 'too', 'top', 'toward', 'towards', 'twelve']\n",
    "palabrasvac += ['twenty', 'two', 'un', 'under', 'until', 'up', 'upon']\n",
    "palabrasvac += ['us', 'very', 'via', 'was', 'we', 'well', 'were', 'what']\n",
    "palabrasvac += ['whatever', 'when', 'whence', 'whenever', 'where']\n",
    "palabrasvac += ['whereafter', 'whereas', 'whereby', 'wherein', 'whereupon']\n",
    "palabrasvac += ['wherever', 'whether', 'which', 'while', 'whither', 'who']\n",
    "palabrasvac += ['whoever', 'whole', 'whom', 'whose', 'why', 'will', 'with']\n",
    "palabrasvac += ['within', 'without', 'would', 'yet', 'you', 'your']\n",
    "palabrasvac += ['yours', 'yourself', 'yourselves']"
   ]
  },
  {
   "cell_type": "code",
   "execution_count": 34,
   "metadata": {},
   "outputs": [],
   "source": [
    "# Dada una lista de palabras, retira cualquiera que esté\n",
    "# en la lista de palabras funcionales.\n",
    "\n",
    "def quitarPalabrasvac(listaPalabras, palabrasvac):\n",
    "    return [w for w in listaPalabras if w not in palabrasvac]"
   ]
  },
  {
   "cell_type": "code",
   "execution_count": null,
   "metadata": {},
   "outputs": [],
   "source": []
  },
  {
   "cell_type": "code",
   "execution_count": 35,
   "metadata": {},
   "outputs": [],
   "source": [
    "# Dada una lista de palabras, devuelve un diccionario de\n",
    "# pares de palabra-frecuencia.\n",
    "def listaPalabrasDicFrec(listaPalabras):\n",
    "    frecuenciaPalab = [listaPalabras.count(p) for p in listaPalabras]\n",
    "    return dict(list(zip(listaPalabras,frecuenciaPalab)))"
   ]
  },
  {
   "cell_type": "code",
   "execution_count": 36,
   "metadata": {},
   "outputs": [],
   "source": [
    "# Ordena un diccionario de pares palabra-frecuencia en\n",
    "# orden de frecuencia descendente.\n",
    "\n",
    "def ordenaDicFrec(dicfrec):\n",
    "    aux = [(dicfrec[key], key) for key in dicfrec]\n",
    "    aux.sort()\n",
    "    aux.reverse()\n",
    "    return aux"
   ]
  },
  {
   "cell_type": "code",
   "execution_count": 43,
   "metadata": {},
   "outputs": [
    {
     "name": "stdout",
     "output_type": "stream",
     "text": [
      "(2, 'maria')\n",
      "(2, 'duele')\n",
      "(2, 'di')\n",
      "(2, 'angel')\n",
      "(1, '🔴')\n"
     ]
    }
   ],
   "source": [
    "#Muestro las 5 palabras mas usadas en los tweet que estan en TT\n",
    "lista_sin_pv = quitarPalabrasvac(lista_palabras, palabrasvac)\n",
    "diccionario = listaPalabrasDicFrec(lista_sin_pv)\n",
    "diccOrdenado = ordenaDicFrec(diccionario)\n",
    "\n",
    "for s in range(5): \n",
    "    print(diccOrdenado[s])"
   ]
  },
  {
   "cell_type": "code",
   "execution_count": 44,
   "metadata": {},
   "outputs": [
    {
     "name": "stdout",
     "output_type": "stream",
     "text": [
      "Tweet: 0 --------- \n",
      "1295\n",
      "\n",
      "\n"
     ]
    },
    {
     "ename": "NameError",
     "evalue": "name 'user' is not defined",
     "output_type": "error",
     "traceback": [
      "\u001b[0;31m---------------------------------------------------------------------------\u001b[0m",
      "\u001b[0;31mNameError\u001b[0m                                 Traceback (most recent call last)",
      "\u001b[0;32m<ipython-input-44-e033547e5729>\u001b[0m in \u001b[0;36m<module>\u001b[0;34m\u001b[0m\n\u001b[1;32m      9\u001b[0m     \u001b[0mprint\u001b[0m\u001b[0;34m(\u001b[0m\u001b[0mtweet\u001b[0m\u001b[0;34m[\u001b[0m\u001b[0;34m'user'\u001b[0m\u001b[0;34m]\u001b[0m\u001b[0;34m[\u001b[0m\u001b[0;34m'followers_count'\u001b[0m\u001b[0;34m]\u001b[0m\u001b[0;34m)\u001b[0m\u001b[0;34m\u001b[0m\u001b[0;34m\u001b[0m\u001b[0m\n\u001b[1;32m     10\u001b[0m     \u001b[0mprint\u001b[0m\u001b[0;34m(\u001b[0m\u001b[0;34m\"\\n\"\u001b[0m\u001b[0;34m)\u001b[0m\u001b[0;34m\u001b[0m\u001b[0;34m\u001b[0m\u001b[0m\n\u001b[0;32m---> 11\u001b[0;31m     \u001b[0mseguidores_tweets\u001b[0m\u001b[0;34m.\u001b[0m\u001b[0mappend\u001b[0m\u001b[0;34m(\u001b[0m\u001b[0;34m{\u001b[0m\u001b[0muser\u001b[0m\u001b[0;34m:\u001b[0m\u001b[0mtweet\u001b[0m\u001b[0;34m[\u001b[0m\u001b[0;34m'user'\u001b[0m\u001b[0;34m]\u001b[0m\u001b[0;34m[\u001b[0m\u001b[0;34m'id'\u001b[0m\u001b[0;34m]\u001b[0m\u001b[0;34m,\u001b[0m \u001b[0mseguidores\u001b[0m\u001b[0;34m:\u001b[0m\u001b[0mweet\u001b[0m\u001b[0;34m[\u001b[0m\u001b[0;34m'user'\u001b[0m\u001b[0;34m]\u001b[0m\u001b[0;34m[\u001b[0m\u001b[0;34m'followers_count'\u001b[0m\u001b[0;34m]\u001b[0m \u001b[0;34m}\u001b[0m\u001b[0;34m)\u001b[0m\u001b[0;34m\u001b[0m\u001b[0;34m\u001b[0m\u001b[0m\n\u001b[0m\u001b[1;32m     12\u001b[0m     \u001b[0mi\u001b[0m \u001b[0;34m+=\u001b[0m \u001b[0;36m1\u001b[0m\u001b[0;34m\u001b[0m\u001b[0;34m\u001b[0m\u001b[0m\n\u001b[1;32m     13\u001b[0m \u001b[0;34m\u001b[0m\u001b[0m\n",
      "\u001b[0;31mNameError\u001b[0m: name 'user' is not defined"
     ]
    }
   ],
   "source": [
    "#Obtengo el texto de los tweets\n",
    "with open('data_nueva_4.json') as file:\n",
    "    data = json.load(file)\n",
    "\n",
    "i=0\n",
    "seguidores_tweets = []\n",
    "for tweet in data:\n",
    "    print(\"Tweet: {0} --------- \".format(i))\n",
    "    print(tweet['user']['followers_count'])\n",
    "    print(\"\\n\")\n",
    "    #seguidores_tweets.append({user:tweet['user']['id'], seguidores:weet['user']['followers_count'] })\n",
    "    i += 1\n",
    "    \n",
    "print(seguidores_tweets)"
   ]
  },
  {
   "cell_type": "code",
   "execution_count": null,
   "metadata": {},
   "outputs": [],
   "source": []
  },
  {
   "cell_type": "code",
   "execution_count": null,
   "metadata": {},
   "outputs": [],
   "source": []
  },
  {
   "cell_type": "code",
   "execution_count": null,
   "metadata": {},
   "outputs": [],
   "source": []
  }
 ],
 "metadata": {
  "kernelspec": {
   "display_name": "Python 3",
   "language": "python",
   "name": "python3"
  },
  "language_info": {
   "codemirror_mode": {
    "name": "ipython",
    "version": 3
   },
   "file_extension": ".py",
   "mimetype": "text/x-python",
   "name": "python",
   "nbconvert_exporter": "python",
   "pygments_lexer": "ipython3",
   "version": "3.6.9"
  }
 },
 "nbformat": 4,
 "nbformat_minor": 4
}
