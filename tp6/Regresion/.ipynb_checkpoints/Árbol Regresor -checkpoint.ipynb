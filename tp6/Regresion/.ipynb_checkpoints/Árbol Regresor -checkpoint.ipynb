{
 "cells": [
  {
   "cell_type": "markdown",
   "metadata": {},
   "source": [
    "# Árbol de decisión regresor"
   ]
  },
  {
   "cell_type": "markdown",
   "metadata": {},
   "source": [
    "### 1. Realizamos las importaciones necesarias"
   ]
  },
  {
   "cell_type": "code",
   "execution_count": 1,
   "metadata": {},
   "outputs": [],
   "source": [
    "# Tratamiento de datos\n",
    "\n",
    "import numpy as np\n",
    "import pandas as pd\n",
    "\n",
    "# Gráficos\n",
    "\n",
    "import matplotlib.pyplot as plt\n",
    "\n",
    "# Preprocesado y modelado\n",
    "\n",
    "from sklearn.model_selection import train_test_split\n",
    "from sklearn.tree import DecisionTreeRegressor\n",
    "from sklearn.tree import plot_tree\n",
    "from sklearn.tree import export_graphviz\n",
    "from sklearn.tree import export_text\n",
    "from sklearn.model_selection import GridSearchCV\n",
    "from sklearn.metrics import mean_squared_error\n",
    "\n",
    "# Configuración warnings\n",
    "\n",
    "import warnings\n",
    "warnings.filterwarnings('once')"
   ]
  },
  {
   "cell_type": "markdown",
   "metadata": {},
   "source": [
    "### 2. Tomamos los datos del dataset Concrete_Data"
   ]
  },
  {
   "cell_type": "code",
   "execution_count": 2,
   "metadata": {},
   "outputs": [
    {
     "data": {
      "text/html": [
       "<div>\n",
       "<style scoped>\n",
       "    .dataframe tbody tr th:only-of-type {\n",
       "        vertical-align: middle;\n",
       "    }\n",
       "\n",
       "    .dataframe tbody tr th {\n",
       "        vertical-align: top;\n",
       "    }\n",
       "\n",
       "    .dataframe thead th {\n",
       "        text-align: right;\n",
       "    }\n",
       "</style>\n",
       "<table border=\"1\" class=\"dataframe\">\n",
       "  <thead>\n",
       "    <tr style=\"text-align: right;\">\n",
       "      <th></th>\n",
       "      <th>Cement (component 1)(kg in a m^3 mixture)</th>\n",
       "      <th>Blast Furnace Slag (component 2)(kg in a m^3 mixture)</th>\n",
       "      <th>Fly Ash (component 3)(kg in a m^3 mixture)</th>\n",
       "      <th>Water  (component 4)(kg in a m^3 mixture)</th>\n",
       "      <th>Superplasticizer (component 5)(kg in a m^3 mixture)</th>\n",
       "      <th>Coarse Aggregate  (component 6)(kg in a m^3 mixture)</th>\n",
       "      <th>Fine Aggregate (component 7)(kg in a m^3 mixture)</th>\n",
       "      <th>Age (day)</th>\n",
       "      <th>Concrete compressive strength(MPa, megapascals)</th>\n",
       "    </tr>\n",
       "  </thead>\n",
       "  <tbody>\n",
       "    <tr>\n",
       "      <th>0</th>\n",
       "      <td>540.0</td>\n",
       "      <td>0.0</td>\n",
       "      <td>0.0</td>\n",
       "      <td>162.0</td>\n",
       "      <td>2.5</td>\n",
       "      <td>1040.0</td>\n",
       "      <td>676.0</td>\n",
       "      <td>28</td>\n",
       "      <td>79.99</td>\n",
       "    </tr>\n",
       "    <tr>\n",
       "      <th>1</th>\n",
       "      <td>540.0</td>\n",
       "      <td>0.0</td>\n",
       "      <td>0.0</td>\n",
       "      <td>162.0</td>\n",
       "      <td>2.5</td>\n",
       "      <td>1055.0</td>\n",
       "      <td>676.0</td>\n",
       "      <td>28</td>\n",
       "      <td>61.89</td>\n",
       "    </tr>\n",
       "    <tr>\n",
       "      <th>2</th>\n",
       "      <td>332.5</td>\n",
       "      <td>142.5</td>\n",
       "      <td>0.0</td>\n",
       "      <td>228.0</td>\n",
       "      <td>0.0</td>\n",
       "      <td>932.0</td>\n",
       "      <td>594.0</td>\n",
       "      <td>270</td>\n",
       "      <td>40.27</td>\n",
       "    </tr>\n",
       "    <tr>\n",
       "      <th>3</th>\n",
       "      <td>332.5</td>\n",
       "      <td>142.5</td>\n",
       "      <td>0.0</td>\n",
       "      <td>228.0</td>\n",
       "      <td>0.0</td>\n",
       "      <td>932.0</td>\n",
       "      <td>594.0</td>\n",
       "      <td>365</td>\n",
       "      <td>41.05</td>\n",
       "    </tr>\n",
       "    <tr>\n",
       "      <th>4</th>\n",
       "      <td>198.6</td>\n",
       "      <td>132.4</td>\n",
       "      <td>0.0</td>\n",
       "      <td>192.0</td>\n",
       "      <td>0.0</td>\n",
       "      <td>978.4</td>\n",
       "      <td>825.5</td>\n",
       "      <td>360</td>\n",
       "      <td>44.30</td>\n",
       "    </tr>\n",
       "    <tr>\n",
       "      <th>...</th>\n",
       "      <td>...</td>\n",
       "      <td>...</td>\n",
       "      <td>...</td>\n",
       "      <td>...</td>\n",
       "      <td>...</td>\n",
       "      <td>...</td>\n",
       "      <td>...</td>\n",
       "      <td>...</td>\n",
       "      <td>...</td>\n",
       "    </tr>\n",
       "    <tr>\n",
       "      <th>1025</th>\n",
       "      <td>276.4</td>\n",
       "      <td>116.0</td>\n",
       "      <td>90.3</td>\n",
       "      <td>179.6</td>\n",
       "      <td>8.9</td>\n",
       "      <td>870.1</td>\n",
       "      <td>768.3</td>\n",
       "      <td>28</td>\n",
       "      <td>44.28</td>\n",
       "    </tr>\n",
       "    <tr>\n",
       "      <th>1026</th>\n",
       "      <td>322.2</td>\n",
       "      <td>0.0</td>\n",
       "      <td>115.6</td>\n",
       "      <td>196.0</td>\n",
       "      <td>10.4</td>\n",
       "      <td>817.9</td>\n",
       "      <td>813.4</td>\n",
       "      <td>28</td>\n",
       "      <td>31.18</td>\n",
       "    </tr>\n",
       "    <tr>\n",
       "      <th>1027</th>\n",
       "      <td>148.5</td>\n",
       "      <td>139.4</td>\n",
       "      <td>108.6</td>\n",
       "      <td>192.7</td>\n",
       "      <td>6.1</td>\n",
       "      <td>892.4</td>\n",
       "      <td>780.0</td>\n",
       "      <td>28</td>\n",
       "      <td>23.70</td>\n",
       "    </tr>\n",
       "    <tr>\n",
       "      <th>1028</th>\n",
       "      <td>159.1</td>\n",
       "      <td>186.7</td>\n",
       "      <td>0.0</td>\n",
       "      <td>175.6</td>\n",
       "      <td>11.3</td>\n",
       "      <td>989.6</td>\n",
       "      <td>788.9</td>\n",
       "      <td>28</td>\n",
       "      <td>32.77</td>\n",
       "    </tr>\n",
       "    <tr>\n",
       "      <th>1029</th>\n",
       "      <td>260.9</td>\n",
       "      <td>100.5</td>\n",
       "      <td>78.3</td>\n",
       "      <td>200.6</td>\n",
       "      <td>8.6</td>\n",
       "      <td>864.5</td>\n",
       "      <td>761.5</td>\n",
       "      <td>28</td>\n",
       "      <td>32.40</td>\n",
       "    </tr>\n",
       "  </tbody>\n",
       "</table>\n",
       "<p>1030 rows × 9 columns</p>\n",
       "</div>"
      ],
      "text/plain": [
       "      Cement (component 1)(kg in a m^3 mixture)  \\\n",
       "0                                         540.0   \n",
       "1                                         540.0   \n",
       "2                                         332.5   \n",
       "3                                         332.5   \n",
       "4                                         198.6   \n",
       "...                                         ...   \n",
       "1025                                      276.4   \n",
       "1026                                      322.2   \n",
       "1027                                      148.5   \n",
       "1028                                      159.1   \n",
       "1029                                      260.9   \n",
       "\n",
       "      Blast Furnace Slag (component 2)(kg in a m^3 mixture)  \\\n",
       "0                                                   0.0       \n",
       "1                                                   0.0       \n",
       "2                                                 142.5       \n",
       "3                                                 142.5       \n",
       "4                                                 132.4       \n",
       "...                                                 ...       \n",
       "1025                                              116.0       \n",
       "1026                                                0.0       \n",
       "1027                                              139.4       \n",
       "1028                                              186.7       \n",
       "1029                                              100.5       \n",
       "\n",
       "      Fly Ash (component 3)(kg in a m^3 mixture)  \\\n",
       "0                                            0.0   \n",
       "1                                            0.0   \n",
       "2                                            0.0   \n",
       "3                                            0.0   \n",
       "4                                            0.0   \n",
       "...                                          ...   \n",
       "1025                                        90.3   \n",
       "1026                                       115.6   \n",
       "1027                                       108.6   \n",
       "1028                                         0.0   \n",
       "1029                                        78.3   \n",
       "\n",
       "      Water  (component 4)(kg in a m^3 mixture)  \\\n",
       "0                                         162.0   \n",
       "1                                         162.0   \n",
       "2                                         228.0   \n",
       "3                                         228.0   \n",
       "4                                         192.0   \n",
       "...                                         ...   \n",
       "1025                                      179.6   \n",
       "1026                                      196.0   \n",
       "1027                                      192.7   \n",
       "1028                                      175.6   \n",
       "1029                                      200.6   \n",
       "\n",
       "      Superplasticizer (component 5)(kg in a m^3 mixture)  \\\n",
       "0                                                   2.5     \n",
       "1                                                   2.5     \n",
       "2                                                   0.0     \n",
       "3                                                   0.0     \n",
       "4                                                   0.0     \n",
       "...                                                 ...     \n",
       "1025                                                8.9     \n",
       "1026                                               10.4     \n",
       "1027                                                6.1     \n",
       "1028                                               11.3     \n",
       "1029                                                8.6     \n",
       "\n",
       "      Coarse Aggregate  (component 6)(kg in a m^3 mixture)  \\\n",
       "0                                                1040.0      \n",
       "1                                                1055.0      \n",
       "2                                                 932.0      \n",
       "3                                                 932.0      \n",
       "4                                                 978.4      \n",
       "...                                                 ...      \n",
       "1025                                              870.1      \n",
       "1026                                              817.9      \n",
       "1027                                              892.4      \n",
       "1028                                              989.6      \n",
       "1029                                              864.5      \n",
       "\n",
       "      Fine Aggregate (component 7)(kg in a m^3 mixture)  Age (day)  \\\n",
       "0                                                 676.0         28   \n",
       "1                                                 676.0         28   \n",
       "2                                                 594.0        270   \n",
       "3                                                 594.0        365   \n",
       "4                                                 825.5        360   \n",
       "...                                                 ...        ...   \n",
       "1025                                              768.3         28   \n",
       "1026                                              813.4         28   \n",
       "1027                                              780.0         28   \n",
       "1028                                              788.9         28   \n",
       "1029                                              761.5         28   \n",
       "\n",
       "      Concrete compressive strength(MPa, megapascals)   \n",
       "0                                                79.99  \n",
       "1                                                61.89  \n",
       "2                                                40.27  \n",
       "3                                                41.05  \n",
       "4                                                44.30  \n",
       "...                                                ...  \n",
       "1025                                             44.28  \n",
       "1026                                             31.18  \n",
       "1027                                             23.70  \n",
       "1028                                             32.77  \n",
       "1029                                             32.40  \n",
       "\n",
       "[1030 rows x 9 columns]"
      ]
     },
     "execution_count": 2,
     "metadata": {},
     "output_type": "execute_result"
    }
   ],
   "source": [
    "# En el archivo csv tenemos los predictores y la variable respuesta (concreto)\n",
    "datos = pd.read_csv(\"Concrete_Data.csv\")\n",
    "datos"
   ]
  },
  {
   "cell_type": "markdown",
   "metadata": {},
   "source": [
    "### 3. Renombramos las columnas por nombres mas cortos"
   ]
  },
  {
   "cell_type": "code",
   "execution_count": 13,
   "metadata": {},
   "outputs": [
    {
     "data": {
      "text/html": [
       "<div>\n",
       "<style scoped>\n",
       "    .dataframe tbody tr th:only-of-type {\n",
       "        vertical-align: middle;\n",
       "    }\n",
       "\n",
       "    .dataframe tbody tr th {\n",
       "        vertical-align: top;\n",
       "    }\n",
       "\n",
       "    .dataframe thead th {\n",
       "        text-align: right;\n",
       "    }\n",
       "</style>\n",
       "<table border=\"1\" class=\"dataframe\">\n",
       "  <thead>\n",
       "    <tr style=\"text-align: right;\">\n",
       "      <th></th>\n",
       "      <th>Cement</th>\n",
       "      <th>Blast_Furnace_Slag</th>\n",
       "      <th>Fly_Ash</th>\n",
       "      <th>Water</th>\n",
       "      <th>Superplasticizer</th>\n",
       "      <th>Coarse_Aggregate</th>\n",
       "      <th>Fine_Aggregate</th>\n",
       "      <th>Age</th>\n",
       "      <th>Concrete_compressive_strength</th>\n",
       "    </tr>\n",
       "  </thead>\n",
       "  <tbody>\n",
       "    <tr>\n",
       "      <th>0</th>\n",
       "      <td>540.0</td>\n",
       "      <td>0.0</td>\n",
       "      <td>0.0</td>\n",
       "      <td>162.0</td>\n",
       "      <td>2.5</td>\n",
       "      <td>1040.0</td>\n",
       "      <td>676.0</td>\n",
       "      <td>28</td>\n",
       "      <td>79.99</td>\n",
       "    </tr>\n",
       "    <tr>\n",
       "      <th>1</th>\n",
       "      <td>540.0</td>\n",
       "      <td>0.0</td>\n",
       "      <td>0.0</td>\n",
       "      <td>162.0</td>\n",
       "      <td>2.5</td>\n",
       "      <td>1055.0</td>\n",
       "      <td>676.0</td>\n",
       "      <td>28</td>\n",
       "      <td>61.89</td>\n",
       "    </tr>\n",
       "    <tr>\n",
       "      <th>2</th>\n",
       "      <td>332.5</td>\n",
       "      <td>142.5</td>\n",
       "      <td>0.0</td>\n",
       "      <td>228.0</td>\n",
       "      <td>0.0</td>\n",
       "      <td>932.0</td>\n",
       "      <td>594.0</td>\n",
       "      <td>270</td>\n",
       "      <td>40.27</td>\n",
       "    </tr>\n",
       "    <tr>\n",
       "      <th>3</th>\n",
       "      <td>332.5</td>\n",
       "      <td>142.5</td>\n",
       "      <td>0.0</td>\n",
       "      <td>228.0</td>\n",
       "      <td>0.0</td>\n",
       "      <td>932.0</td>\n",
       "      <td>594.0</td>\n",
       "      <td>365</td>\n",
       "      <td>41.05</td>\n",
       "    </tr>\n",
       "    <tr>\n",
       "      <th>4</th>\n",
       "      <td>198.6</td>\n",
       "      <td>132.4</td>\n",
       "      <td>0.0</td>\n",
       "      <td>192.0</td>\n",
       "      <td>0.0</td>\n",
       "      <td>978.4</td>\n",
       "      <td>825.5</td>\n",
       "      <td>360</td>\n",
       "      <td>44.30</td>\n",
       "    </tr>\n",
       "    <tr>\n",
       "      <th>...</th>\n",
       "      <td>...</td>\n",
       "      <td>...</td>\n",
       "      <td>...</td>\n",
       "      <td>...</td>\n",
       "      <td>...</td>\n",
       "      <td>...</td>\n",
       "      <td>...</td>\n",
       "      <td>...</td>\n",
       "      <td>...</td>\n",
       "    </tr>\n",
       "    <tr>\n",
       "      <th>1025</th>\n",
       "      <td>276.4</td>\n",
       "      <td>116.0</td>\n",
       "      <td>90.3</td>\n",
       "      <td>179.6</td>\n",
       "      <td>8.9</td>\n",
       "      <td>870.1</td>\n",
       "      <td>768.3</td>\n",
       "      <td>28</td>\n",
       "      <td>44.28</td>\n",
       "    </tr>\n",
       "    <tr>\n",
       "      <th>1026</th>\n",
       "      <td>322.2</td>\n",
       "      <td>0.0</td>\n",
       "      <td>115.6</td>\n",
       "      <td>196.0</td>\n",
       "      <td>10.4</td>\n",
       "      <td>817.9</td>\n",
       "      <td>813.4</td>\n",
       "      <td>28</td>\n",
       "      <td>31.18</td>\n",
       "    </tr>\n",
       "    <tr>\n",
       "      <th>1027</th>\n",
       "      <td>148.5</td>\n",
       "      <td>139.4</td>\n",
       "      <td>108.6</td>\n",
       "      <td>192.7</td>\n",
       "      <td>6.1</td>\n",
       "      <td>892.4</td>\n",
       "      <td>780.0</td>\n",
       "      <td>28</td>\n",
       "      <td>23.70</td>\n",
       "    </tr>\n",
       "    <tr>\n",
       "      <th>1028</th>\n",
       "      <td>159.1</td>\n",
       "      <td>186.7</td>\n",
       "      <td>0.0</td>\n",
       "      <td>175.6</td>\n",
       "      <td>11.3</td>\n",
       "      <td>989.6</td>\n",
       "      <td>788.9</td>\n",
       "      <td>28</td>\n",
       "      <td>32.77</td>\n",
       "    </tr>\n",
       "    <tr>\n",
       "      <th>1029</th>\n",
       "      <td>260.9</td>\n",
       "      <td>100.5</td>\n",
       "      <td>78.3</td>\n",
       "      <td>200.6</td>\n",
       "      <td>8.6</td>\n",
       "      <td>864.5</td>\n",
       "      <td>761.5</td>\n",
       "      <td>28</td>\n",
       "      <td>32.40</td>\n",
       "    </tr>\n",
       "  </tbody>\n",
       "</table>\n",
       "<p>1030 rows × 9 columns</p>\n",
       "</div>"
      ],
      "text/plain": [
       "      Cement  Blast_Furnace_Slag  Fly_Ash  Water  Superplasticizer  \\\n",
       "0      540.0                 0.0      0.0  162.0               2.5   \n",
       "1      540.0                 0.0      0.0  162.0               2.5   \n",
       "2      332.5               142.5      0.0  228.0               0.0   \n",
       "3      332.5               142.5      0.0  228.0               0.0   \n",
       "4      198.6               132.4      0.0  192.0               0.0   \n",
       "...      ...                 ...      ...    ...               ...   \n",
       "1025   276.4               116.0     90.3  179.6               8.9   \n",
       "1026   322.2                 0.0    115.6  196.0              10.4   \n",
       "1027   148.5               139.4    108.6  192.7               6.1   \n",
       "1028   159.1               186.7      0.0  175.6              11.3   \n",
       "1029   260.9               100.5     78.3  200.6               8.6   \n",
       "\n",
       "      Coarse_Aggregate  Fine_Aggregate  Age  Concrete_compressive_strength  \n",
       "0               1040.0           676.0   28                          79.99  \n",
       "1               1055.0           676.0   28                          61.89  \n",
       "2                932.0           594.0  270                          40.27  \n",
       "3                932.0           594.0  365                          41.05  \n",
       "4                978.4           825.5  360                          44.30  \n",
       "...                ...             ...  ...                            ...  \n",
       "1025             870.1           768.3   28                          44.28  \n",
       "1026             817.9           813.4   28                          31.18  \n",
       "1027             892.4           780.0   28                          23.70  \n",
       "1028             989.6           788.9   28                          32.77  \n",
       "1029             864.5           761.5   28                          32.40  \n",
       "\n",
       "[1030 rows x 9 columns]"
      ]
     },
     "execution_count": 13,
     "metadata": {},
     "output_type": "execute_result"
    }
   ],
   "source": [
    "# Renombramos columnas\n",
    "datos.rename(columns=\n",
    "             {'Cement (component 1)(kg in a m^3 mixture)': 'Cement',\n",
    "              'Blast Furnace Slag (component 2)(kg in a m^3 mixture)': 'Blast_Furnace_Slag',\n",
    "              'Fly Ash (component 3)(kg in a m^3 mixture)': 'Fly_Ash',\n",
    "              'Water  (component 4)(kg in a m^3 mixture)': 'Water',\n",
    "              'Superplasticizer (component 5)(kg in a m^3 mixture)': 'Superplasticizer',\n",
    "              'Coarse Aggregate  (component 6)(kg in a m^3 mixture)': 'Coarse_Aggregate',\n",
    "              'Fine Aggregate (component 7)(kg in a m^3 mixture)': 'Fine_Aggregate',\n",
    "              'Age (day)': 'Age',\n",
    "              'Concrete compressive strength(MPa, megapascals) ': 'Concrete_compressive_strength'\n",
    "             }, inplace=True)\n",
    "datos"
   ]
  },
  {
   "cell_type": "code",
   "execution_count": 14,
   "metadata": {},
   "outputs": [
    {
     "name": "stdout",
     "output_type": "stream",
     "text": [
      "<class 'pandas.core.frame.DataFrame'>\n",
      "RangeIndex: 1030 entries, 0 to 1029\n",
      "Data columns (total 9 columns):\n",
      " #   Column                         Non-Null Count  Dtype  \n",
      "---  ------                         --------------  -----  \n",
      " 0   Cement                         1030 non-null   float64\n",
      " 1   Blast_Furnace_Slag             1030 non-null   float64\n",
      " 2   Fly_Ash                        1030 non-null   float64\n",
      " 3   Water                          1030 non-null   float64\n",
      " 4   Superplasticizer               1030 non-null   float64\n",
      " 5   Coarse_Aggregate               1030 non-null   float64\n",
      " 6   Fine_Aggregate                 1030 non-null   float64\n",
      " 7   Age                            1030 non-null   int64  \n",
      " 8   Concrete_compressive_strength  1030 non-null   float64\n",
      "dtypes: float64(8), int64(1)\n",
      "memory usage: 72.5 KB\n"
     ]
    }
   ],
   "source": [
    "datos.info()"
   ]
  },
  {
   "cell_type": "markdown",
   "metadata": {},
   "source": [
    "### 4. Dividimos el dataset en dos, datos para entrenar y para testear"
   ]
  },
  {
   "cell_type": "code",
   "execution_count": 15,
   "metadata": {},
   "outputs": [],
   "source": [
    "# División de los datos en entrenamiento y test\n",
    "X_train, X_test, y_train, y_test = train_test_split(\n",
    "                                        datos.drop(columns = \"Concrete_compressive_strength\"),\n",
    "                                        datos['Concrete_compressive_strength'],\n",
    "                                        random_state = 123\n",
    "                                    )"
   ]
  },
  {
   "cell_type": "code",
   "execution_count": 16,
   "metadata": {},
   "outputs": [
    {
     "data": {
      "text/html": [
       "<div>\n",
       "<style scoped>\n",
       "    .dataframe tbody tr th:only-of-type {\n",
       "        vertical-align: middle;\n",
       "    }\n",
       "\n",
       "    .dataframe tbody tr th {\n",
       "        vertical-align: top;\n",
       "    }\n",
       "\n",
       "    .dataframe thead th {\n",
       "        text-align: right;\n",
       "    }\n",
       "</style>\n",
       "<table border=\"1\" class=\"dataframe\">\n",
       "  <thead>\n",
       "    <tr style=\"text-align: right;\">\n",
       "      <th></th>\n",
       "      <th>Cement</th>\n",
       "      <th>Blast_Furnace_Slag</th>\n",
       "      <th>Fly_Ash</th>\n",
       "      <th>Water</th>\n",
       "      <th>Superplasticizer</th>\n",
       "      <th>Coarse_Aggregate</th>\n",
       "      <th>Fine_Aggregate</th>\n",
       "      <th>Age</th>\n",
       "    </tr>\n",
       "  </thead>\n",
       "  <tbody>\n",
       "    <tr>\n",
       "      <th>886</th>\n",
       "      <td>148.0</td>\n",
       "      <td>0.0</td>\n",
       "      <td>137.0</td>\n",
       "      <td>158.0</td>\n",
       "      <td>16.0</td>\n",
       "      <td>1002.0</td>\n",
       "      <td>830.0</td>\n",
       "      <td>28</td>\n",
       "    </tr>\n",
       "    <tr>\n",
       "      <th>546</th>\n",
       "      <td>333.0</td>\n",
       "      <td>0.0</td>\n",
       "      <td>0.0</td>\n",
       "      <td>192.0</td>\n",
       "      <td>0.0</td>\n",
       "      <td>931.2</td>\n",
       "      <td>842.6</td>\n",
       "      <td>28</td>\n",
       "    </tr>\n",
       "    <tr>\n",
       "      <th>236</th>\n",
       "      <td>213.8</td>\n",
       "      <td>98.1</td>\n",
       "      <td>24.5</td>\n",
       "      <td>181.7</td>\n",
       "      <td>6.7</td>\n",
       "      <td>1066.0</td>\n",
       "      <td>785.5</td>\n",
       "      <td>28</td>\n",
       "    </tr>\n",
       "    <tr>\n",
       "      <th>773</th>\n",
       "      <td>382.0</td>\n",
       "      <td>0.0</td>\n",
       "      <td>0.0</td>\n",
       "      <td>186.0</td>\n",
       "      <td>0.0</td>\n",
       "      <td>1047.0</td>\n",
       "      <td>739.0</td>\n",
       "      <td>28</td>\n",
       "    </tr>\n",
       "    <tr>\n",
       "      <th>74</th>\n",
       "      <td>375.0</td>\n",
       "      <td>93.8</td>\n",
       "      <td>0.0</td>\n",
       "      <td>126.6</td>\n",
       "      <td>23.4</td>\n",
       "      <td>852.1</td>\n",
       "      <td>992.6</td>\n",
       "      <td>3</td>\n",
       "    </tr>\n",
       "    <tr>\n",
       "      <th>...</th>\n",
       "      <td>...</td>\n",
       "      <td>...</td>\n",
       "      <td>...</td>\n",
       "      <td>...</td>\n",
       "      <td>...</td>\n",
       "      <td>...</td>\n",
       "      <td>...</td>\n",
       "      <td>...</td>\n",
       "    </tr>\n",
       "    <tr>\n",
       "      <th>47</th>\n",
       "      <td>380.0</td>\n",
       "      <td>95.0</td>\n",
       "      <td>0.0</td>\n",
       "      <td>228.0</td>\n",
       "      <td>0.0</td>\n",
       "      <td>932.0</td>\n",
       "      <td>594.0</td>\n",
       "      <td>180</td>\n",
       "    </tr>\n",
       "    <tr>\n",
       "      <th>638</th>\n",
       "      <td>375.0</td>\n",
       "      <td>0.0</td>\n",
       "      <td>0.0</td>\n",
       "      <td>186.0</td>\n",
       "      <td>0.0</td>\n",
       "      <td>1038.0</td>\n",
       "      <td>758.0</td>\n",
       "      <td>28</td>\n",
       "    </tr>\n",
       "    <tr>\n",
       "      <th>113</th>\n",
       "      <td>389.9</td>\n",
       "      <td>189.0</td>\n",
       "      <td>0.0</td>\n",
       "      <td>145.9</td>\n",
       "      <td>22.0</td>\n",
       "      <td>944.7</td>\n",
       "      <td>755.8</td>\n",
       "      <td>7</td>\n",
       "    </tr>\n",
       "    <tr>\n",
       "      <th>96</th>\n",
       "      <td>425.0</td>\n",
       "      <td>106.3</td>\n",
       "      <td>0.0</td>\n",
       "      <td>151.4</td>\n",
       "      <td>18.6</td>\n",
       "      <td>936.0</td>\n",
       "      <td>803.7</td>\n",
       "      <td>7</td>\n",
       "    </tr>\n",
       "    <tr>\n",
       "      <th>106</th>\n",
       "      <td>362.6</td>\n",
       "      <td>189.0</td>\n",
       "      <td>0.0</td>\n",
       "      <td>164.9</td>\n",
       "      <td>11.6</td>\n",
       "      <td>944.7</td>\n",
       "      <td>755.8</td>\n",
       "      <td>7</td>\n",
       "    </tr>\n",
       "  </tbody>\n",
       "</table>\n",
       "<p>772 rows × 8 columns</p>\n",
       "</div>"
      ],
      "text/plain": [
       "     Cement  Blast_Furnace_Slag  Fly_Ash  Water  Superplasticizer  \\\n",
       "886   148.0                 0.0    137.0  158.0              16.0   \n",
       "546   333.0                 0.0      0.0  192.0               0.0   \n",
       "236   213.8                98.1     24.5  181.7               6.7   \n",
       "773   382.0                 0.0      0.0  186.0               0.0   \n",
       "74    375.0                93.8      0.0  126.6              23.4   \n",
       "..      ...                 ...      ...    ...               ...   \n",
       "47    380.0                95.0      0.0  228.0               0.0   \n",
       "638   375.0                 0.0      0.0  186.0               0.0   \n",
       "113   389.9               189.0      0.0  145.9              22.0   \n",
       "96    425.0               106.3      0.0  151.4              18.6   \n",
       "106   362.6               189.0      0.0  164.9              11.6   \n",
       "\n",
       "     Coarse_Aggregate  Fine_Aggregate  Age  \n",
       "886            1002.0           830.0   28  \n",
       "546             931.2           842.6   28  \n",
       "236            1066.0           785.5   28  \n",
       "773            1047.0           739.0   28  \n",
       "74              852.1           992.6    3  \n",
       "..                ...             ...  ...  \n",
       "47              932.0           594.0  180  \n",
       "638            1038.0           758.0   28  \n",
       "113             944.7           755.8    7  \n",
       "96              936.0           803.7    7  \n",
       "106             944.7           755.8    7  \n",
       "\n",
       "[772 rows x 8 columns]"
      ]
     },
     "execution_count": 16,
     "metadata": {},
     "output_type": "execute_result"
    }
   ],
   "source": [
    "X_train"
   ]
  },
  {
   "cell_type": "code",
   "execution_count": 19,
   "metadata": {},
   "outputs": [
    {
     "data": {
      "text/html": [
       "<div>\n",
       "<style scoped>\n",
       "    .dataframe tbody tr th:only-of-type {\n",
       "        vertical-align: middle;\n",
       "    }\n",
       "\n",
       "    .dataframe tbody tr th {\n",
       "        vertical-align: top;\n",
       "    }\n",
       "\n",
       "    .dataframe thead th {\n",
       "        text-align: right;\n",
       "    }\n",
       "</style>\n",
       "<table border=\"1\" class=\"dataframe\">\n",
       "  <thead>\n",
       "    <tr style=\"text-align: right;\">\n",
       "      <th></th>\n",
       "      <th>Cement</th>\n",
       "      <th>Blast_Furnace_Slag</th>\n",
       "      <th>Fly_Ash</th>\n",
       "      <th>Water</th>\n",
       "      <th>Superplasticizer</th>\n",
       "      <th>Coarse_Aggregate</th>\n",
       "      <th>Fine_Aggregate</th>\n",
       "      <th>Age</th>\n",
       "    </tr>\n",
       "  </thead>\n",
       "  <tbody>\n",
       "    <tr>\n",
       "      <th>134</th>\n",
       "      <td>362.6</td>\n",
       "      <td>189.0</td>\n",
       "      <td>0.0</td>\n",
       "      <td>164.9</td>\n",
       "      <td>11.6</td>\n",
       "      <td>944.7</td>\n",
       "      <td>755.8</td>\n",
       "      <td>28</td>\n",
       "    </tr>\n",
       "    <tr>\n",
       "      <th>13</th>\n",
       "      <td>190.0</td>\n",
       "      <td>190.0</td>\n",
       "      <td>0.0</td>\n",
       "      <td>228.0</td>\n",
       "      <td>0.0</td>\n",
       "      <td>932.0</td>\n",
       "      <td>670.0</td>\n",
       "      <td>90</td>\n",
       "    </tr>\n",
       "    <tr>\n",
       "      <th>996</th>\n",
       "      <td>152.6</td>\n",
       "      <td>238.7</td>\n",
       "      <td>0.0</td>\n",
       "      <td>200.0</td>\n",
       "      <td>6.3</td>\n",
       "      <td>1001.8</td>\n",
       "      <td>683.9</td>\n",
       "      <td>28</td>\n",
       "    </tr>\n",
       "    <tr>\n",
       "      <th>770</th>\n",
       "      <td>349.0</td>\n",
       "      <td>0.0</td>\n",
       "      <td>0.0</td>\n",
       "      <td>192.0</td>\n",
       "      <td>0.0</td>\n",
       "      <td>1047.0</td>\n",
       "      <td>806.0</td>\n",
       "      <td>3</td>\n",
       "    </tr>\n",
       "    <tr>\n",
       "      <th>937</th>\n",
       "      <td>313.3</td>\n",
       "      <td>0.0</td>\n",
       "      <td>113.0</td>\n",
       "      <td>178.5</td>\n",
       "      <td>8.0</td>\n",
       "      <td>1001.9</td>\n",
       "      <td>688.7</td>\n",
       "      <td>28</td>\n",
       "    </tr>\n",
       "    <tr>\n",
       "      <th>...</th>\n",
       "      <td>...</td>\n",
       "      <td>...</td>\n",
       "      <td>...</td>\n",
       "      <td>...</td>\n",
       "      <td>...</td>\n",
       "      <td>...</td>\n",
       "      <td>...</td>\n",
       "      <td>...</td>\n",
       "    </tr>\n",
       "    <tr>\n",
       "      <th>97</th>\n",
       "      <td>375.0</td>\n",
       "      <td>93.8</td>\n",
       "      <td>0.0</td>\n",
       "      <td>126.6</td>\n",
       "      <td>23.4</td>\n",
       "      <td>852.1</td>\n",
       "      <td>992.6</td>\n",
       "      <td>7</td>\n",
       "    </tr>\n",
       "    <tr>\n",
       "      <th>938</th>\n",
       "      <td>154.8</td>\n",
       "      <td>183.4</td>\n",
       "      <td>0.0</td>\n",
       "      <td>193.3</td>\n",
       "      <td>9.1</td>\n",
       "      <td>1047.4</td>\n",
       "      <td>696.7</td>\n",
       "      <td>28</td>\n",
       "    </tr>\n",
       "    <tr>\n",
       "      <th>294</th>\n",
       "      <td>168.9</td>\n",
       "      <td>42.2</td>\n",
       "      <td>124.2</td>\n",
       "      <td>158.3</td>\n",
       "      <td>10.8</td>\n",
       "      <td>1080.8</td>\n",
       "      <td>796.1</td>\n",
       "      <td>3</td>\n",
       "    </tr>\n",
       "    <tr>\n",
       "      <th>921</th>\n",
       "      <td>155.0</td>\n",
       "      <td>0.0</td>\n",
       "      <td>143.0</td>\n",
       "      <td>193.0</td>\n",
       "      <td>9.0</td>\n",
       "      <td>877.0</td>\n",
       "      <td>868.0</td>\n",
       "      <td>28</td>\n",
       "    </tr>\n",
       "    <tr>\n",
       "      <th>523</th>\n",
       "      <td>359.0</td>\n",
       "      <td>19.0</td>\n",
       "      <td>141.0</td>\n",
       "      <td>154.0</td>\n",
       "      <td>10.9</td>\n",
       "      <td>942.0</td>\n",
       "      <td>801.0</td>\n",
       "      <td>28</td>\n",
       "    </tr>\n",
       "  </tbody>\n",
       "</table>\n",
       "<p>258 rows × 8 columns</p>\n",
       "</div>"
      ],
      "text/plain": [
       "     Cement  Blast_Furnace_Slag  Fly_Ash  Water  Superplasticizer  \\\n",
       "134   362.6               189.0      0.0  164.9              11.6   \n",
       "13    190.0               190.0      0.0  228.0               0.0   \n",
       "996   152.6               238.7      0.0  200.0               6.3   \n",
       "770   349.0                 0.0      0.0  192.0               0.0   \n",
       "937   313.3                 0.0    113.0  178.5               8.0   \n",
       "..      ...                 ...      ...    ...               ...   \n",
       "97    375.0                93.8      0.0  126.6              23.4   \n",
       "938   154.8               183.4      0.0  193.3               9.1   \n",
       "294   168.9                42.2    124.2  158.3              10.8   \n",
       "921   155.0                 0.0    143.0  193.0               9.0   \n",
       "523   359.0                19.0    141.0  154.0              10.9   \n",
       "\n",
       "     Coarse_Aggregate  Fine_Aggregate  Age  \n",
       "134             944.7           755.8   28  \n",
       "13              932.0           670.0   90  \n",
       "996            1001.8           683.9   28  \n",
       "770            1047.0           806.0    3  \n",
       "937            1001.9           688.7   28  \n",
       "..                ...             ...  ...  \n",
       "97              852.1           992.6    7  \n",
       "938            1047.4           696.7   28  \n",
       "294            1080.8           796.1    3  \n",
       "921             877.0           868.0   28  \n",
       "523             942.0           801.0   28  \n",
       "\n",
       "[258 rows x 8 columns]"
      ]
     },
     "execution_count": 19,
     "metadata": {},
     "output_type": "execute_result"
    }
   ],
   "source": [
    "X_test"
   ]
  },
  {
   "cell_type": "code",
   "execution_count": 17,
   "metadata": {},
   "outputs": [
    {
     "data": {
      "text/plain": [
       "886    17.95\n",
       "546    31.97\n",
       "236    40.23\n",
       "773    37.42\n",
       "74     29.00\n",
       "       ...  \n",
       "47     40.76\n",
       "638    38.21\n",
       "113    59.09\n",
       "96     46.80\n",
       "106    55.90\n",
       "Name: Concrete_compressive_strength, Length: 772, dtype: float64"
      ]
     },
     "execution_count": 17,
     "metadata": {},
     "output_type": "execute_result"
    }
   ],
   "source": [
    "y_train"
   ]
  },
  {
   "cell_type": "code",
   "execution_count": 18,
   "metadata": {},
   "outputs": [
    {
     "data": {
      "text/plain": [
       "134    71.30\n",
       "13     42.33\n",
       "996    26.86\n",
       "770    14.99\n",
       "937    36.80\n",
       "       ...  \n",
       "97     45.70\n",
       "938    18.29\n",
       "294     7.40\n",
       "921     9.74\n",
       "523    62.94\n",
       "Name: Concrete_compressive_strength, Length: 258, dtype: float64"
      ]
     },
     "execution_count": 18,
     "metadata": {},
     "output_type": "execute_result"
    }
   ],
   "source": [
    "y_test"
   ]
  },
  {
   "cell_type": "markdown",
   "metadata": {},
   "source": [
    "### 5. Creamos el modelo de arbol regresor"
   ]
  },
  {
   "cell_type": "code",
   "execution_count": 20,
   "metadata": {},
   "outputs": [],
   "source": [
    "# Creación del modelo\n",
    "modelo = DecisionTreeRegressor(\n",
    "            max_depth         = 3,\n",
    "            random_state      = 123\n",
    "          )\n"
   ]
  },
  {
   "cell_type": "markdown",
   "metadata": {},
   "source": [
    "### 6. Entrenamos el modelo"
   ]
  },
  {
   "cell_type": "code",
   "execution_count": 21,
   "metadata": {},
   "outputs": [
    {
     "data": {
      "text/plain": [
       "DecisionTreeRegressor(max_depth=3, random_state=123)"
      ]
     },
     "execution_count": 21,
     "metadata": {},
     "output_type": "execute_result"
    }
   ],
   "source": [
    "# Entrenamiento del modelo\n",
    "modelo.fit(X_train, y_train)"
   ]
  },
  {
   "cell_type": "markdown",
   "metadata": {},
   "source": [
    "### 7. Graficamos el árbol"
   ]
  },
  {
   "cell_type": "code",
   "execution_count": 23,
   "metadata": {},
   "outputs": [
    {
     "name": "stdout",
     "output_type": "stream",
     "text": [
      "Profundidad del árbol: 3\n",
      "Número de nodos terminales: 8\n"
     ]
    },
    {
     "data": {
      "image/png": "[encoded data removed]",
      "text/plain": [
       "<Figure size 864x360 with 1 Axes>"
      ]
     },
     "metadata": {
      "needs_background": "light"
     },
     "output_type": "display_data"
    }
   ],
   "source": [
    "# Estructura del árbol creado\n",
    "\n",
    "fig, ax = plt.subplots(figsize=(12, 5))\n",
    "\n",
    "print(f\"Profundidad del árbol: {modelo.get_depth()}\")\n",
    "print(f\"Número de nodos terminales: {modelo.get_n_leaves()}\")\n",
    "\n",
    "plot = plot_tree(\n",
    "            decision_tree = modelo,\n",
    "            feature_names = datos.drop(columns = \"Concrete_compressive_strength\").columns,\n",
    "            class_names   = 'Concrete_compressive_strength',\n",
    "            filled        = True,\n",
    "            impurity      = False,\n",
    "            fontsize      = 10,\n",
    "            precision     = 2,\n",
    "            ax            = ax\n",
    "       )"
   ]
  },
  {
   "cell_type": "markdown",
   "metadata": {},
   "source": [
    "### 8. Indicamos cuales son las variables o predictores mas imporantes"
   ]
  },
  {
   "cell_type": "code",
   "execution_count": 72,
   "metadata": {},
   "outputs": [
    {
     "name": "stdout",
     "output_type": "stream",
     "text": [
      "Importancia de los predictores en el modelo\n"
     ]
    },
    {
     "data": {
      "text/html": [
       "<div>\n",
       "<style scoped>\n",
       "    .dataframe tbody tr th:only-of-type {\n",
       "        vertical-align: middle;\n",
       "    }\n",
       "\n",
       "    .dataframe tbody tr th {\n",
       "        vertical-align: top;\n",
       "    }\n",
       "\n",
       "    .dataframe thead th {\n",
       "        text-align: right;\n",
       "    }\n",
       "</style>\n",
       "<table border=\"1\" class=\"dataframe\">\n",
       "  <thead>\n",
       "    <tr style=\"text-align: right;\">\n",
       "      <th></th>\n",
       "      <th>predictor</th>\n",
       "      <th>importancia</th>\n",
       "    </tr>\n",
       "  </thead>\n",
       "  <tbody>\n",
       "    <tr>\n",
       "      <th>0</th>\n",
       "      <td>Cement</td>\n",
       "      <td>0.491008</td>\n",
       "    </tr>\n",
       "    <tr>\n",
       "      <th>7</th>\n",
       "      <td>Age</td>\n",
       "      <td>0.394467</td>\n",
       "    </tr>\n",
       "    <tr>\n",
       "      <th>3</th>\n",
       "      <td>Water</td>\n",
       "      <td>0.060344</td>\n",
       "    </tr>\n",
       "    <tr>\n",
       "      <th>4</th>\n",
       "      <td>Superplasticizer</td>\n",
       "      <td>0.036955</td>\n",
       "    </tr>\n",
       "    <tr>\n",
       "      <th>1</th>\n",
       "      <td>Blast_Furnace_Slag</td>\n",
       "      <td>0.017226</td>\n",
       "    </tr>\n",
       "    <tr>\n",
       "      <th>2</th>\n",
       "      <td>Fly_Ash</td>\n",
       "      <td>0.000000</td>\n",
       "    </tr>\n",
       "    <tr>\n",
       "      <th>5</th>\n",
       "      <td>Coarse_Aggregate</td>\n",
       "      <td>0.000000</td>\n",
       "    </tr>\n",
       "    <tr>\n",
       "      <th>6</th>\n",
       "      <td>Fine_Aggregate</td>\n",
       "      <td>0.000000</td>\n",
       "    </tr>\n",
       "  </tbody>\n",
       "</table>\n",
       "</div>"
      ],
      "text/plain": [
       "            predictor  importancia\n",
       "0              Cement     0.491008\n",
       "7                 Age     0.394467\n",
       "3               Water     0.060344\n",
       "4    Superplasticizer     0.036955\n",
       "1  Blast_Furnace_Slag     0.017226\n",
       "2             Fly_Ash     0.000000\n",
       "5    Coarse_Aggregate     0.000000\n",
       "6      Fine_Aggregate     0.000000"
      ]
     },
     "execution_count": 72,
     "metadata": {},
     "output_type": "execute_result"
    }
   ],
   "source": [
    "importancia_predictores = pd.DataFrame(\n",
    "                            {'predictor': datos.drop(columns = \"Concrete_compressive_strength\").columns,\n",
    "                             'importancia': modelo.feature_importances_}\n",
    "                            )\n",
    "print(\"Importancia de los predictores en el modelo\")\n",
    "importancia_predictores.sort_values('importancia', ascending=False)"
   ]
  },
  {
   "cell_type": "markdown",
   "metadata": {},
   "source": [
    "### 9. Podamos el arbol "
   ]
  },
  {
   "cell_type": "code",
   "execution_count": 61,
   "metadata": {},
   "outputs": [
    {
     "data": {
      "image/png": "[encoded data removed]",
      "text/plain": [
       "<Figure size 432x276.48 with 1 Axes>"
      ]
     },
     "metadata": {
      "needs_background": "light"
     },
     "output_type": "display_data"
    }
   ],
   "source": [
    "# Pruning (const complexity pruning) por validación cruzada\n",
    "\n",
    "# Valores de ccp_alpha evaluados\n",
    "param_grid = {'ccp_alpha':np.linspace(2, 82, 20)}\n",
    "param_grid\n",
    "\n",
    "# Búsqueda por validación cruzada\n",
    "grid = GridSearchCV(\n",
    "        # El árbol se crece al máximo posible para luego aplicar el pruning\n",
    "        estimator = DecisionTreeRegressor(\n",
    "                            max_depth         = None,\n",
    "                            min_samples_split = 2,\n",
    "                            min_samples_leaf  = 1,\n",
    "                            random_state      = 123\n",
    "                       ),\n",
    "        param_grid = param_grid,\n",
    "        cv         = 10,\n",
    "        refit      = True,\n",
    "        return_train_score = True\n",
    "      )\n",
    "\n",
    "grid.fit(X_train, y_train)\n",
    "\n",
    "fig, ax = plt.subplots(figsize=(6, 3.84))\n",
    "scores = pd.DataFrame(grid.cv_results_)\n",
    "scores.plot(x='param_ccp_alpha', y='mean_train_score', yerr='std_train_score', ax=ax)\n",
    "scores.plot(x='param_ccp_alpha', y='mean_test_score', yerr='std_test_score', ax=ax)\n",
    "ax.set_title(\"Error de validacion cruzada vs hiperparámetro ccp_alpha\");"
   ]
  },
  {
   "cell_type": "code",
   "execution_count": 62,
   "metadata": {},
   "outputs": [
    {
     "data": {
      "text/plain": [
       "{'ccp_alpha': 2.0}"
      ]
     },
     "execution_count": 62,
     "metadata": {},
     "output_type": "execute_result"
    }
   ],
   "source": [
    "# Mejor valor ccp_alpha encontrado\n",
    "grid.best_params_"
   ]
  },
  {
   "cell_type": "markdown",
   "metadata": {},
   "source": [
    "### 10. Graficamos el árbol final, despues de podarlo "
   ]
  },
  {
   "cell_type": "code",
   "execution_count": 70,
   "metadata": {
    "scrolled": true
   },
   "outputs": [
    {
     "name": "stdout",
     "output_type": "stream",
     "text": [
      "Profundidad del árbol: 7\n",
      "Número de nodos terminales: 21\n"
     ]
    },
    {
     "data": {
      "image/png": "[encoded data removed]",
      "text/plain": [
       "<Figure size 1944x1800 with 1 Axes>"
      ]
     },
     "metadata": {
      "needs_background": "light"
     },
     "output_type": "display_data"
    }
   ],
   "source": [
    "# Estructura del árbol final\n",
    "\n",
    "modelo_final = grid.best_estimator_\n",
    "print(f\"Profundidad del árbol: {modelo_final.get_depth()}\")\n",
    "print(f\"Número de nodos terminales: {modelo_final.get_n_leaves()}\")\n",
    "\n",
    "fig, ax = plt.subplots(figsize=(27, 25))\n",
    "plot = plot_tree(\n",
    "            decision_tree = modelo_final,\n",
    "            feature_names = datos.drop(columns = \"Concrete_compressive_strength\").columns,\n",
    "            class_names   = 'Concrete_compressive_strength',\n",
    "            filled        = True,\n",
    "            impurity      = False,\n",
    "            ax            = ax\n",
    "       )"
   ]
  },
  {
   "cell_type": "markdown",
   "metadata": {},
   "source": [
    "### 11. Como el grafico no se puede observar bien, se muestra en formato texto"
   ]
  },
  {
   "cell_type": "code",
   "execution_count": 71,
   "metadata": {
    "scrolled": true
   },
   "outputs": [
    {
     "name": "stdout",
     "output_type": "stream",
     "text": [
      "|--- Age <= 21.00\n",
      "|   |--- Cement <= 354.50\n",
      "|   |   |--- Superplasticizer <= 5.95\n",
      "|   |   |   |--- value: [14.77]\n",
      "|   |   |--- Superplasticizer >  5.95\n",
      "|   |   |   |--- Age <= 5.00\n",
      "|   |   |   |   |--- value: [19.12]\n",
      "|   |   |   |--- Age >  5.00\n",
      "|   |   |   |   |--- value: [32.92]\n",
      "|   |--- Cement >  354.50\n",
      "|   |   |--- Blast_Furnace_Slag <= 94.25\n",
      "|   |   |   |--- value: [31.39]\n",
      "|   |   |--- Blast_Furnace_Slag >  94.25\n",
      "|   |   |   |--- value: [43.80]\n",
      "|--- Age >  21.00\n",
      "|   |--- Cement <= 355.95\n",
      "|   |   |--- Cement <= 164.80\n",
      "|   |   |   |--- Blast_Furnace_Slag <= 115.50\n",
      "|   |   |   |   |--- value: [15.20]\n",
      "|   |   |   |--- Blast_Furnace_Slag >  115.50\n",
      "|   |   |   |   |--- value: [30.53]\n",
      "|   |   |--- Cement >  164.80\n",
      "|   |   |   |--- Blast_Furnace_Slag <= 14.30\n",
      "|   |   |   |   |--- Water <= 161.20\n",
      "|   |   |   |   |   |--- value: [47.03]\n",
      "|   |   |   |   |--- Water >  161.20\n",
      "|   |   |   |   |   |--- Age <= 42.00\n",
      "|   |   |   |   |   |   |--- value: [28.76]\n",
      "|   |   |   |   |   |--- Age >  42.00\n",
      "|   |   |   |   |   |   |--- value: [36.47]\n",
      "|   |   |   |--- Blast_Furnace_Slag >  14.30\n",
      "|   |   |   |   |--- Water <= 184.75\n",
      "|   |   |   |   |   |--- Blast_Furnace_Slag <= 163.50\n",
      "|   |   |   |   |   |   |--- value: [47.10]\n",
      "|   |   |   |   |   |--- Blast_Furnace_Slag >  163.50\n",
      "|   |   |   |   |   |   |--- Cement <= 208.00\n",
      "|   |   |   |   |   |   |   |--- value: [37.91]\n",
      "|   |   |   |   |   |   |--- Cement >  208.00\n",
      "|   |   |   |   |   |   |   |--- value: [67.67]\n",
      "|   |   |   |   |--- Water >  184.75\n",
      "|   |   |   |   |   |--- Fine_Aggregate <= 672.15\n",
      "|   |   |   |   |   |   |--- value: [47.14]\n",
      "|   |   |   |   |   |--- Fine_Aggregate >  672.15\n",
      "|   |   |   |   |   |   |--- Cement <= 318.70\n",
      "|   |   |   |   |   |   |   |--- value: [34.88]\n",
      "|   |   |   |   |   |   |--- Cement >  318.70\n",
      "|   |   |   |   |   |   |   |--- value: [55.72]\n",
      "|   |--- Cement >  355.95\n",
      "|   |   |--- Water <= 183.05\n",
      "|   |   |   |--- Blast_Furnace_Slag <= 170.10\n",
      "|   |   |   |   |--- value: [61.43]\n",
      "|   |   |   |--- Blast_Furnace_Slag >  170.10\n",
      "|   |   |   |   |--- value: [74.48]\n",
      "|   |   |--- Water >  183.05\n",
      "|   |   |   |--- Blast_Furnace_Slag <= 136.00\n",
      "|   |   |   |   |--- Cement <= 485.50\n",
      "|   |   |   |   |   |--- value: [41.56]\n",
      "|   |   |   |   |--- Cement >  485.50\n",
      "|   |   |   |   |   |--- value: [56.29]\n",
      "|   |   |   |--- Blast_Furnace_Slag >  136.00\n",
      "|   |   |   |   |--- value: [68.56]\n",
      "\n"
     ]
    }
   ],
   "source": [
    "texto_modelo = export_text(\n",
    "                    decision_tree = modelo_final,\n",
    "                    feature_names = list(datos.drop(columns = \"Concrete_compressive_strength\").columns)\n",
    "               )\n",
    "print(texto_modelo)"
   ]
  },
  {
   "cell_type": "markdown",
   "metadata": {},
   "source": [
    "### 12. Calculamos el error del modelo inicial y del modelo final podado"
   ]
  },
  {
   "cell_type": "code",
   "execution_count": 64,
   "metadata": {},
   "outputs": [
    {
     "name": "stdout",
     "output_type": "stream",
     "text": [
      "El error (rmse) de test es: 10.083934152928324\n"
     ]
    }
   ],
   "source": [
    "# Error de test del modelo inicial\n",
    "predicciones = modelo.predict(X = X_test)\n",
    "\n",
    "rmse = mean_squared_error(\n",
    "        y_true  = y_test,\n",
    "        y_pred  = predicciones,\n",
    "        squared = False\n",
    "       )\n",
    "print(f\"El error (rmse) de test es: {rmse}\")"
   ]
  },
  {
   "cell_type": "code",
   "execution_count": 65,
   "metadata": {},
   "outputs": [
    {
     "name": "stdout",
     "output_type": "stream",
     "text": [
      "El error (rmse) de test es: 8.489530628736132\n"
     ]
    }
   ],
   "source": [
    "# Error de test del modelo final (tras aplicar pruning)\n",
    "predicciones = modelo_final.predict(X = X_test)\n",
    "\n",
    "rmse = mean_squared_error(\n",
    "        y_true  = y_test,\n",
    "        y_pred  = predicciones,\n",
    "        squared = False\n",
    "       )\n",
    "print(f\"El error (rmse) de test es: {rmse}\")"
   ]
  },
  {
   "cell_type": "markdown",
   "metadata": {},
   "source": [
    "### 13. Realizamos una prediccion sobre los modelos"
   ]
  },
  {
   "cell_type": "markdown",
   "metadata": {},
   "source": [
    "a. Elegimos una fila del conjunto de datos del test"
   ]
  },
  {
   "cell_type": "code",
   "execution_count": 66,
   "metadata": {},
   "outputs": [
    {
     "data": {
      "text/html": [
       "<div>\n",
       "<style scoped>\n",
       "    .dataframe tbody tr th:only-of-type {\n",
       "        vertical-align: middle;\n",
       "    }\n",
       "\n",
       "    .dataframe tbody tr th {\n",
       "        vertical-align: top;\n",
       "    }\n",
       "\n",
       "    .dataframe thead th {\n",
       "        text-align: right;\n",
       "    }\n",
       "</style>\n",
       "<table border=\"1\" class=\"dataframe\">\n",
       "  <thead>\n",
       "    <tr style=\"text-align: right;\">\n",
       "      <th></th>\n",
       "      <th>Cement</th>\n",
       "      <th>Blast_Furnace_Slag</th>\n",
       "      <th>Fly_Ash</th>\n",
       "      <th>Water</th>\n",
       "      <th>Superplasticizer</th>\n",
       "      <th>Coarse_Aggregate</th>\n",
       "      <th>Fine_Aggregate</th>\n",
       "      <th>Age</th>\n",
       "    </tr>\n",
       "  </thead>\n",
       "  <tbody>\n",
       "    <tr>\n",
       "      <th>134</th>\n",
       "      <td>362.6</td>\n",
       "      <td>189.0</td>\n",
       "      <td>0.0</td>\n",
       "      <td>164.9</td>\n",
       "      <td>11.6</td>\n",
       "      <td>944.7</td>\n",
       "      <td>755.8</td>\n",
       "      <td>28</td>\n",
       "    </tr>\n",
       "  </tbody>\n",
       "</table>\n",
       "</div>"
      ],
      "text/plain": [
       "     Cement  Blast_Furnace_Slag  Fly_Ash  Water  Superplasticizer  \\\n",
       "134   362.6               189.0      0.0  164.9              11.6   \n",
       "\n",
       "     Coarse_Aggregate  Fine_Aggregate  Age  \n",
       "134             944.7           755.8   28  "
      ]
     },
     "execution_count": 66,
     "metadata": {},
     "output_type": "execute_result"
    }
   ],
   "source": [
    "ndf = X_test.head(1)\n",
    "ndf"
   ]
  },
  {
   "cell_type": "markdown",
   "metadata": {},
   "source": [
    "b. Realizamos una prediccion con el modelo final"
   ]
  },
  {
   "cell_type": "code",
   "execution_count": 67,
   "metadata": {},
   "outputs": [
    {
     "data": {
      "text/plain": [
       "array([74.47785714])"
      ]
     },
     "execution_count": 67,
     "metadata": {},
     "output_type": "execute_result"
    }
   ],
   "source": [
    "una_pred = modelo_final.predict(X = ndf)\n",
    "una_pred"
   ]
  },
  {
   "cell_type": "markdown",
   "metadata": {},
   "source": [
    "c. Realizamos una prediccion con el modelo inicial"
   ]
  },
  {
   "cell_type": "code",
   "execution_count": 68,
   "metadata": {},
   "outputs": [
    {
     "data": {
      "text/plain": [
       "array([64.04171429])"
      ]
     },
     "execution_count": 68,
     "metadata": {},
     "output_type": "execute_result"
    }
   ],
   "source": [
    "una_pred = modelo.predict(X = ndf)\n",
    "una_pred"
   ]
  },
  {
   "cell_type": "markdown",
   "metadata": {},
   "source": [
    "d. Comprobamos cual era el valor real"
   ]
  },
  {
   "cell_type": "code",
   "execution_count": 44,
   "metadata": {},
   "outputs": [
    {
     "data": {
      "text/plain": [
       "Cement                           362.6\n",
       "Blast_Furnace_Slag               189.0\n",
       "Fly_Ash                            0.0\n",
       "Water                            164.9\n",
       "Superplasticizer                  11.6\n",
       "Coarse_Aggregate                 944.7\n",
       "Fine_Aggregate                   755.8\n",
       "Age                               28.0\n",
       "Concrete_compressive_strength     71.3\n",
       "Name: 134, dtype: float64"
      ]
     },
     "execution_count": 44,
     "metadata": {},
     "output_type": "execute_result"
    }
   ],
   "source": [
    "df.iloc[134]"
   ]
  },
  {
   "cell_type": "markdown",
   "metadata": {},
   "source": [
    "Como conclusion, se tiene que el modelo final predice mejor que el inical, ya que el valor 74.4 es mucho mas cercano al 71.3(valor real), en comparacion con el valor 64.0 que devuelve el modelo inical. Tambien se puede observar que los valores de error antes menciondo para modelo se cumplen. El modelo inicial tiene un error de 10, en este caso un error aproximado de 7; y el modelo final tiene un error de 8, en este caso un error aproximado de 3. "
   ]
  }
 ],
 "metadata": {
  "kernelspec": {
   "display_name": "Python 3",
   "language": "python",
   "name": "python3"
  },
  "language_info": {
   "codemirror_mode": {
    "name": "ipython",
    "version": 3
   },
   "file_extension": ".py",
   "mimetype": "text/x-python",
   "name": "python",
   "nbconvert_exporter": "python",
   "pygments_lexer": "ipython3",
   "version": "3.6.9"
  }
 },
 "nbformat": 4,
 "nbformat_minor": 4
}
